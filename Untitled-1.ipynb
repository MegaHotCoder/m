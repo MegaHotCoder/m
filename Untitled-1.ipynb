{
 "cells": [
  {
   "cell_type": "code",
   "execution_count": 24,
   "metadata": {},
   "outputs": [
    {
     "name": "stdout",
     "output_type": "stream",
     "text": [
      "[['3', '2', '1']]\n",
      "[['3', '2', '1'], ['6', '5', '4']]\n",
      "[['3', '2', '1'], ['6', '5', '4'], ['9', '8', '7']]\n"
     ]
    }
   ],
   "source": [
    "n = int(input())\n",
    "lis = []\n",
    "home = []\n",
    "homelama = 0\n",
    "ans = 0\n",
    "\n",
    "for i in range(n):\n",
    "    a = input()\n",
    "    a = a.split()\n",
    "    lis.append(a)\n",
    "    print(lis)\n",
    "\n",
    "lis = [[int(item) for item in sublist] for sublist in lis]\n",
    "\n",
    "for i in range(n):\n",
    "    lis[i] = sorted(lis[i])\n",
    "\n",
    "for i in range(n):\n",
    "    home.append(lis.index(lis[0]))\n",
    "    \n",
    "    if i>0 and home[homelama - 1] == home[homelama]:\n",
    "        if lis[i-1] < lis[i]:\n",
    "            \n",
    "\n",
    "    ans = ans+lis[0]\n",
    "    homelama +=1\n",
    "    \n",
    "\n"
   ]
  },
  {
   "cell_type": "code",
   "execution_count": 25,
   "metadata": {},
   "outputs": [
    {
     "name": "stdout",
     "output_type": "stream",
     "text": [
      "[[1, 2, 3], [4, 5, 6], [7, 8, 9]]\n"
     ]
    }
   ],
   "source": [
    "print(lis)"
   ]
  },
  {
   "cell_type": "code",
   "execution_count": null,
   "metadata": {},
   "outputs": [],
   "source": []
  }
 ],
 "metadata": {
  "kernelspec": {
   "display_name": "base",
   "language": "python",
   "name": "python3"
  },
  "language_info": {
   "codemirror_mode": {
    "name": "ipython",
    "version": 3
   },
   "file_extension": ".py",
   "mimetype": "text/x-python",
   "name": "python",
   "nbconvert_exporter": "python",
   "pygments_lexer": "ipython3",
   "version": "3.11.5"
  }
 },
 "nbformat": 4,
 "nbformat_minor": 2
}
