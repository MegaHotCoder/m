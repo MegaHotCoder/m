{
  "nbformat": 4,
  "nbformat_minor": 0,
  "metadata": {
    "colab": {
      "provenance": [],
      "gpuType": "T4",
      "include_colab_link": true
    },
    "kernelspec": {
      "name": "python3",
      "display_name": "Python 3"
    },
    "language_info": {
      "name": "python"
    },
    "accelerator": "GPU"
  },
  "cells": [
    {
      "cell_type": "markdown",
      "metadata": {
        "id": "view-in-github",
        "colab_type": "text"
      },
      "source": [
        "<a href=\"https://colab.research.google.com/github/MegaHotCoder/m/blob/main/ML_firstKaggle.ipynb\" target=\"_parent\"><img src=\"https://colab.research.google.com/assets/colab-badge.svg\" alt=\"Open In Colab\"/></a>"
      ]
    },
    {
      "cell_type": "code",
      "execution_count": 403,
      "metadata": {
        "colab": {
          "base_uri": "https://localhost:8080/"
        },
        "id": "tZjpDn86GP2d",
        "outputId": "21e2603a-e98c-4ef7-a5f7-d72feca5593c"
      },
      "outputs": [
        {
          "output_type": "stream",
          "name": "stdout",
          "text": [
            "Drive already mounted at /content/gdrive/; to attempt to forcibly remount, call drive.mount(\"/content/gdrive/\", force_remount=True).\n"
          ]
        }
      ],
      "source": [
        "import pandas as pd\n",
        "import numpy as np\n",
        "import matplotlib.pyplot as plt\n",
        "import seaborn as sns\n",
        "from statsmodels.tsa.arima.model import ARIMA\n",
        "\n",
        "from google.colab import drive\n",
        "drive.mount('/content/gdrive/')\n"
      ]
    },
    {
      "cell_type": "code",
      "source": [
        "df = pd.read_csv('/content/gdrive/MyDrive/DataStore/train_dataset.csv')\n",
        "testD = pd.read_csv('/content/gdrive/MyDrive/DataStore/test_dataset.csv')"
      ],
      "metadata": {
        "id": "6P0bTZIsbCGc"
      },
      "execution_count": 404,
      "outputs": []
    },
    {
      "cell_type": "markdown",
      "source": [
        "# 코드 정렬"
      ],
      "metadata": {
        "id": "-sYNRFY3GWHu"
      }
    },
    {
      "cell_type": "code",
      "source": [
        "import re\n",
        "\n",
        "def sort_columns_by_suffix(df):\n",
        "    def split_col(col):\n",
        "        match = re.match(r'(.*)_(\\d+)$', col)\n",
        "        if match:\n",
        "            prefix, num = match.groups()\n",
        "            return (prefix, int(num))\n",
        "        else:\n",
        "            return (col, -1)  # 정렬 안 되는 항목은 맨 앞에\n",
        "\n",
        "    sorted_cols = sorted(df.columns, key=split_col)\n",
        "    return df[sorted_cols]\n",
        "\n",
        "df = sort_columns_by_suffix(df)\n",
        "testD = sort_columns_by_suffix(testD)"
      ],
      "metadata": {
        "id": "clVROV9zGXzo"
      },
      "execution_count": 405,
      "outputs": []
    },
    {
      "cell_type": "code",
      "source": [
        "print(df.columns.tolist())"
      ],
      "metadata": {
        "id": "kVVHaFTpGah_",
        "outputId": "53ef5f1b-c6d6-4fb7-8a9b-4b2a13d0c1cd",
        "colab": {
          "base_uri": "https://localhost:8080/"
        }
      },
      "execution_count": 406,
      "outputs": [
        {
          "output_type": "stream",
          "name": "stdout",
          "text": [
            "['climatology_temp', 'cloud_cover_0', 'cloud_cover_1', 'cloud_cover_2', 'cloud_cover_3', 'cloud_cover_4', 'cloud_cover_5', 'cloud_cover_6', 'cloud_cover_7', 'cloud_cover_8', 'cloud_cover_9', 'cloud_cover_10', 'cloud_cover_11', 'cloud_cover_12', 'cloud_cover_13', 'cloud_cover_14', 'cloud_cover_15', 'cloud_cover_16', 'cloud_cover_17', 'cloud_cover_18', 'cloud_cover_19', 'cloud_cover_20', 'cloud_cover_21', 'cloud_cover_22', 'cloud_cover_23', 'date', 'dew_point_0', 'dew_point_1', 'dew_point_2', 'dew_point_3', 'dew_point_4', 'dew_point_5', 'dew_point_6', 'dew_point_7', 'dew_point_8', 'dew_point_9', 'dew_point_10', 'dew_point_11', 'dew_point_12', 'dew_point_13', 'dew_point_14', 'dew_point_15', 'dew_point_16', 'dew_point_17', 'dew_point_18', 'dew_point_19', 'dew_point_20', 'dew_point_21', 'dew_point_22', 'dew_point_23', 'humidity_0', 'humidity_1', 'humidity_2', 'humidity_3', 'humidity_4', 'humidity_5', 'humidity_6', 'humidity_7', 'humidity_8', 'humidity_9', 'humidity_10', 'humidity_11', 'humidity_12', 'humidity_13', 'humidity_14', 'humidity_15', 'humidity_16', 'humidity_17', 'humidity_18', 'humidity_19', 'humidity_20', 'humidity_21', 'humidity_22', 'humidity_23', 'id', 'local_pressure_0', 'local_pressure_1', 'local_pressure_2', 'local_pressure_3', 'local_pressure_4', 'local_pressure_5', 'local_pressure_6', 'local_pressure_7', 'local_pressure_8', 'local_pressure_9', 'local_pressure_10', 'local_pressure_11', 'local_pressure_12', 'local_pressure_13', 'local_pressure_14', 'local_pressure_15', 'local_pressure_16', 'local_pressure_17', 'local_pressure_18', 'local_pressure_19', 'local_pressure_20', 'local_pressure_21', 'local_pressure_22', 'local_pressure_23', 'min_cloud_height_0', 'min_cloud_height_1', 'min_cloud_height_2', 'min_cloud_height_3', 'min_cloud_height_4', 'min_cloud_height_5', 'min_cloud_height_6', 'min_cloud_height_7', 'min_cloud_height_8', 'min_cloud_height_9', 'min_cloud_height_10', 'min_cloud_height_11', 'min_cloud_height_12', 'min_cloud_height_13', 'min_cloud_height_14', 'min_cloud_height_15', 'min_cloud_height_16', 'min_cloud_height_17', 'min_cloud_height_18', 'min_cloud_height_19', 'min_cloud_height_20', 'min_cloud_height_21', 'min_cloud_height_22', 'min_cloud_height_23', 'precipitation_0', 'precipitation_1', 'precipitation_2', 'precipitation_3', 'precipitation_4', 'precipitation_5', 'precipitation_6', 'precipitation_7', 'precipitation_8', 'precipitation_9', 'precipitation_10', 'precipitation_11', 'precipitation_12', 'precipitation_13', 'precipitation_14', 'precipitation_15', 'precipitation_16', 'precipitation_17', 'precipitation_18', 'precipitation_19', 'precipitation_20', 'precipitation_21', 'precipitation_22', 'precipitation_23', 'sea_level_pressure_0', 'sea_level_pressure_1', 'sea_level_pressure_2', 'sea_level_pressure_3', 'sea_level_pressure_4', 'sea_level_pressure_5', 'sea_level_pressure_6', 'sea_level_pressure_7', 'sea_level_pressure_8', 'sea_level_pressure_9', 'sea_level_pressure_10', 'sea_level_pressure_11', 'sea_level_pressure_12', 'sea_level_pressure_13', 'sea_level_pressure_14', 'sea_level_pressure_15', 'sea_level_pressure_16', 'sea_level_pressure_17', 'sea_level_pressure_18', 'sea_level_pressure_19', 'sea_level_pressure_20', 'sea_level_pressure_21', 'sea_level_pressure_22', 'sea_level_pressure_23', 'snow_depth_0', 'snow_depth_1', 'snow_depth_2', 'snow_depth_3', 'snow_depth_4', 'snow_depth_5', 'snow_depth_6', 'snow_depth_7', 'snow_depth_8', 'snow_depth_9', 'snow_depth_10', 'snow_depth_11', 'snow_depth_12', 'snow_depth_13', 'snow_depth_14', 'snow_depth_15', 'snow_depth_16', 'snow_depth_17', 'snow_depth_18', 'snow_depth_19', 'snow_depth_20', 'snow_depth_21', 'snow_depth_22', 'snow_depth_23', 'station', 'station_name', 'sunshine_duration_0', 'sunshine_duration_1', 'sunshine_duration_2', 'sunshine_duration_3', 'sunshine_duration_4', 'sunshine_duration_5', 'sunshine_duration_6', 'sunshine_duration_7', 'sunshine_duration_8', 'sunshine_duration_9', 'sunshine_duration_10', 'sunshine_duration_11', 'sunshine_duration_12', 'sunshine_duration_13', 'sunshine_duration_14', 'sunshine_duration_15', 'sunshine_duration_16', 'sunshine_duration_17', 'sunshine_duration_18', 'sunshine_duration_19', 'sunshine_duration_20', 'sunshine_duration_21', 'sunshine_duration_22', 'sunshine_duration_23', 'surface_temp_0', 'surface_temp_1', 'surface_temp_2', 'surface_temp_3', 'surface_temp_4', 'surface_temp_5', 'surface_temp_6', 'surface_temp_7', 'surface_temp_8', 'surface_temp_9', 'surface_temp_10', 'surface_temp_11', 'surface_temp_12', 'surface_temp_13', 'surface_temp_14', 'surface_temp_15', 'surface_temp_16', 'surface_temp_17', 'surface_temp_18', 'surface_temp_19', 'surface_temp_20', 'surface_temp_21', 'surface_temp_22', 'surface_temp_23', 'target', 'vapor_pressure_0', 'vapor_pressure_1', 'vapor_pressure_2', 'vapor_pressure_3', 'vapor_pressure_4', 'vapor_pressure_5', 'vapor_pressure_6', 'vapor_pressure_7', 'vapor_pressure_8', 'vapor_pressure_9', 'vapor_pressure_10', 'vapor_pressure_11', 'vapor_pressure_12', 'vapor_pressure_13', 'vapor_pressure_14', 'vapor_pressure_15', 'vapor_pressure_16', 'vapor_pressure_17', 'vapor_pressure_18', 'vapor_pressure_19', 'vapor_pressure_20', 'vapor_pressure_21', 'vapor_pressure_22', 'vapor_pressure_23', 'visibility_0', 'visibility_1', 'visibility_2', 'visibility_3', 'visibility_4', 'visibility_5', 'visibility_6', 'visibility_7', 'visibility_8', 'visibility_9', 'visibility_10', 'visibility_11', 'visibility_12', 'visibility_13', 'visibility_14', 'visibility_15', 'visibility_16', 'visibility_17', 'visibility_18', 'visibility_19', 'visibility_20', 'visibility_21', 'visibility_22', 'visibility_23', 'wind_direction_0', 'wind_direction_1', 'wind_direction_2', 'wind_direction_3', 'wind_direction_4', 'wind_direction_5', 'wind_direction_6', 'wind_direction_7', 'wind_direction_8', 'wind_direction_9', 'wind_direction_10', 'wind_direction_11', 'wind_direction_12', 'wind_direction_13', 'wind_direction_14', 'wind_direction_15', 'wind_direction_16', 'wind_direction_17', 'wind_direction_18', 'wind_direction_19', 'wind_direction_20', 'wind_direction_21', 'wind_direction_22', 'wind_direction_23', 'wind_speed_0', 'wind_speed_1', 'wind_speed_2', 'wind_speed_3', 'wind_speed_4', 'wind_speed_5', 'wind_speed_6', 'wind_speed_7', 'wind_speed_8', 'wind_speed_9', 'wind_speed_10', 'wind_speed_11', 'wind_speed_12', 'wind_speed_13', 'wind_speed_14', 'wind_speed_15', 'wind_speed_16', 'wind_speed_17', 'wind_speed_18', 'wind_speed_19', 'wind_speed_20', 'wind_speed_21', 'wind_speed_22', 'wind_speed_23']\n"
          ]
        }
      ]
    },
    {
      "cell_type": "markdown",
      "source": [
        "# **날짜**"
      ],
      "metadata": {
        "id": "WZQbRFc2k8S1"
      }
    },
    {
      "cell_type": "code",
      "source": [
        "nan_count = df['date'].isna().sum()\n",
        "print(nan_count)"
      ],
      "metadata": {
        "id": "EXbBOCisBMbJ",
        "outputId": "5104e36a-04cf-4fd2-f59a-f2aa5ec4fbf9",
        "colab": {
          "base_uri": "https://localhost:8080/"
        }
      },
      "execution_count": 407,
      "outputs": [
        {
          "output_type": "stream",
          "name": "stdout",
          "text": [
            "0\n"
          ]
        }
      ]
    },
    {
      "cell_type": "code",
      "source": [
        "# date 손보기\n",
        "df[['month', 'day']] = df['date'].str.split('-', expand=True)\n",
        "df['month'] = df['month'].astype(int)\n",
        "df['day'] = df['day'].astype(int)\n",
        "\n",
        "testD[['month', 'day']] = testD['date'].str.split('-', expand=True)\n",
        "testD['month'] = testD['month'].astype(int)\n",
        "testD['day'] = testD['day'].astype(int)"
      ],
      "metadata": {
        "id": "-CyaDYDOfkLd"
      },
      "execution_count": 408,
      "outputs": []
    },
    {
      "cell_type": "code",
      "source": [
        "df = df.drop('date', axis=1)"
      ],
      "metadata": {
        "id": "It5QF9I_ifY-"
      },
      "execution_count": 409,
      "outputs": []
    },
    {
      "cell_type": "code",
      "source": [
        "testD = testD.drop('date', axis = 1)"
      ],
      "metadata": {
        "id": "NphHfSWM6Lk5"
      },
      "execution_count": 410,
      "outputs": []
    },
    {
      "cell_type": "code",
      "source": [
        "df['month_sin'] = np.sin(2 * np.pi * df['month'] / 12)  # 월별 주기\n",
        "df['month_cos'] = np.cos(2 * np.pi * df['month'] / 12)\n",
        "\n",
        "# 2. day를 주기적 특성으로 변환\n",
        "df['day_sin'] = np.sin(2 * np.pi * df['day'] / 31)  # 31일 주기\n",
        "df['day_cos'] = np.cos(2 * np.pi * df['day'] / 31)\n",
        "\n",
        "# 3. 기존의 month와 day 컬럼은 drop\n",
        "\n",
        "# 1. month를 주기적 특성으로 변환\n",
        "testD['month_sin'] = np.sin(2 * np.pi * testD['month'] / 12)  # 월별 주기\n",
        "testD['month_cos'] = np.cos(2 * np.pi * testD['month'] / 12)\n",
        "\n",
        "# 2. day를 주기적 특성으로 변환\n",
        "testD['day_sin'] = np.sin(2 * np.pi * testD['day'] / 31)  # 31일 주기\n",
        "testD['day_cos'] = np.cos(2 * np.pi * testD['day'] / 31)"
      ],
      "metadata": {
        "id": "wZSnV_z2An2d"
      },
      "execution_count": 411,
      "outputs": []
    },
    {
      "cell_type": "markdown",
      "source": [
        "# station"
      ],
      "metadata": {
        "id": "FDiEt7WAARMo"
      }
    },
    {
      "cell_type": "code",
      "source": [
        "df[(df['station'] == 98) & (df['month'] == 1) & (df['day'] == 1)]"
      ],
      "metadata": {
        "id": "W371AEKVlVkn",
        "colab": {
          "base_uri": "https://localhost:8080/",
          "height": 287
        },
        "outputId": "47285143-78e5-4c4c-a0cb-ddce276bc5db"
      },
      "execution_count": 412,
      "outputs": [
        {
          "output_type": "execute_result",
          "data": {
            "text/plain": [
              "      climatology_temp  cloud_cover_0  cloud_cover_1  cloud_cover_2  \\\n",
              "0            -2.707143            0.0            0.0            0.0   \n",
              "365          -2.707143            9.0            8.0            9.0   \n",
              "731          -2.707143            0.0            0.0            0.0   \n",
              "1096         -2.707143            0.0            0.0            0.0   \n",
              "1460         -2.707143            0.0            3.0            0.0   \n",
              "1824         -2.707143            0.0            0.0            0.0   \n",
              "\n",
              "      cloud_cover_3  cloud_cover_4  cloud_cover_5  cloud_cover_6  \\\n",
              "0               0.0            2.0            2.0            8.0   \n",
              "365             9.0            9.0            8.0            8.0   \n",
              "731             0.0            0.0            0.0            0.0   \n",
              "1096            0.0            0.0            0.0            0.0   \n",
              "1460            0.0            1.0            0.0            0.0   \n",
              "1824            0.0            9.0            0.0            0.0   \n",
              "\n",
              "      cloud_cover_7  cloud_cover_8  ...  wind_speed_20  wind_speed_21  \\\n",
              "0               3.0            8.0  ...            4.1            2.5   \n",
              "365             9.0            9.0  ...            1.0            0.2   \n",
              "731             0.0            0.0  ...            0.7            0.3   \n",
              "1096            0.0            0.0  ...            0.1            0.2   \n",
              "1460            0.0            0.0  ...            1.2            1.6   \n",
              "1824            0.0            4.0  ...            0.1            0.1   \n",
              "\n",
              "      wind_speed_22  wind_speed_23  month  day  month_sin  month_cos  \\\n",
              "0               2.9            2.3      1    1        0.5   0.866025   \n",
              "365             0.9            0.6      1    1        0.5   0.866025   \n",
              "731             0.7            2.4      1    1        0.5   0.866025   \n",
              "1096            1.0            1.3      1    1        0.5   0.866025   \n",
              "1460            2.3            0.4      1    1        0.5   0.866025   \n",
              "1824            0.4            0.8      1    1        0.5   0.866025   \n",
              "\n",
              "       day_sin  day_cos  \n",
              "0     0.201299  0.97953  \n",
              "365   0.201299  0.97953  \n",
              "731   0.201299  0.97953  \n",
              "1096  0.201299  0.97953  \n",
              "1460  0.201299  0.97953  \n",
              "1824  0.201299  0.97953  \n",
              "\n",
              "[6 rows x 347 columns]"
            ],
            "text/html": [
              "\n",
              "  <div id=\"df-606232bd-7364-4684-b28c-f99ea65ef69a\" class=\"colab-df-container\">\n",
              "    <div>\n",
              "<style scoped>\n",
              "    .dataframe tbody tr th:only-of-type {\n",
              "        vertical-align: middle;\n",
              "    }\n",
              "\n",
              "    .dataframe tbody tr th {\n",
              "        vertical-align: top;\n",
              "    }\n",
              "\n",
              "    .dataframe thead th {\n",
              "        text-align: right;\n",
              "    }\n",
              "</style>\n",
              "<table border=\"1\" class=\"dataframe\">\n",
              "  <thead>\n",
              "    <tr style=\"text-align: right;\">\n",
              "      <th></th>\n",
              "      <th>climatology_temp</th>\n",
              "      <th>cloud_cover_0</th>\n",
              "      <th>cloud_cover_1</th>\n",
              "      <th>cloud_cover_2</th>\n",
              "      <th>cloud_cover_3</th>\n",
              "      <th>cloud_cover_4</th>\n",
              "      <th>cloud_cover_5</th>\n",
              "      <th>cloud_cover_6</th>\n",
              "      <th>cloud_cover_7</th>\n",
              "      <th>cloud_cover_8</th>\n",
              "      <th>...</th>\n",
              "      <th>wind_speed_20</th>\n",
              "      <th>wind_speed_21</th>\n",
              "      <th>wind_speed_22</th>\n",
              "      <th>wind_speed_23</th>\n",
              "      <th>month</th>\n",
              "      <th>day</th>\n",
              "      <th>month_sin</th>\n",
              "      <th>month_cos</th>\n",
              "      <th>day_sin</th>\n",
              "      <th>day_cos</th>\n",
              "    </tr>\n",
              "  </thead>\n",
              "  <tbody>\n",
              "    <tr>\n",
              "      <th>0</th>\n",
              "      <td>-2.707143</td>\n",
              "      <td>0.0</td>\n",
              "      <td>0.0</td>\n",
              "      <td>0.0</td>\n",
              "      <td>0.0</td>\n",
              "      <td>2.0</td>\n",
              "      <td>2.0</td>\n",
              "      <td>8.0</td>\n",
              "      <td>3.0</td>\n",
              "      <td>8.0</td>\n",
              "      <td>...</td>\n",
              "      <td>4.1</td>\n",
              "      <td>2.5</td>\n",
              "      <td>2.9</td>\n",
              "      <td>2.3</td>\n",
              "      <td>1</td>\n",
              "      <td>1</td>\n",
              "      <td>0.5</td>\n",
              "      <td>0.866025</td>\n",
              "      <td>0.201299</td>\n",
              "      <td>0.97953</td>\n",
              "    </tr>\n",
              "    <tr>\n",
              "      <th>365</th>\n",
              "      <td>-2.707143</td>\n",
              "      <td>9.0</td>\n",
              "      <td>8.0</td>\n",
              "      <td>9.0</td>\n",
              "      <td>9.0</td>\n",
              "      <td>9.0</td>\n",
              "      <td>8.0</td>\n",
              "      <td>8.0</td>\n",
              "      <td>9.0</td>\n",
              "      <td>9.0</td>\n",
              "      <td>...</td>\n",
              "      <td>1.0</td>\n",
              "      <td>0.2</td>\n",
              "      <td>0.9</td>\n",
              "      <td>0.6</td>\n",
              "      <td>1</td>\n",
              "      <td>1</td>\n",
              "      <td>0.5</td>\n",
              "      <td>0.866025</td>\n",
              "      <td>0.201299</td>\n",
              "      <td>0.97953</td>\n",
              "    </tr>\n",
              "    <tr>\n",
              "      <th>731</th>\n",
              "      <td>-2.707143</td>\n",
              "      <td>0.0</td>\n",
              "      <td>0.0</td>\n",
              "      <td>0.0</td>\n",
              "      <td>0.0</td>\n",
              "      <td>0.0</td>\n",
              "      <td>0.0</td>\n",
              "      <td>0.0</td>\n",
              "      <td>0.0</td>\n",
              "      <td>0.0</td>\n",
              "      <td>...</td>\n",
              "      <td>0.7</td>\n",
              "      <td>0.3</td>\n",
              "      <td>0.7</td>\n",
              "      <td>2.4</td>\n",
              "      <td>1</td>\n",
              "      <td>1</td>\n",
              "      <td>0.5</td>\n",
              "      <td>0.866025</td>\n",
              "      <td>0.201299</td>\n",
              "      <td>0.97953</td>\n",
              "    </tr>\n",
              "    <tr>\n",
              "      <th>1096</th>\n",
              "      <td>-2.707143</td>\n",
              "      <td>0.0</td>\n",
              "      <td>0.0</td>\n",
              "      <td>0.0</td>\n",
              "      <td>0.0</td>\n",
              "      <td>0.0</td>\n",
              "      <td>0.0</td>\n",
              "      <td>0.0</td>\n",
              "      <td>0.0</td>\n",
              "      <td>0.0</td>\n",
              "      <td>...</td>\n",
              "      <td>0.1</td>\n",
              "      <td>0.2</td>\n",
              "      <td>1.0</td>\n",
              "      <td>1.3</td>\n",
              "      <td>1</td>\n",
              "      <td>1</td>\n",
              "      <td>0.5</td>\n",
              "      <td>0.866025</td>\n",
              "      <td>0.201299</td>\n",
              "      <td>0.97953</td>\n",
              "    </tr>\n",
              "    <tr>\n",
              "      <th>1460</th>\n",
              "      <td>-2.707143</td>\n",
              "      <td>0.0</td>\n",
              "      <td>3.0</td>\n",
              "      <td>0.0</td>\n",
              "      <td>0.0</td>\n",
              "      <td>1.0</td>\n",
              "      <td>0.0</td>\n",
              "      <td>0.0</td>\n",
              "      <td>0.0</td>\n",
              "      <td>0.0</td>\n",
              "      <td>...</td>\n",
              "      <td>1.2</td>\n",
              "      <td>1.6</td>\n",
              "      <td>2.3</td>\n",
              "      <td>0.4</td>\n",
              "      <td>1</td>\n",
              "      <td>1</td>\n",
              "      <td>0.5</td>\n",
              "      <td>0.866025</td>\n",
              "      <td>0.201299</td>\n",
              "      <td>0.97953</td>\n",
              "    </tr>\n",
              "    <tr>\n",
              "      <th>1824</th>\n",
              "      <td>-2.707143</td>\n",
              "      <td>0.0</td>\n",
              "      <td>0.0</td>\n",
              "      <td>0.0</td>\n",
              "      <td>0.0</td>\n",
              "      <td>9.0</td>\n",
              "      <td>0.0</td>\n",
              "      <td>0.0</td>\n",
              "      <td>0.0</td>\n",
              "      <td>4.0</td>\n",
              "      <td>...</td>\n",
              "      <td>0.1</td>\n",
              "      <td>0.1</td>\n",
              "      <td>0.4</td>\n",
              "      <td>0.8</td>\n",
              "      <td>1</td>\n",
              "      <td>1</td>\n",
              "      <td>0.5</td>\n",
              "      <td>0.866025</td>\n",
              "      <td>0.201299</td>\n",
              "      <td>0.97953</td>\n",
              "    </tr>\n",
              "  </tbody>\n",
              "</table>\n",
              "<p>6 rows × 347 columns</p>\n",
              "</div>\n",
              "    <div class=\"colab-df-buttons\">\n",
              "      \n",
              "  <div class=\"colab-df-container\">\n",
              "    <button class=\"colab-df-convert\" onclick=\"convertToInteractive('df-606232bd-7364-4684-b28c-f99ea65ef69a')\"\n",
              "            title=\"Convert this dataframe to an interactive table.\"\n",
              "            style=\"display:none;\">\n",
              "      \n",
              "  <svg xmlns=\"http://www.w3.org/2000/svg\" height=\"24px\" viewBox=\"0 -960 960 960\">\n",
              "    <path d=\"M120-120v-720h720v720H120Zm60-500h600v-160H180v160Zm220 220h160v-160H400v160Zm0 220h160v-160H400v160ZM180-400h160v-160H180v160Zm440 0h160v-160H620v160ZM180-180h160v-160H180v160Zm440 0h160v-160H620v160Z\"/>\n",
              "  </svg>\n",
              "    </button>\n",
              "    \n",
              "  <style>\n",
              "    .colab-df-container {\n",
              "      display:flex;\n",
              "      gap: 12px;\n",
              "    }\n",
              "\n",
              "    .colab-df-convert {\n",
              "      background-color: #E8F0FE;\n",
              "      border: none;\n",
              "      border-radius: 50%;\n",
              "      cursor: pointer;\n",
              "      display: none;\n",
              "      fill: #1967D2;\n",
              "      height: 32px;\n",
              "      padding: 0 0 0 0;\n",
              "      width: 32px;\n",
              "    }\n",
              "\n",
              "    .colab-df-convert:hover {\n",
              "      background-color: #E2EBFA;\n",
              "      box-shadow: 0px 1px 2px rgba(60, 64, 67, 0.3), 0px 1px 3px 1px rgba(60, 64, 67, 0.15);\n",
              "      fill: #174EA6;\n",
              "    }\n",
              "\n",
              "    .colab-df-buttons div {\n",
              "      margin-bottom: 4px;\n",
              "    }\n",
              "\n",
              "    [theme=dark] .colab-df-convert {\n",
              "      background-color: #3B4455;\n",
              "      fill: #D2E3FC;\n",
              "    }\n",
              "\n",
              "    [theme=dark] .colab-df-convert:hover {\n",
              "      background-color: #434B5C;\n",
              "      box-shadow: 0px 1px 3px 1px rgba(0, 0, 0, 0.15);\n",
              "      filter: drop-shadow(0px 1px 2px rgba(0, 0, 0, 0.3));\n",
              "      fill: #FFFFFF;\n",
              "    }\n",
              "  </style>\n",
              "\n",
              "    <script>\n",
              "      const buttonEl =\n",
              "        document.querySelector('#df-606232bd-7364-4684-b28c-f99ea65ef69a button.colab-df-convert');\n",
              "      buttonEl.style.display =\n",
              "        google.colab.kernel.accessAllowed ? 'block' : 'none';\n",
              "\n",
              "      async function convertToInteractive(key) {\n",
              "        const element = document.querySelector('#df-606232bd-7364-4684-b28c-f99ea65ef69a');\n",
              "        const dataTable =\n",
              "          await google.colab.kernel.invokeFunction('convertToInteractive',\n",
              "                                                    [key], {});\n",
              "        if (!dataTable) return;\n",
              "\n",
              "        const docLinkHtml = 'Like what you see? Visit the ' +\n",
              "          '<a target=\"_blank\" href=https://colab.research.google.com/notebooks/data_table.ipynb>data table notebook</a>'\n",
              "          + ' to learn more about interactive tables.';\n",
              "        element.innerHTML = '';\n",
              "        dataTable['output_type'] = 'display_data';\n",
              "        await google.colab.output.renderOutput(dataTable, element);\n",
              "        const docLink = document.createElement('div');\n",
              "        docLink.innerHTML = docLinkHtml;\n",
              "        element.appendChild(docLink);\n",
              "      }\n",
              "    </script>\n",
              "  </div>\n",
              "  \n",
              "    </div>\n",
              "  </div>\n",
              "  "
            ]
          },
          "metadata": {},
          "execution_count": 412
        }
      ]
    },
    {
      "cell_type": "code",
      "source": [
        "#station 전부 삭제\n",
        "\n",
        "df = df.drop('station', axis=1)"
      ],
      "metadata": {
        "id": "_QnUsvsWo6lQ"
      },
      "execution_count": 413,
      "outputs": []
    },
    {
      "cell_type": "code",
      "source": [
        "testD = testD.drop('station', axis = 1)"
      ],
      "metadata": {
        "id": "ndfolr7F6YGq"
      },
      "execution_count": 414,
      "outputs": []
    },
    {
      "cell_type": "markdown",
      "source": [
        "# cloud cover 불측값 제거"
      ],
      "metadata": {
        "id": "_rBq61omAsai"
      }
    },
    {
      "cell_type": "code",
      "source": [
        "#cloud_cover불측값 관측\n",
        "\n",
        "for i in range(24):\n",
        "    col = f\"cloud_cover_{i}\"\n",
        "    nan_count = df[col].isna().sum()\n",
        "    neg_9999_count = (df[col] == -9999).sum()\n",
        "    print(f\"{col}: NaN = {nan_count}, -9999 = {neg_9999_count}\")"
      ],
      "metadata": {
        "id": "8_8HBo8WpJvj",
        "colab": {
          "base_uri": "https://localhost:8080/"
        },
        "outputId": "d6eda317-d221-4949-9c70-781e7eb1fae0"
      },
      "execution_count": 415,
      "outputs": [
        {
          "output_type": "stream",
          "name": "stdout",
          "text": [
            "cloud_cover_0: NaN = 187, -9999 = 0\n",
            "cloud_cover_1: NaN = 212, -9999 = 0\n",
            "cloud_cover_2: NaN = 196, -9999 = 0\n",
            "cloud_cover_3: NaN = 192, -9999 = 0\n",
            "cloud_cover_4: NaN = 200, -9999 = 0\n",
            "cloud_cover_5: NaN = 206, -9999 = 0\n",
            "cloud_cover_6: NaN = 209, -9999 = 0\n",
            "cloud_cover_7: NaN = 226, -9999 = 0\n",
            "cloud_cover_8: NaN = 230, -9999 = 0\n",
            "cloud_cover_9: NaN = 211, -9999 = 0\n",
            "cloud_cover_10: NaN = 216, -9999 = 0\n",
            "cloud_cover_11: NaN = 206, -9999 = 0\n",
            "cloud_cover_12: NaN = 201, -9999 = 0\n",
            "cloud_cover_13: NaN = 206, -9999 = 0\n",
            "cloud_cover_14: NaN = 213, -9999 = 0\n",
            "cloud_cover_15: NaN = 194, -9999 = 0\n",
            "cloud_cover_16: NaN = 208, -9999 = 0\n",
            "cloud_cover_17: NaN = 199, -9999 = 0\n",
            "cloud_cover_18: NaN = 196, -9999 = 0\n",
            "cloud_cover_19: NaN = 195, -9999 = 0\n",
            "cloud_cover_20: NaN = 197, -9999 = 0\n",
            "cloud_cover_21: NaN = 190, -9999 = 0\n",
            "cloud_cover_22: NaN = 185, -9999 = 0\n",
            "cloud_cover_23: NaN = 189, -9999 = 0\n"
          ]
        }
      ]
    },
    {
      "cell_type": "code",
      "source": [
        "import numpy as np\n",
        "from tqdm import tqdm\n",
        "import lightgbm as lgb\n",
        "\n",
        "def interpolate_cloud_cover(dataframe):\n",
        "    cloud_cols = [f'cloud_cover_{i}' for i in range(24)]\n",
        "\n",
        "    # 각 컬럼에 대해 처리\n",
        "    for col in tqdm(cloud_cols):\n",
        "        # lag 및 rolling feature 생성\n",
        "        dataframe[f'{col}_lag1'] = dataframe[col].shift(1)\n",
        "        dataframe[f'{col}_lag2'] = dataframe[col].shift(2)\n",
        "        dataframe[f'{col}_roll3'] = dataframe[col].rolling(window=3, min_periods=1).mean()\n",
        "\n",
        "        features = [\n",
        "            'month_sin', 'month_cos', 'day_sin', 'day_cos',\n",
        "            f'{col}_lag1', f'{col}_lag2', f'{col}_roll3',\n",
        "            # 'month', 'day' 삭제 - 이미 주기적 특성으로 대체됨\n",
        "        ]\n",
        "\n",
        "        # train 데이터와 test 데이터 나누기\n",
        "        train_data = dataframe[dataframe[col].notna()]\n",
        "        test_data = dataframe[dataframe[col].isna()]\n",
        "\n",
        "        # ⛔ 에러 방지: feature가 비어 있으면 스킵\n",
        "        if train_data[features].empty or test_data[features].empty:\n",
        "            print(f\"⚠️  Skip {col} - empty input\")\n",
        "            continue\n",
        "\n",
        "        X_train = train_data[features].fillna(-1)\n",
        "        y_train = train_data[col]\n",
        "        X_pred = test_data[features].fillna(-1)\n",
        "\n",
        "        model = lgb.LGBMRegressor(n_estimators=100, random_state=42)\n",
        "        model.fit(X_train, y_train)\n",
        "\n",
        "        dataframe.loc[dataframe[col].isna(), col] = model.predict(X_pred)\n",
        "\n",
        "    return dataframe\n",
        "\n",
        "# df와 testD 모두 처리\n",
        "df = interpolate_cloud_cover(df)\n",
        "testD = interpolate_cloud_cover(testD)"
      ],
      "metadata": {
        "id": "j9KhCNziKocx",
        "colab": {
          "base_uri": "https://localhost:8080/"
        },
        "outputId": "ab350125-b230-44d4-fcd1-f152bc1c9778"
      },
      "execution_count": 416,
      "outputs": [
        {
          "output_type": "stream",
          "name": "stderr",
          "text": [
            "\r  0%|          | 0/24 [00:00<?, ?it/s]"
          ]
        },
        {
          "output_type": "stream",
          "name": "stdout",
          "text": [
            "[LightGBM] [Info] Auto-choosing row-wise multi-threading, the overhead of testing was 0.000527 seconds.\n",
            "You can set `force_row_wise=true` to remove the overhead.\n",
            "And if memory is not enough, you can set `force_col_wise=true`.\n",
            "[LightGBM] [Info] Total Bins 137\n",
            "[LightGBM] [Info] Number of data points in the train set: 12945, number of used features: 7\n",
            "[LightGBM] [Info] Start training from score 2.915798\n"
          ]
        },
        {
          "output_type": "stream",
          "name": "stderr",
          "text": [
            "  8%|▊         | 2/24 [00:00<00:04,  5.07it/s]"
          ]
        },
        {
          "output_type": "stream",
          "name": "stdout",
          "text": [
            "[LightGBM] [Info] Auto-choosing row-wise multi-threading, the overhead of testing was 0.000508 seconds.\n",
            "You can set `force_row_wise=true` to remove the overhead.\n",
            "And if memory is not enough, you can set `force_col_wise=true`.\n",
            "[LightGBM] [Info] Total Bins 136\n",
            "[LightGBM] [Info] Number of data points in the train set: 12920, number of used features: 7\n",
            "[LightGBM] [Info] Start training from score 3.022291\n",
            "[LightGBM] [Info] Auto-choosing col-wise multi-threading, the overhead of testing was 0.001718 seconds.\n",
            "You can set `force_col_wise=true` to remove the overhead.\n",
            "[LightGBM] [Info] Total Bins 137\n",
            "[LightGBM] [Info] Number of data points in the train set: 12936, number of used features: 7\n",
            "[LightGBM] [Info] Start training from score 3.076531\n"
          ]
        },
        {
          "output_type": "stream",
          "name": "stderr",
          "text": [
            " 17%|█▋        | 4/24 [00:00<00:03,  5.01it/s]"
          ]
        },
        {
          "output_type": "stream",
          "name": "stdout",
          "text": [
            "[LightGBM] [Info] Auto-choosing row-wise multi-threading, the overhead of testing was 0.000577 seconds.\n",
            "You can set `force_row_wise=true` to remove the overhead.\n",
            "And if memory is not enough, you can set `force_col_wise=true`.\n",
            "[LightGBM] [Info] Total Bins 139\n",
            "[LightGBM] [Info] Number of data points in the train set: 12940, number of used features: 7\n",
            "[LightGBM] [Info] Start training from score 3.171329\n",
            "[LightGBM] [Info] Auto-choosing row-wise multi-threading, the overhead of testing was 0.000536 seconds.\n",
            "You can set `force_row_wise=true` to remove the overhead.\n",
            "And if memory is not enough, you can set `force_col_wise=true`.\n",
            "[LightGBM] [Info] Total Bins 138\n",
            "[LightGBM] [Info] Number of data points in the train set: 12932, number of used features: 7\n",
            "[LightGBM] [Info] Start training from score 3.284024\n"
          ]
        },
        {
          "output_type": "stream",
          "name": "stderr",
          "text": [
            " 25%|██▌       | 6/24 [00:01<00:03,  4.94it/s]"
          ]
        },
        {
          "output_type": "stream",
          "name": "stdout",
          "text": [
            "[LightGBM] [Info] Auto-choosing row-wise multi-threading, the overhead of testing was 0.000528 seconds.\n",
            "You can set `force_row_wise=true` to remove the overhead.\n",
            "And if memory is not enough, you can set `force_col_wise=true`.\n",
            "[LightGBM] [Info] Total Bins 139\n",
            "[LightGBM] [Info] Number of data points in the train set: 12926, number of used features: 7\n",
            "[LightGBM] [Info] Start training from score 3.322683\n",
            "[LightGBM] [Info] Auto-choosing row-wise multi-threading, the overhead of testing was 0.000541 seconds.\n",
            "You can set `force_row_wise=true` to remove the overhead.\n",
            "And if memory is not enough, you can set `force_col_wise=true`.\n",
            "[LightGBM] [Info] Total Bins 137\n",
            "[LightGBM] [Info] Number of data points in the train set: 12923, number of used features: 7\n",
            "[LightGBM] [Info] Start training from score 3.341252\n"
          ]
        },
        {
          "output_type": "stream",
          "name": "stderr",
          "text": [
            " 33%|███▎      | 8/24 [00:01<00:03,  4.93it/s]"
          ]
        },
        {
          "output_type": "stream",
          "name": "stdout",
          "text": [
            "[LightGBM] [Info] Auto-choosing row-wise multi-threading, the overhead of testing was 0.000597 seconds.\n",
            "You can set `force_row_wise=true` to remove the overhead.\n",
            "And if memory is not enough, you can set `force_col_wise=true`.\n",
            "[LightGBM] [Info] Total Bins 139\n",
            "[LightGBM] [Info] Number of data points in the train set: 12906, number of used features: 7\n",
            "[LightGBM] [Info] Start training from score 3.241206\n"
          ]
        },
        {
          "output_type": "stream",
          "name": "stderr",
          "text": [
            "\r 38%|███▊      | 9/24 [00:01<00:03,  4.92it/s]"
          ]
        },
        {
          "output_type": "stream",
          "name": "stdout",
          "text": [
            "[LightGBM] [Info] Auto-choosing row-wise multi-threading, the overhead of testing was 0.000456 seconds.\n",
            "You can set `force_row_wise=true` to remove the overhead.\n",
            "And if memory is not enough, you can set `force_col_wise=true`.\n",
            "[LightGBM] [Info] Total Bins 139\n",
            "[LightGBM] [Info] Number of data points in the train set: 12902, number of used features: 7\n",
            "[LightGBM] [Info] Start training from score 3.194543\n",
            "[LightGBM] [Info] Auto-choosing row-wise multi-threading, the overhead of testing was 0.000488 seconds.\n",
            "You can set `force_row_wise=true` to remove the overhead.\n",
            "And if memory is not enough, you can set `force_col_wise=true`.\n",
            "[LightGBM] [Info] Total Bins 139\n",
            "[LightGBM] [Info] Number of data points in the train set: 12921, number of used features: 7\n",
            "[LightGBM] [Info] Start training from score 3.207337\n"
          ]
        },
        {
          "output_type": "stream",
          "name": "stderr",
          "text": [
            " 46%|████▌     | 11/24 [00:02<00:02,  4.80it/s]"
          ]
        },
        {
          "output_type": "stream",
          "name": "stdout",
          "text": [
            "[LightGBM] [Info] Auto-choosing row-wise multi-threading, the overhead of testing was 0.000471 seconds.\n",
            "You can set `force_row_wise=true` to remove the overhead.\n",
            "And if memory is not enough, you can set `force_col_wise=true`.\n",
            "[LightGBM] [Info] Total Bins 138\n",
            "[LightGBM] [Info] Number of data points in the train set: 12916, number of used features: 7\n",
            "[LightGBM] [Info] Start training from score 3.126742\n"
          ]
        },
        {
          "output_type": "stream",
          "name": "stderr",
          "text": [
            "\r 50%|█████     | 12/24 [00:02<00:02,  4.87it/s]"
          ]
        },
        {
          "output_type": "stream",
          "name": "stdout",
          "text": [
            "[LightGBM] [Info] Auto-choosing row-wise multi-threading, the overhead of testing was 0.000530 seconds.\n",
            "You can set `force_row_wise=true` to remove the overhead.\n",
            "And if memory is not enough, you can set `force_col_wise=true`.\n",
            "[LightGBM] [Info] Total Bins 138\n",
            "[LightGBM] [Info] Number of data points in the train set: 12926, number of used features: 7\n",
            "[LightGBM] [Info] Start training from score 3.092063\n",
            "[LightGBM] [Info] Auto-choosing row-wise multi-threading, the overhead of testing was 0.000277 seconds.\n",
            "You can set `force_row_wise=true` to remove the overhead.\n",
            "And if memory is not enough, you can set `force_col_wise=true`.\n",
            "[LightGBM] [Info] Total Bins 138\n",
            "[LightGBM] [Info] Number of data points in the train set: 12931, number of used features: 7\n",
            "[LightGBM] [Info] Start training from score 3.046400\n"
          ]
        },
        {
          "output_type": "stream",
          "name": "stderr",
          "text": [
            " 58%|█████▊    | 14/24 [00:02<00:01,  5.81it/s]"
          ]
        },
        {
          "output_type": "stream",
          "name": "stdout",
          "text": [
            "[LightGBM] [Info] Auto-choosing row-wise multi-threading, the overhead of testing was 0.000306 seconds.\n",
            "You can set `force_row_wise=true` to remove the overhead.\n",
            "And if memory is not enough, you can set `force_col_wise=true`.\n",
            "[LightGBM] [Info] Total Bins 136\n",
            "[LightGBM] [Info] Number of data points in the train set: 12926, number of used features: 7\n",
            "[LightGBM] [Info] Start training from score 3.035046\n",
            "[LightGBM] [Info] Auto-choosing row-wise multi-threading, the overhead of testing was 0.000304 seconds.\n",
            "You can set `force_row_wise=true` to remove the overhead.\n",
            "And if memory is not enough, you can set `force_col_wise=true`.\n",
            "[LightGBM] [Info] Total Bins 138\n",
            "[LightGBM] [Info] Number of data points in the train set: 12919, number of used features: 7\n",
            "[LightGBM] [Info] Start training from score 2.992182\n"
          ]
        },
        {
          "output_type": "stream",
          "name": "stderr",
          "text": [
            " 67%|██████▋   | 16/24 [00:03<00:01,  6.32it/s]"
          ]
        },
        {
          "output_type": "stream",
          "name": "stdout",
          "text": [
            "[LightGBM] [Info] Auto-choosing row-wise multi-threading, the overhead of testing was 0.000279 seconds.\n",
            "You can set `force_row_wise=true` to remove the overhead.\n",
            "And if memory is not enough, you can set `force_col_wise=true`.\n",
            "[LightGBM] [Info] Total Bins 136\n",
            "[LightGBM] [Info] Number of data points in the train set: 12938, number of used features: 7\n",
            "[LightGBM] [Info] Start training from score 2.911115\n",
            "[LightGBM] [Info] Auto-choosing row-wise multi-threading, the overhead of testing was 0.000307 seconds.\n",
            "You can set `force_row_wise=true` to remove the overhead.\n",
            "And if memory is not enough, you can set `force_col_wise=true`.\n",
            "[LightGBM] [Info] Total Bins 137\n",
            "[LightGBM] [Info] Number of data points in the train set: 12924, number of used features: 7\n",
            "[LightGBM] [Info] Start training from score 2.839059\n"
          ]
        },
        {
          "output_type": "stream",
          "name": "stderr",
          "text": [
            " 75%|███████▌  | 18/24 [00:03<00:00,  6.76it/s]"
          ]
        },
        {
          "output_type": "stream",
          "name": "stdout",
          "text": [
            "[LightGBM] [Info] Auto-choosing row-wise multi-threading, the overhead of testing was 0.000274 seconds.\n",
            "You can set `force_row_wise=true` to remove the overhead.\n",
            "And if memory is not enough, you can set `force_col_wise=true`.\n",
            "[LightGBM] [Info] Total Bins 136\n",
            "[LightGBM] [Info] Number of data points in the train set: 12933, number of used features: 7\n",
            "[LightGBM] [Info] Start training from score 2.726746\n",
            "[LightGBM] [Info] Auto-choosing row-wise multi-threading, the overhead of testing was 0.000316 seconds.\n",
            "You can set `force_row_wise=true` to remove the overhead.\n",
            "And if memory is not enough, you can set `force_col_wise=true`.\n",
            "[LightGBM] [Info] Total Bins 135\n",
            "[LightGBM] [Info] Number of data points in the train set: 12936, number of used features: 7\n",
            "[LightGBM] [Info] Start training from score 2.617811\n"
          ]
        },
        {
          "output_type": "stream",
          "name": "stderr",
          "text": [
            " 83%|████████▎ | 20/24 [00:03<00:00,  6.92it/s]"
          ]
        },
        {
          "output_type": "stream",
          "name": "stdout",
          "text": [
            "[LightGBM] [Info] Auto-choosing row-wise multi-threading, the overhead of testing was 0.000300 seconds.\n",
            "You can set `force_row_wise=true` to remove the overhead.\n",
            "And if memory is not enough, you can set `force_col_wise=true`.\n",
            "[LightGBM] [Info] Total Bins 136\n",
            "[LightGBM] [Info] Number of data points in the train set: 12937, number of used features: 7\n",
            "[LightGBM] [Info] Start training from score 2.651697\n",
            "[LightGBM] [Info] Auto-choosing row-wise multi-threading, the overhead of testing was 0.000321 seconds.\n",
            "You can set `force_row_wise=true` to remove the overhead.\n",
            "And if memory is not enough, you can set `force_col_wise=true`.\n",
            "[LightGBM] [Info] Total Bins 135\n",
            "[LightGBM] [Info] Number of data points in the train set: 12935, number of used features: 7\n",
            "[LightGBM] [Info] Start training from score 2.765906\n"
          ]
        },
        {
          "output_type": "stream",
          "name": "stderr",
          "text": [
            " 92%|█████████▏| 22/24 [00:03<00:00,  6.92it/s]"
          ]
        },
        {
          "output_type": "stream",
          "name": "stdout",
          "text": [
            "[LightGBM] [Info] Auto-choosing row-wise multi-threading, the overhead of testing was 0.000300 seconds.\n",
            "You can set `force_row_wise=true` to remove the overhead.\n",
            "And if memory is not enough, you can set `force_col_wise=true`.\n",
            "[LightGBM] [Info] Total Bins 137\n",
            "[LightGBM] [Info] Number of data points in the train set: 12942, number of used features: 7\n",
            "[LightGBM] [Info] Start training from score 2.744244\n",
            "[LightGBM] [Info] Auto-choosing row-wise multi-threading, the overhead of testing was 0.000301 seconds.\n",
            "You can set `force_row_wise=true` to remove the overhead.\n",
            "And if memory is not enough, you can set `force_col_wise=true`.\n",
            "[LightGBM] [Info] Total Bins 134\n",
            "[LightGBM] [Info] Number of data points in the train set: 12947, number of used features: 7\n",
            "[LightGBM] [Info] Start training from score 2.816946\n"
          ]
        },
        {
          "output_type": "stream",
          "name": "stderr",
          "text": [
            "100%|██████████| 24/24 [00:04<00:00,  5.75it/s]\n"
          ]
        },
        {
          "output_type": "stream",
          "name": "stdout",
          "text": [
            "[LightGBM] [Info] Auto-choosing row-wise multi-threading, the overhead of testing was 0.000300 seconds.\n",
            "You can set `force_row_wise=true` to remove the overhead.\n",
            "And if memory is not enough, you can set `force_col_wise=true`.\n",
            "[LightGBM] [Info] Total Bins 137\n",
            "[LightGBM] [Info] Number of data points in the train set: 12943, number of used features: 7\n",
            "[LightGBM] [Info] Start training from score 2.860542\n"
          ]
        },
        {
          "output_type": "stream",
          "name": "stderr",
          "text": [
            "\r  0%|          | 0/24 [00:00<?, ?it/s]"
          ]
        },
        {
          "output_type": "stream",
          "name": "stdout",
          "text": [
            "[LightGBM] [Info] Auto-choosing row-wise multi-threading, the overhead of testing was 0.000072 seconds.\n",
            "You can set `force_row_wise=true` to remove the overhead.\n",
            "And if memory is not enough, you can set `force_col_wise=true`.\n",
            "[LightGBM] [Info] Total Bins 129\n",
            "[LightGBM] [Info] Number of data points in the train set: 3001, number of used features: 7\n",
            "[LightGBM] [Info] Start training from score 2.810730\n",
            "[LightGBM] [Info] Auto-choosing row-wise multi-threading, the overhead of testing was 0.000069 seconds.\n",
            "You can set `force_row_wise=true` to remove the overhead.\n",
            "And if memory is not enough, you can set `force_col_wise=true`.\n",
            "[LightGBM] [Info] Total Bins 130\n",
            "[LightGBM] [Info] Number of data points in the train set: 2999, number of used features: 7\n",
            "[LightGBM] [Info] Start training from score 2.873291\n"
          ]
        },
        {
          "output_type": "stream",
          "name": "stderr",
          "text": [
            "\r  8%|▊         | 2/24 [00:00<00:01, 17.34it/s]"
          ]
        },
        {
          "output_type": "stream",
          "name": "stdout",
          "text": [
            "[LightGBM] [Info] Auto-choosing row-wise multi-threading, the overhead of testing was 0.000069 seconds.\n",
            "You can set `force_row_wise=true` to remove the overhead.\n",
            "And if memory is not enough, you can set `force_col_wise=true`.\n",
            "[LightGBM] [Info] Total Bins 129\n",
            "[LightGBM] [Info] Number of data points in the train set: 3001, number of used features: 7\n",
            "[LightGBM] [Info] Start training from score 2.953349\n",
            "[LightGBM] [Info] Auto-choosing row-wise multi-threading, the overhead of testing was 0.000063 seconds.\n",
            "You can set `force_row_wise=true` to remove the overhead.\n",
            "And if memory is not enough, you can set `force_col_wise=true`.\n",
            "[LightGBM] [Info] Total Bins 130\n",
            "[LightGBM] [Info] Number of data points in the train set: 3001, number of used features: 7\n",
            "[LightGBM] [Info] Start training from score 3.060646\n"
          ]
        },
        {
          "output_type": "stream",
          "name": "stderr",
          "text": [
            "\r 17%|█▋        | 4/24 [00:00<00:01, 17.32it/s]"
          ]
        },
        {
          "output_type": "stream",
          "name": "stdout",
          "text": [
            "[LightGBM] [Info] Auto-choosing row-wise multi-threading, the overhead of testing was 0.000068 seconds.\n",
            "You can set `force_row_wise=true` to remove the overhead.\n",
            "And if memory is not enough, you can set `force_col_wise=true`.\n",
            "[LightGBM] [Info] Total Bins 130\n",
            "[LightGBM] [Info] Number of data points in the train set: 3001, number of used features: 7\n",
            "[LightGBM] [Info] Start training from score 3.176608\n",
            "[LightGBM] [Info] Auto-choosing col-wise multi-threading, the overhead of testing was 0.000255 seconds.\n",
            "You can set `force_col_wise=true` to remove the overhead.\n",
            "[LightGBM] [Info] Total Bins 130\n",
            "[LightGBM] [Info] Number of data points in the train set: 3000, number of used features: 7\n",
            "[LightGBM] [Info] Start training from score 3.244000\n"
          ]
        },
        {
          "output_type": "stream",
          "name": "stderr",
          "text": [
            "\r 25%|██▌       | 6/24 [00:00<00:01, 17.06it/s]"
          ]
        },
        {
          "output_type": "stream",
          "name": "stdout",
          "text": [
            "[LightGBM] [Info] Auto-choosing col-wise multi-threading, the overhead of testing was 0.000243 seconds.\n",
            "You can set `force_col_wise=true` to remove the overhead.\n",
            "[LightGBM] [Info] Total Bins 130\n",
            "[LightGBM] [Info] Number of data points in the train set: 3001, number of used features: 7\n",
            "[LightGBM] [Info] Start training from score 3.218261\n",
            "[LightGBM] [Info] Auto-choosing row-wise multi-threading, the overhead of testing was 0.000071 seconds.\n",
            "You can set `force_row_wise=true` to remove the overhead.\n",
            "And if memory is not enough, you can set `force_col_wise=true`.\n",
            "[LightGBM] [Info] Total Bins 130\n",
            "[LightGBM] [Info] Number of data points in the train set: 3000, number of used features: 7\n",
            "[LightGBM] [Info] Start training from score 3.118000\n"
          ]
        },
        {
          "output_type": "stream",
          "name": "stderr",
          "text": [
            "\r 33%|███▎      | 8/24 [00:00<00:00, 16.92it/s]"
          ]
        },
        {
          "output_type": "stream",
          "name": "stdout",
          "text": [
            "[LightGBM] [Info] Auto-choosing row-wise multi-threading, the overhead of testing was 0.000083 seconds.\n",
            "You can set `force_row_wise=true` to remove the overhead.\n",
            "And if memory is not enough, you can set `force_col_wise=true`.\n",
            "[LightGBM] [Info] Total Bins 132\n",
            "[LightGBM] [Info] Number of data points in the train set: 2999, number of used features: 7\n",
            "[LightGBM] [Info] Start training from score 3.149050\n",
            "[LightGBM] [Info] Auto-choosing row-wise multi-threading, the overhead of testing was 0.000063 seconds.\n",
            "You can set `force_row_wise=true` to remove the overhead.\n",
            "And if memory is not enough, you can set `force_col_wise=true`.\n",
            "[LightGBM] [Info] Total Bins 130\n",
            "[LightGBM] [Info] Number of data points in the train set: 2999, number of used features: 7\n",
            "[LightGBM] [Info] Start training from score 3.095365\n"
          ]
        },
        {
          "output_type": "stream",
          "name": "stderr",
          "text": [
            "\r 42%|████▏     | 10/24 [00:00<00:00, 16.99it/s]"
          ]
        },
        {
          "output_type": "stream",
          "name": "stdout",
          "text": [
            "[LightGBM] [Info] Auto-choosing row-wise multi-threading, the overhead of testing was 0.000112 seconds.\n",
            "You can set `force_row_wise=true` to remove the overhead.\n",
            "And if memory is not enough, you can set `force_col_wise=true`.\n",
            "[LightGBM] [Info] Total Bins 129\n",
            "[LightGBM] [Info] Number of data points in the train set: 2996, number of used features: 7\n",
            "[LightGBM] [Info] Start training from score 3.011348\n",
            "[LightGBM] [Info] Auto-choosing row-wise multi-threading, the overhead of testing was 0.000064 seconds.\n",
            "You can set `force_row_wise=true` to remove the overhead.\n",
            "And if memory is not enough, you can set `force_col_wise=true`.\n",
            "[LightGBM] [Info] Total Bins 131\n",
            "[LightGBM] [Info] Number of data points in the train set: 2994, number of used features: 7\n",
            "[LightGBM] [Info] Start training from score 2.921510\n"
          ]
        },
        {
          "output_type": "stream",
          "name": "stderr",
          "text": [
            "\r 50%|█████     | 12/24 [00:00<00:00, 16.93it/s]"
          ]
        },
        {
          "output_type": "stream",
          "name": "stdout",
          "text": [
            "[LightGBM] [Info] Auto-choosing col-wise multi-threading, the overhead of testing was 0.000222 seconds.\n",
            "You can set `force_col_wise=true` to remove the overhead.\n",
            "[LightGBM] [Info] Total Bins 130\n",
            "[LightGBM] [Info] Number of data points in the train set: 2993, number of used features: 7\n",
            "[LightGBM] [Info] Start training from score 2.894754\n",
            "[LightGBM] [Info] Auto-choosing row-wise multi-threading, the overhead of testing was 0.000064 seconds.\n",
            "You can set `force_row_wise=true` to remove the overhead.\n",
            "And if memory is not enough, you can set `force_col_wise=true`.\n",
            "[LightGBM] [Info] Total Bins 129\n",
            "[LightGBM] [Info] Number of data points in the train set: 2995, number of used features: 7\n",
            "[LightGBM] [Info] Start training from score 2.823372\n"
          ]
        },
        {
          "output_type": "stream",
          "name": "stderr",
          "text": [
            "\r 58%|█████▊    | 14/24 [00:00<00:00, 16.59it/s]"
          ]
        },
        {
          "output_type": "stream",
          "name": "stdout",
          "text": [
            "[LightGBM] [Info] Auto-choosing row-wise multi-threading, the overhead of testing was 0.000072 seconds.\n",
            "You can set `force_row_wise=true` to remove the overhead.\n",
            "And if memory is not enough, you can set `force_col_wise=true`.\n",
            "[LightGBM] [Info] Total Bins 130\n",
            "[LightGBM] [Info] Number of data points in the train set: 2996, number of used features: 7\n",
            "[LightGBM] [Info] Start training from score 2.872163\n"
          ]
        },
        {
          "output_type": "stream",
          "name": "stderr",
          "text": [
            "\r 67%|██████▋   | 16/24 [00:00<00:00, 15.85it/s]"
          ]
        },
        {
          "output_type": "stream",
          "name": "stdout",
          "text": [
            "[LightGBM] [Info] Auto-choosing row-wise multi-threading, the overhead of testing was 0.000118 seconds.\n",
            "You can set `force_row_wise=true` to remove the overhead.\n",
            "And if memory is not enough, you can set `force_col_wise=true`.\n",
            "[LightGBM] [Info] Total Bins 128\n",
            "[LightGBM] [Info] Number of data points in the train set: 2999, number of used features: 7\n",
            "[LightGBM] [Info] Start training from score 2.752584\n",
            "[LightGBM] [Info] Auto-choosing col-wise multi-threading, the overhead of testing was 0.000330 seconds.\n",
            "You can set `force_col_wise=true` to remove the overhead.\n",
            "[LightGBM] [Info] Total Bins 127\n",
            "[LightGBM] [Info] Number of data points in the train set: 2999, number of used features: 7\n",
            "[LightGBM] [Info] Start training from score 2.557186\n"
          ]
        },
        {
          "output_type": "stream",
          "name": "stderr",
          "text": [
            "\r 75%|███████▌  | 18/24 [00:01<00:00, 15.59it/s]"
          ]
        },
        {
          "output_type": "stream",
          "name": "stdout",
          "text": [
            "[LightGBM] [Info] Auto-choosing col-wise multi-threading, the overhead of testing was 0.000342 seconds.\n",
            "You can set `force_col_wise=true` to remove the overhead.\n",
            "[LightGBM] [Info] Total Bins 129\n",
            "[LightGBM] [Info] Number of data points in the train set: 2998, number of used features: 7\n",
            "[LightGBM] [Info] Start training from score 2.424950\n",
            "[LightGBM] [Info] Auto-choosing row-wise multi-threading, the overhead of testing was 0.000071 seconds.\n",
            "You can set `force_row_wise=true` to remove the overhead.\n",
            "And if memory is not enough, you can set `force_col_wise=true`.\n",
            "[LightGBM] [Info] Total Bins 128\n",
            "[LightGBM] [Info] Number of data points in the train set: 2998, number of used features: 7\n",
            "[LightGBM] [Info] Start training from score 2.207138\n"
          ]
        },
        {
          "output_type": "stream",
          "name": "stderr",
          "text": [
            "\r 83%|████████▎ | 20/24 [00:01<00:00, 15.88it/s]"
          ]
        },
        {
          "output_type": "stream",
          "name": "stdout",
          "text": [
            "[LightGBM] [Info] Auto-choosing row-wise multi-threading, the overhead of testing was 0.000087 seconds.\n",
            "You can set `force_row_wise=true` to remove the overhead.\n",
            "And if memory is not enough, you can set `force_col_wise=true`.\n",
            "[LightGBM] [Info] Total Bins 129\n",
            "[LightGBM] [Info] Number of data points in the train set: 2998, number of used features: 7\n",
            "[LightGBM] [Info] Start training from score 2.273849\n",
            "[LightGBM] [Info] Auto-choosing row-wise multi-threading, the overhead of testing was 0.000069 seconds.\n",
            "You can set `force_row_wise=true` to remove the overhead.\n",
            "And if memory is not enough, you can set `force_col_wise=true`.\n",
            "[LightGBM] [Info] Total Bins 129\n",
            "[LightGBM] [Info] Number of data points in the train set: 2996, number of used features: 7\n",
            "[LightGBM] [Info] Start training from score 2.325100\n"
          ]
        },
        {
          "output_type": "stream",
          "name": "stderr",
          "text": [
            "\r 92%|█████████▏| 22/24 [00:01<00:00, 16.27it/s]"
          ]
        },
        {
          "output_type": "stream",
          "name": "stdout",
          "text": [
            "[LightGBM] [Info] Auto-choosing row-wise multi-threading, the overhead of testing was 0.000186 seconds.\n",
            "You can set `force_row_wise=true` to remove the overhead.\n",
            "And if memory is not enough, you can set `force_col_wise=true`.\n",
            "[LightGBM] [Info] Total Bins 129\n",
            "[LightGBM] [Info] Number of data points in the train set: 3001, number of used features: 7\n",
            "[LightGBM] [Info] Start training from score 2.286571\n",
            "[LightGBM] [Info] Auto-choosing row-wise multi-threading, the overhead of testing was 0.000070 seconds.\n",
            "You can set `force_row_wise=true` to remove the overhead.\n",
            "And if memory is not enough, you can set `force_col_wise=true`.\n",
            "[LightGBM] [Info] Total Bins 129\n",
            "[LightGBM] [Info] Number of data points in the train set: 2998, number of used features: 7\n",
            "[LightGBM] [Info] Start training from score 2.396931\n"
          ]
        },
        {
          "output_type": "stream",
          "name": "stderr",
          "text": [
            "100%|██████████| 24/24 [00:01<00:00, 16.41it/s]"
          ]
        },
        {
          "output_type": "stream",
          "name": "stdout",
          "text": [
            "[LightGBM] [Info] Auto-choosing row-wise multi-threading, the overhead of testing was 0.000069 seconds.\n",
            "You can set `force_row_wise=true` to remove the overhead.\n",
            "And if memory is not enough, you can set `force_col_wise=true`.\n",
            "[LightGBM] [Info] Total Bins 128\n",
            "[LightGBM] [Info] Number of data points in the train set: 2999, number of used features: 7\n",
            "[LightGBM] [Info] Start training from score 2.427809\n"
          ]
        },
        {
          "output_type": "stream",
          "name": "stderr",
          "text": [
            "\n"
          ]
        }
      ]
    },
    {
      "cell_type": "code",
      "source": [
        "for i in range(24):\n",
        "    col = f\"cloud_cover_{i}\"\n",
        "    nan_count = df[col].isna().sum()\n",
        "    neg_9999_count = (df[col] == -9999).sum()\n",
        "    print(f\"{col}: NaN = {nan_count}, -9999 = {neg_9999_count}\")"
      ],
      "metadata": {
        "id": "fwJf7eJQFLlA",
        "colab": {
          "base_uri": "https://localhost:8080/"
        },
        "outputId": "c5548f7d-dc74-42e6-9112-c99436d08f70"
      },
      "execution_count": 417,
      "outputs": [
        {
          "output_type": "stream",
          "name": "stdout",
          "text": [
            "cloud_cover_0: NaN = 0, -9999 = 0\n",
            "cloud_cover_1: NaN = 0, -9999 = 0\n",
            "cloud_cover_2: NaN = 0, -9999 = 0\n",
            "cloud_cover_3: NaN = 0, -9999 = 0\n",
            "cloud_cover_4: NaN = 0, -9999 = 0\n",
            "cloud_cover_5: NaN = 0, -9999 = 0\n",
            "cloud_cover_6: NaN = 0, -9999 = 0\n",
            "cloud_cover_7: NaN = 0, -9999 = 0\n",
            "cloud_cover_8: NaN = 0, -9999 = 0\n",
            "cloud_cover_9: NaN = 0, -9999 = 0\n",
            "cloud_cover_10: NaN = 0, -9999 = 0\n",
            "cloud_cover_11: NaN = 0, -9999 = 0\n",
            "cloud_cover_12: NaN = 0, -9999 = 0\n",
            "cloud_cover_13: NaN = 0, -9999 = 0\n",
            "cloud_cover_14: NaN = 0, -9999 = 0\n",
            "cloud_cover_15: NaN = 0, -9999 = 0\n",
            "cloud_cover_16: NaN = 0, -9999 = 0\n",
            "cloud_cover_17: NaN = 0, -9999 = 0\n",
            "cloud_cover_18: NaN = 0, -9999 = 0\n",
            "cloud_cover_19: NaN = 0, -9999 = 0\n",
            "cloud_cover_20: NaN = 0, -9999 = 0\n",
            "cloud_cover_21: NaN = 0, -9999 = 0\n",
            "cloud_cover_22: NaN = 0, -9999 = 0\n",
            "cloud_cover_23: NaN = 0, -9999 = 0\n"
          ]
        }
      ]
    },
    {
      "cell_type": "markdown",
      "source": [
        "# min cloud height"
      ],
      "metadata": {
        "id": "3fkKpGxmAy1K"
      }
    },
    {
      "cell_type": "code",
      "source": [
        "for i in range(24):\n",
        "    col = f\"min_cloud_height_{i}\"\n",
        "    nan_count = df[col].isna().sum()\n",
        "    neg_9999_count = (df[col] == -9999).sum()\n",
        "    print(f\"{col}: NaN = {nan_count}, -9999 = {neg_9999_count}\")"
      ],
      "metadata": {
        "id": "MgGHrHJUHjml",
        "colab": {
          "base_uri": "https://localhost:8080/"
        },
        "outputId": "f9a13f9d-1aa3-48af-a78a-4ce21bc62c26"
      },
      "execution_count": 418,
      "outputs": [
        {
          "output_type": "stream",
          "name": "stdout",
          "text": [
            "min_cloud_height_0: NaN = 11184, -9999 = 0\n",
            "min_cloud_height_1: NaN = 7184, -9999 = 0\n",
            "min_cloud_height_2: NaN = 7126, -9999 = 0\n",
            "min_cloud_height_3: NaN = 7098, -9999 = 0\n",
            "min_cloud_height_4: NaN = 7030, -9999 = 0\n",
            "min_cloud_height_5: NaN = 7059, -9999 = 0\n",
            "min_cloud_height_6: NaN = 7048, -9999 = 0\n",
            "min_cloud_height_7: NaN = 7076, -9999 = 0\n",
            "min_cloud_height_8: NaN = 7114, -9999 = 0\n",
            "min_cloud_height_9: NaN = 6851, -9999 = 0\n",
            "min_cloud_height_10: NaN = 6678, -9999 = 0\n",
            "min_cloud_height_11: NaN = 6324, -9999 = 0\n",
            "min_cloud_height_12: NaN = 6016, -9999 = 0\n",
            "min_cloud_height_13: NaN = 5862, -9999 = 0\n",
            "min_cloud_height_14: NaN = 5866, -9999 = 0\n",
            "min_cloud_height_15: NaN = 6042, -9999 = 0\n",
            "min_cloud_height_16: NaN = 6247, -9999 = 0\n",
            "min_cloud_height_17: NaN = 6546, -9999 = 0\n",
            "min_cloud_height_18: NaN = 6886, -9999 = 0\n",
            "min_cloud_height_19: NaN = 7241, -9999 = 0\n",
            "min_cloud_height_20: NaN = 7187, -9999 = 0\n",
            "min_cloud_height_21: NaN = 7320, -9999 = 0\n",
            "min_cloud_height_22: NaN = 7300, -9999 = 0\n",
            "min_cloud_height_23: NaN = 7230, -9999 = 0\n"
          ]
        }
      ]
    },
    {
      "cell_type": "code",
      "source": [
        "for i in range(24):\n",
        "    col = f\"min_cloud_height_{i}\"\n",
        "    temp = df[[col, 'target']].dropna()\n",
        "    if not temp.empty:\n",
        "        corr = temp[col].corr(temp['target'])\n",
        "        print(f\"{col}: corr={corr:.3f}\")"
      ],
      "metadata": {
        "id": "a2kUJfZfStTK",
        "colab": {
          "base_uri": "https://localhost:8080/"
        },
        "outputId": "e8ae76c8-6360-481b-d26b-a3e2d2546727"
      },
      "execution_count": 419,
      "outputs": [
        {
          "output_type": "stream",
          "name": "stdout",
          "text": [
            "min_cloud_height_0: corr=0.028\n",
            "min_cloud_height_1: corr=0.007\n",
            "min_cloud_height_2: corr=0.018\n",
            "min_cloud_height_3: corr=0.011\n",
            "min_cloud_height_4: corr=0.002\n",
            "min_cloud_height_5: corr=-0.007\n",
            "min_cloud_height_6: corr=0.010\n",
            "min_cloud_height_7: corr=0.006\n",
            "min_cloud_height_8: corr=0.017\n",
            "min_cloud_height_9: corr=0.019\n",
            "min_cloud_height_10: corr=0.004\n",
            "min_cloud_height_11: corr=0.000\n",
            "min_cloud_height_12: corr=0.021\n",
            "min_cloud_height_13: corr=0.020\n",
            "min_cloud_height_14: corr=0.031\n",
            "min_cloud_height_15: corr=0.019\n",
            "min_cloud_height_16: corr=0.041\n",
            "min_cloud_height_17: corr=0.035\n",
            "min_cloud_height_18: corr=0.037\n",
            "min_cloud_height_19: corr=0.101\n",
            "min_cloud_height_20: corr=0.093\n",
            "min_cloud_height_21: corr=0.029\n",
            "min_cloud_height_22: corr=0.048\n",
            "min_cloud_height_23: corr=0.028\n"
          ]
        }
      ]
    },
    {
      "cell_type": "markdown",
      "source": [
        "**min cloud 삭제**"
      ],
      "metadata": {
        "id": "4W6_OvVmlSET"
      }
    },
    {
      "cell_type": "code",
      "source": [
        "#삭제\n",
        "cols_to_drop = [f\"min_cloud_height_{i}\" for i in range(24)]\n",
        "df = df.drop(columns=cols_to_drop)"
      ],
      "metadata": {
        "id": "QDFhmNiWTCUm"
      },
      "execution_count": 420,
      "outputs": []
    },
    {
      "cell_type": "code",
      "source": [
        "testD = testD.drop(columns= cols_to_drop)"
      ],
      "metadata": {
        "id": "2ipHZNj8TW8f"
      },
      "execution_count": 421,
      "outputs": []
    },
    {
      "cell_type": "markdown",
      "source": [
        "**wind direction one-hot encoding**"
      ],
      "metadata": {
        "id": "D3ZgH5bFlako"
      }
    },
    {
      "cell_type": "code",
      "source": [
        "def convert_wind_direction_to_sin_cos(df):\n",
        "    for i in range(24):\n",
        "        col = f'wind_direction_{i}'\n",
        "        sin_col = f'wind_sin_{i}'\n",
        "        cos_col = f'wind_cos_{i}'\n",
        "\n",
        "        df[sin_col] = np.sin(np.deg2rad(df[col]))\n",
        "        df[cos_col] = np.cos(np.deg2rad(df[col]))\n",
        "\n",
        "    return df\n",
        "\n",
        "df = convert_wind_direction_to_sin_cos(df)\n",
        "testD =  convert_wind_direction_to_sin_cos(testD)"
      ],
      "metadata": {
        "id": "XeL3N3KwEt-i",
        "outputId": "fe0e9c7b-7f09-42ff-f313-63c9fe69de27",
        "colab": {
          "base_uri": "https://localhost:8080/"
        }
      },
      "execution_count": 422,
      "outputs": [
        {
          "output_type": "stream",
          "name": "stderr",
          "text": [
            "<ipython-input-422-c7eedd58e377>:8: PerformanceWarning: DataFrame is highly fragmented.  This is usually the result of calling `frame.insert` many times, which has poor performance.  Consider joining all columns at once using pd.concat(axis=1) instead. To get a de-fragmented frame, use `newframe = frame.copy()`\n",
            "  df[cos_col] = np.cos(np.deg2rad(df[col]))\n",
            "<ipython-input-422-c7eedd58e377>:7: PerformanceWarning: DataFrame is highly fragmented.  This is usually the result of calling `frame.insert` many times, which has poor performance.  Consider joining all columns at once using pd.concat(axis=1) instead. To get a de-fragmented frame, use `newframe = frame.copy()`\n",
            "  df[sin_col] = np.sin(np.deg2rad(df[col]))\n",
            "<ipython-input-422-c7eedd58e377>:8: PerformanceWarning: DataFrame is highly fragmented.  This is usually the result of calling `frame.insert` many times, which has poor performance.  Consider joining all columns at once using pd.concat(axis=1) instead. To get a de-fragmented frame, use `newframe = frame.copy()`\n",
            "  df[cos_col] = np.cos(np.deg2rad(df[col]))\n",
            "<ipython-input-422-c7eedd58e377>:7: PerformanceWarning: DataFrame is highly fragmented.  This is usually the result of calling `frame.insert` many times, which has poor performance.  Consider joining all columns at once using pd.concat(axis=1) instead. To get a de-fragmented frame, use `newframe = frame.copy()`\n",
            "  df[sin_col] = np.sin(np.deg2rad(df[col]))\n",
            "<ipython-input-422-c7eedd58e377>:8: PerformanceWarning: DataFrame is highly fragmented.  This is usually the result of calling `frame.insert` many times, which has poor performance.  Consider joining all columns at once using pd.concat(axis=1) instead. To get a de-fragmented frame, use `newframe = frame.copy()`\n",
            "  df[cos_col] = np.cos(np.deg2rad(df[col]))\n",
            "<ipython-input-422-c7eedd58e377>:7: PerformanceWarning: DataFrame is highly fragmented.  This is usually the result of calling `frame.insert` many times, which has poor performance.  Consider joining all columns at once using pd.concat(axis=1) instead. To get a de-fragmented frame, use `newframe = frame.copy()`\n",
            "  df[sin_col] = np.sin(np.deg2rad(df[col]))\n",
            "<ipython-input-422-c7eedd58e377>:8: PerformanceWarning: DataFrame is highly fragmented.  This is usually the result of calling `frame.insert` many times, which has poor performance.  Consider joining all columns at once using pd.concat(axis=1) instead. To get a de-fragmented frame, use `newframe = frame.copy()`\n",
            "  df[cos_col] = np.cos(np.deg2rad(df[col]))\n",
            "<ipython-input-422-c7eedd58e377>:7: PerformanceWarning: DataFrame is highly fragmented.  This is usually the result of calling `frame.insert` many times, which has poor performance.  Consider joining all columns at once using pd.concat(axis=1) instead. To get a de-fragmented frame, use `newframe = frame.copy()`\n",
            "  df[sin_col] = np.sin(np.deg2rad(df[col]))\n",
            "<ipython-input-422-c7eedd58e377>:8: PerformanceWarning: DataFrame is highly fragmented.  This is usually the result of calling `frame.insert` many times, which has poor performance.  Consider joining all columns at once using pd.concat(axis=1) instead. To get a de-fragmented frame, use `newframe = frame.copy()`\n",
            "  df[cos_col] = np.cos(np.deg2rad(df[col]))\n",
            "<ipython-input-422-c7eedd58e377>:7: PerformanceWarning: DataFrame is highly fragmented.  This is usually the result of calling `frame.insert` many times, which has poor performance.  Consider joining all columns at once using pd.concat(axis=1) instead. To get a de-fragmented frame, use `newframe = frame.copy()`\n",
            "  df[sin_col] = np.sin(np.deg2rad(df[col]))\n",
            "<ipython-input-422-c7eedd58e377>:8: PerformanceWarning: DataFrame is highly fragmented.  This is usually the result of calling `frame.insert` many times, which has poor performance.  Consider joining all columns at once using pd.concat(axis=1) instead. To get a de-fragmented frame, use `newframe = frame.copy()`\n",
            "  df[cos_col] = np.cos(np.deg2rad(df[col]))\n",
            "<ipython-input-422-c7eedd58e377>:7: PerformanceWarning: DataFrame is highly fragmented.  This is usually the result of calling `frame.insert` many times, which has poor performance.  Consider joining all columns at once using pd.concat(axis=1) instead. To get a de-fragmented frame, use `newframe = frame.copy()`\n",
            "  df[sin_col] = np.sin(np.deg2rad(df[col]))\n",
            "<ipython-input-422-c7eedd58e377>:8: PerformanceWarning: DataFrame is highly fragmented.  This is usually the result of calling `frame.insert` many times, which has poor performance.  Consider joining all columns at once using pd.concat(axis=1) instead. To get a de-fragmented frame, use `newframe = frame.copy()`\n",
            "  df[cos_col] = np.cos(np.deg2rad(df[col]))\n",
            "<ipython-input-422-c7eedd58e377>:7: PerformanceWarning: DataFrame is highly fragmented.  This is usually the result of calling `frame.insert` many times, which has poor performance.  Consider joining all columns at once using pd.concat(axis=1) instead. To get a de-fragmented frame, use `newframe = frame.copy()`\n",
            "  df[sin_col] = np.sin(np.deg2rad(df[col]))\n",
            "<ipython-input-422-c7eedd58e377>:8: PerformanceWarning: DataFrame is highly fragmented.  This is usually the result of calling `frame.insert` many times, which has poor performance.  Consider joining all columns at once using pd.concat(axis=1) instead. To get a de-fragmented frame, use `newframe = frame.copy()`\n",
            "  df[cos_col] = np.cos(np.deg2rad(df[col]))\n",
            "<ipython-input-422-c7eedd58e377>:7: PerformanceWarning: DataFrame is highly fragmented.  This is usually the result of calling `frame.insert` many times, which has poor performance.  Consider joining all columns at once using pd.concat(axis=1) instead. To get a de-fragmented frame, use `newframe = frame.copy()`\n",
            "  df[sin_col] = np.sin(np.deg2rad(df[col]))\n",
            "<ipython-input-422-c7eedd58e377>:8: PerformanceWarning: DataFrame is highly fragmented.  This is usually the result of calling `frame.insert` many times, which has poor performance.  Consider joining all columns at once using pd.concat(axis=1) instead. To get a de-fragmented frame, use `newframe = frame.copy()`\n",
            "  df[cos_col] = np.cos(np.deg2rad(df[col]))\n",
            "<ipython-input-422-c7eedd58e377>:7: PerformanceWarning: DataFrame is highly fragmented.  This is usually the result of calling `frame.insert` many times, which has poor performance.  Consider joining all columns at once using pd.concat(axis=1) instead. To get a de-fragmented frame, use `newframe = frame.copy()`\n",
            "  df[sin_col] = np.sin(np.deg2rad(df[col]))\n",
            "<ipython-input-422-c7eedd58e377>:8: PerformanceWarning: DataFrame is highly fragmented.  This is usually the result of calling `frame.insert` many times, which has poor performance.  Consider joining all columns at once using pd.concat(axis=1) instead. To get a de-fragmented frame, use `newframe = frame.copy()`\n",
            "  df[cos_col] = np.cos(np.deg2rad(df[col]))\n",
            "<ipython-input-422-c7eedd58e377>:7: PerformanceWarning: DataFrame is highly fragmented.  This is usually the result of calling `frame.insert` many times, which has poor performance.  Consider joining all columns at once using pd.concat(axis=1) instead. To get a de-fragmented frame, use `newframe = frame.copy()`\n",
            "  df[sin_col] = np.sin(np.deg2rad(df[col]))\n",
            "<ipython-input-422-c7eedd58e377>:8: PerformanceWarning: DataFrame is highly fragmented.  This is usually the result of calling `frame.insert` many times, which has poor performance.  Consider joining all columns at once using pd.concat(axis=1) instead. To get a de-fragmented frame, use `newframe = frame.copy()`\n",
            "  df[cos_col] = np.cos(np.deg2rad(df[col]))\n",
            "<ipython-input-422-c7eedd58e377>:7: PerformanceWarning: DataFrame is highly fragmented.  This is usually the result of calling `frame.insert` many times, which has poor performance.  Consider joining all columns at once using pd.concat(axis=1) instead. To get a de-fragmented frame, use `newframe = frame.copy()`\n",
            "  df[sin_col] = np.sin(np.deg2rad(df[col]))\n",
            "<ipython-input-422-c7eedd58e377>:8: PerformanceWarning: DataFrame is highly fragmented.  This is usually the result of calling `frame.insert` many times, which has poor performance.  Consider joining all columns at once using pd.concat(axis=1) instead. To get a de-fragmented frame, use `newframe = frame.copy()`\n",
            "  df[cos_col] = np.cos(np.deg2rad(df[col]))\n",
            "<ipython-input-422-c7eedd58e377>:7: PerformanceWarning: DataFrame is highly fragmented.  This is usually the result of calling `frame.insert` many times, which has poor performance.  Consider joining all columns at once using pd.concat(axis=1) instead. To get a de-fragmented frame, use `newframe = frame.copy()`\n",
            "  df[sin_col] = np.sin(np.deg2rad(df[col]))\n",
            "<ipython-input-422-c7eedd58e377>:8: PerformanceWarning: DataFrame is highly fragmented.  This is usually the result of calling `frame.insert` many times, which has poor performance.  Consider joining all columns at once using pd.concat(axis=1) instead. To get a de-fragmented frame, use `newframe = frame.copy()`\n",
            "  df[cos_col] = np.cos(np.deg2rad(df[col]))\n",
            "<ipython-input-422-c7eedd58e377>:7: PerformanceWarning: DataFrame is highly fragmented.  This is usually the result of calling `frame.insert` many times, which has poor performance.  Consider joining all columns at once using pd.concat(axis=1) instead. To get a de-fragmented frame, use `newframe = frame.copy()`\n",
            "  df[sin_col] = np.sin(np.deg2rad(df[col]))\n",
            "<ipython-input-422-c7eedd58e377>:8: PerformanceWarning: DataFrame is highly fragmented.  This is usually the result of calling `frame.insert` many times, which has poor performance.  Consider joining all columns at once using pd.concat(axis=1) instead. To get a de-fragmented frame, use `newframe = frame.copy()`\n",
            "  df[cos_col] = np.cos(np.deg2rad(df[col]))\n",
            "<ipython-input-422-c7eedd58e377>:7: PerformanceWarning: DataFrame is highly fragmented.  This is usually the result of calling `frame.insert` many times, which has poor performance.  Consider joining all columns at once using pd.concat(axis=1) instead. To get a de-fragmented frame, use `newframe = frame.copy()`\n",
            "  df[sin_col] = np.sin(np.deg2rad(df[col]))\n",
            "<ipython-input-422-c7eedd58e377>:8: PerformanceWarning: DataFrame is highly fragmented.  This is usually the result of calling `frame.insert` many times, which has poor performance.  Consider joining all columns at once using pd.concat(axis=1) instead. To get a de-fragmented frame, use `newframe = frame.copy()`\n",
            "  df[cos_col] = np.cos(np.deg2rad(df[col]))\n",
            "<ipython-input-422-c7eedd58e377>:8: PerformanceWarning: DataFrame is highly fragmented.  This is usually the result of calling `frame.insert` many times, which has poor performance.  Consider joining all columns at once using pd.concat(axis=1) instead. To get a de-fragmented frame, use `newframe = frame.copy()`\n",
            "  df[cos_col] = np.cos(np.deg2rad(df[col]))\n",
            "<ipython-input-422-c7eedd58e377>:7: PerformanceWarning: DataFrame is highly fragmented.  This is usually the result of calling `frame.insert` many times, which has poor performance.  Consider joining all columns at once using pd.concat(axis=1) instead. To get a de-fragmented frame, use `newframe = frame.copy()`\n",
            "  df[sin_col] = np.sin(np.deg2rad(df[col]))\n",
            "<ipython-input-422-c7eedd58e377>:8: PerformanceWarning: DataFrame is highly fragmented.  This is usually the result of calling `frame.insert` many times, which has poor performance.  Consider joining all columns at once using pd.concat(axis=1) instead. To get a de-fragmented frame, use `newframe = frame.copy()`\n",
            "  df[cos_col] = np.cos(np.deg2rad(df[col]))\n",
            "<ipython-input-422-c7eedd58e377>:7: PerformanceWarning: DataFrame is highly fragmented.  This is usually the result of calling `frame.insert` many times, which has poor performance.  Consider joining all columns at once using pd.concat(axis=1) instead. To get a de-fragmented frame, use `newframe = frame.copy()`\n",
            "  df[sin_col] = np.sin(np.deg2rad(df[col]))\n",
            "<ipython-input-422-c7eedd58e377>:8: PerformanceWarning: DataFrame is highly fragmented.  This is usually the result of calling `frame.insert` many times, which has poor performance.  Consider joining all columns at once using pd.concat(axis=1) instead. To get a de-fragmented frame, use `newframe = frame.copy()`\n",
            "  df[cos_col] = np.cos(np.deg2rad(df[col]))\n",
            "<ipython-input-422-c7eedd58e377>:7: PerformanceWarning: DataFrame is highly fragmented.  This is usually the result of calling `frame.insert` many times, which has poor performance.  Consider joining all columns at once using pd.concat(axis=1) instead. To get a de-fragmented frame, use `newframe = frame.copy()`\n",
            "  df[sin_col] = np.sin(np.deg2rad(df[col]))\n",
            "<ipython-input-422-c7eedd58e377>:8: PerformanceWarning: DataFrame is highly fragmented.  This is usually the result of calling `frame.insert` many times, which has poor performance.  Consider joining all columns at once using pd.concat(axis=1) instead. To get a de-fragmented frame, use `newframe = frame.copy()`\n",
            "  df[cos_col] = np.cos(np.deg2rad(df[col]))\n",
            "<ipython-input-422-c7eedd58e377>:7: PerformanceWarning: DataFrame is highly fragmented.  This is usually the result of calling `frame.insert` many times, which has poor performance.  Consider joining all columns at once using pd.concat(axis=1) instead. To get a de-fragmented frame, use `newframe = frame.copy()`\n",
            "  df[sin_col] = np.sin(np.deg2rad(df[col]))\n",
            "<ipython-input-422-c7eedd58e377>:8: PerformanceWarning: DataFrame is highly fragmented.  This is usually the result of calling `frame.insert` many times, which has poor performance.  Consider joining all columns at once using pd.concat(axis=1) instead. To get a de-fragmented frame, use `newframe = frame.copy()`\n",
            "  df[cos_col] = np.cos(np.deg2rad(df[col]))\n",
            "<ipython-input-422-c7eedd58e377>:7: PerformanceWarning: DataFrame is highly fragmented.  This is usually the result of calling `frame.insert` many times, which has poor performance.  Consider joining all columns at once using pd.concat(axis=1) instead. To get a de-fragmented frame, use `newframe = frame.copy()`\n",
            "  df[sin_col] = np.sin(np.deg2rad(df[col]))\n",
            "<ipython-input-422-c7eedd58e377>:8: PerformanceWarning: DataFrame is highly fragmented.  This is usually the result of calling `frame.insert` many times, which has poor performance.  Consider joining all columns at once using pd.concat(axis=1) instead. To get a de-fragmented frame, use `newframe = frame.copy()`\n",
            "  df[cos_col] = np.cos(np.deg2rad(df[col]))\n",
            "<ipython-input-422-c7eedd58e377>:7: PerformanceWarning: DataFrame is highly fragmented.  This is usually the result of calling `frame.insert` many times, which has poor performance.  Consider joining all columns at once using pd.concat(axis=1) instead. To get a de-fragmented frame, use `newframe = frame.copy()`\n",
            "  df[sin_col] = np.sin(np.deg2rad(df[col]))\n",
            "<ipython-input-422-c7eedd58e377>:8: PerformanceWarning: DataFrame is highly fragmented.  This is usually the result of calling `frame.insert` many times, which has poor performance.  Consider joining all columns at once using pd.concat(axis=1) instead. To get a de-fragmented frame, use `newframe = frame.copy()`\n",
            "  df[cos_col] = np.cos(np.deg2rad(df[col]))\n",
            "<ipython-input-422-c7eedd58e377>:7: PerformanceWarning: DataFrame is highly fragmented.  This is usually the result of calling `frame.insert` many times, which has poor performance.  Consider joining all columns at once using pd.concat(axis=1) instead. To get a de-fragmented frame, use `newframe = frame.copy()`\n",
            "  df[sin_col] = np.sin(np.deg2rad(df[col]))\n",
            "<ipython-input-422-c7eedd58e377>:8: PerformanceWarning: DataFrame is highly fragmented.  This is usually the result of calling `frame.insert` many times, which has poor performance.  Consider joining all columns at once using pd.concat(axis=1) instead. To get a de-fragmented frame, use `newframe = frame.copy()`\n",
            "  df[cos_col] = np.cos(np.deg2rad(df[col]))\n",
            "<ipython-input-422-c7eedd58e377>:7: PerformanceWarning: DataFrame is highly fragmented.  This is usually the result of calling `frame.insert` many times, which has poor performance.  Consider joining all columns at once using pd.concat(axis=1) instead. To get a de-fragmented frame, use `newframe = frame.copy()`\n",
            "  df[sin_col] = np.sin(np.deg2rad(df[col]))\n",
            "<ipython-input-422-c7eedd58e377>:8: PerformanceWarning: DataFrame is highly fragmented.  This is usually the result of calling `frame.insert` many times, which has poor performance.  Consider joining all columns at once using pd.concat(axis=1) instead. To get a de-fragmented frame, use `newframe = frame.copy()`\n",
            "  df[cos_col] = np.cos(np.deg2rad(df[col]))\n",
            "<ipython-input-422-c7eedd58e377>:7: PerformanceWarning: DataFrame is highly fragmented.  This is usually the result of calling `frame.insert` many times, which has poor performance.  Consider joining all columns at once using pd.concat(axis=1) instead. To get a de-fragmented frame, use `newframe = frame.copy()`\n",
            "  df[sin_col] = np.sin(np.deg2rad(df[col]))\n",
            "<ipython-input-422-c7eedd58e377>:8: PerformanceWarning: DataFrame is highly fragmented.  This is usually the result of calling `frame.insert` many times, which has poor performance.  Consider joining all columns at once using pd.concat(axis=1) instead. To get a de-fragmented frame, use `newframe = frame.copy()`\n",
            "  df[cos_col] = np.cos(np.deg2rad(df[col]))\n",
            "<ipython-input-422-c7eedd58e377>:7: PerformanceWarning: DataFrame is highly fragmented.  This is usually the result of calling `frame.insert` many times, which has poor performance.  Consider joining all columns at once using pd.concat(axis=1) instead. To get a de-fragmented frame, use `newframe = frame.copy()`\n",
            "  df[sin_col] = np.sin(np.deg2rad(df[col]))\n",
            "<ipython-input-422-c7eedd58e377>:8: PerformanceWarning: DataFrame is highly fragmented.  This is usually the result of calling `frame.insert` many times, which has poor performance.  Consider joining all columns at once using pd.concat(axis=1) instead. To get a de-fragmented frame, use `newframe = frame.copy()`\n",
            "  df[cos_col] = np.cos(np.deg2rad(df[col]))\n",
            "<ipython-input-422-c7eedd58e377>:7: PerformanceWarning: DataFrame is highly fragmented.  This is usually the result of calling `frame.insert` many times, which has poor performance.  Consider joining all columns at once using pd.concat(axis=1) instead. To get a de-fragmented frame, use `newframe = frame.copy()`\n",
            "  df[sin_col] = np.sin(np.deg2rad(df[col]))\n",
            "<ipython-input-422-c7eedd58e377>:8: PerformanceWarning: DataFrame is highly fragmented.  This is usually the result of calling `frame.insert` many times, which has poor performance.  Consider joining all columns at once using pd.concat(axis=1) instead. To get a de-fragmented frame, use `newframe = frame.copy()`\n",
            "  df[cos_col] = np.cos(np.deg2rad(df[col]))\n",
            "<ipython-input-422-c7eedd58e377>:7: PerformanceWarning: DataFrame is highly fragmented.  This is usually the result of calling `frame.insert` many times, which has poor performance.  Consider joining all columns at once using pd.concat(axis=1) instead. To get a de-fragmented frame, use `newframe = frame.copy()`\n",
            "  df[sin_col] = np.sin(np.deg2rad(df[col]))\n",
            "<ipython-input-422-c7eedd58e377>:8: PerformanceWarning: DataFrame is highly fragmented.  This is usually the result of calling `frame.insert` many times, which has poor performance.  Consider joining all columns at once using pd.concat(axis=1) instead. To get a de-fragmented frame, use `newframe = frame.copy()`\n",
            "  df[cos_col] = np.cos(np.deg2rad(df[col]))\n",
            "<ipython-input-422-c7eedd58e377>:7: PerformanceWarning: DataFrame is highly fragmented.  This is usually the result of calling `frame.insert` many times, which has poor performance.  Consider joining all columns at once using pd.concat(axis=1) instead. To get a de-fragmented frame, use `newframe = frame.copy()`\n",
            "  df[sin_col] = np.sin(np.deg2rad(df[col]))\n",
            "<ipython-input-422-c7eedd58e377>:8: PerformanceWarning: DataFrame is highly fragmented.  This is usually the result of calling `frame.insert` many times, which has poor performance.  Consider joining all columns at once using pd.concat(axis=1) instead. To get a de-fragmented frame, use `newframe = frame.copy()`\n",
            "  df[cos_col] = np.cos(np.deg2rad(df[col]))\n",
            "<ipython-input-422-c7eedd58e377>:7: PerformanceWarning: DataFrame is highly fragmented.  This is usually the result of calling `frame.insert` many times, which has poor performance.  Consider joining all columns at once using pd.concat(axis=1) instead. To get a de-fragmented frame, use `newframe = frame.copy()`\n",
            "  df[sin_col] = np.sin(np.deg2rad(df[col]))\n",
            "<ipython-input-422-c7eedd58e377>:8: PerformanceWarning: DataFrame is highly fragmented.  This is usually the result of calling `frame.insert` many times, which has poor performance.  Consider joining all columns at once using pd.concat(axis=1) instead. To get a de-fragmented frame, use `newframe = frame.copy()`\n",
            "  df[cos_col] = np.cos(np.deg2rad(df[col]))\n"
          ]
        }
      ]
    },
    {
      "cell_type": "code",
      "source": [
        "def interpolate_wind_sin_cos(df):\n",
        "    sin_cols = [f'wind_sin_{i}' for i in range(24)]\n",
        "    cos_cols = [f'wind_cos_{i}' for i in range(24)]\n",
        "\n",
        "    for idx in df.index:\n",
        "        for i in range(24):\n",
        "            sin_col = f'wind_sin_{i}'\n",
        "            cos_col = f'wind_cos_{i}'\n",
        "\n",
        "            if pd.isna(df.loc[idx, sin_col]):\n",
        "                neighbors = []\n",
        "                if i > 0 and pd.notna(df.loc[idx, f'wind_sin_{i-1}']):\n",
        "                    neighbors.append(df.loc[idx, f'wind_sin_{i-1}'])\n",
        "                if i < 23 and pd.notna(df.loc[idx, f'wind_sin_{i+1}']):\n",
        "                    neighbors.append(df.loc[idx, f'wind_sin_{i+1}'])\n",
        "                if neighbors:\n",
        "                    df.loc[idx, sin_col] = np.mean(neighbors)\n",
        "\n",
        "            if pd.isna(df.loc[idx, cos_col]):\n",
        "                neighbors = []\n",
        "                if i > 0 and pd.notna(df.loc[idx, f'wind_cos_{i-1}']):\n",
        "                    neighbors.append(df.loc[idx, f'wind_cos_{i-1}'])\n",
        "                if i < 23 and pd.notna(df.loc[idx, f'wind_cos_{i+1}']):\n",
        "                    neighbors.append(df.loc[idx, f'wind_cos_{i+1}'])\n",
        "                if neighbors:\n",
        "                    df.loc[idx, cos_col] = np.mean(neighbors)\n",
        "\n",
        "    return df\n"
      ],
      "metadata": {
        "id": "dNLQhP7BH5iQ"
      },
      "execution_count": 423,
      "outputs": []
    },
    {
      "cell_type": "code",
      "source": [
        "df = interpolate_wind_sin_cos(df)\n",
        "testD= interpolate_wind_sin_cos(testD)"
      ],
      "metadata": {
        "id": "zk8FVs0OH9i1"
      },
      "execution_count": 424,
      "outputs": []
    },
    {
      "cell_type": "code",
      "source": [
        "def fill_remaining_wind_sin_cos_by_day(df):\n",
        "    for i in range(24):\n",
        "        sin_col = f'wind_sin_{i}'\n",
        "        cos_col = f'wind_cos_{i}'\n",
        "\n",
        "        for idx in df.index:\n",
        "            # 보간 대상: sin\n",
        "            if pd.isna(df.loc[idx, sin_col]):\n",
        "                month = df.loc[idx, 'month']\n",
        "                day = df.loc[idx, 'day']\n",
        "                mask = (\n",
        "                    (df['month'] == month) &\n",
        "                    (df['day'] == day) &\n",
        "                    (~df[sin_col].isna())\n",
        "                )\n",
        "                values = df.loc[mask, sin_col]\n",
        "                if not values.empty:\n",
        "                    df.loc[idx, sin_col] = values.mean()\n",
        "\n",
        "            # 보간 대상: cos\n",
        "            if pd.isna(df.loc[idx, cos_col]):\n",
        "                month = df.loc[idx, 'month']\n",
        "                day = df.loc[idx, 'day']\n",
        "                mask = (\n",
        "                    (df['month'] == month) &\n",
        "                    (df['day'] == day) &\n",
        "                    (~df[cos_col].isna())\n",
        "                )\n",
        "                values = df.loc[mask, cos_col]\n",
        "                if not values.empty:\n",
        "                    df.loc[idx, cos_col] = values.mean()\n",
        "    return df"
      ],
      "metadata": {
        "id": "apGMoevUJdb1"
      },
      "execution_count": 425,
      "outputs": []
    },
    {
      "cell_type": "code",
      "source": [
        "df = fill_remaining_wind_sin_cos_by_day(df)"
      ],
      "metadata": {
        "id": "i2bsMzbyJfWv"
      },
      "execution_count": 426,
      "outputs": []
    },
    {
      "cell_type": "code",
      "source": [
        "for i in range(24):\n",
        "    missing_indices = df[df[f'wind_sin_{i}'].isna()].index\n",
        "    if not missing_indices.empty:\n",
        "        print(f\"결측치가 있는 열: wind_direction_{i}\")\n",
        "        print(\"인덱스:\", missing_indices.tolist())"
      ],
      "metadata": {
        "id": "1f9J96wzfAF0"
      },
      "execution_count": 427,
      "outputs": []
    },
    {
      "cell_type": "code",
      "source": [
        "# wind_direction_cols = [f\"wind_direction_{i}\" for i in range(24)]\n",
        "\n",
        "# # -9999 → NaN 처리\n",
        "# for col in wind_direction_cols:\n",
        "#     df[col] = np.where(df[col] == -9999, np.nan, df[col])\n",
        "\n",
        "# # 24시간 평균 풍향\n",
        "# df['wind_direction_mean'] = df[wind_direction_cols].mean(axis=1)\n",
        "\n",
        "# # 풍향 → 7계절 구간 정수 매핑 함수\n",
        "# def map_direction_to_season_code(degree):\n",
        "#     if pd.isna(degree):\n",
        "#         return np.nan\n",
        "#     degree = degree % 360  # 0~360으로 정규화\n",
        "#     if (degree >= 330 or degree < 30):\n",
        "#         return 0  # 겨울-봄 사이\n",
        "#     elif degree < 75:\n",
        "#         return 1  # 봄\n",
        "#     elif degree < 120:\n",
        "#         return 2  # 봄-여름 사이\n",
        "#     elif degree < 165:\n",
        "#         return 3  # 여름\n",
        "#     elif degree < 210:\n",
        "#         return 4  # 여름-가을 사이\n",
        "#     elif degree < 255:\n",
        "#         return 5  # 가을\n",
        "#     else:\n",
        "#         return 6  # 가을-겨울 사이\n",
        "\n",
        "# # 적용\n",
        "# df['season_from_wind'] = df['wind_direction_mean'].apply(map_direction_to_season_code).astype(\"Int64\")\n",
        "# testD['season_from_wind'] = testD['wind_direction_mean'].apply(map_direction_to_season_code).astype(\"Int64\")"
      ],
      "metadata": {
        "id": "JI6D013cpWjJ"
      },
      "execution_count": 428,
      "outputs": []
    },
    {
      "cell_type": "code",
      "source": [
        "# missing_mask = df['season_from_wind'].isna()\n",
        "\n",
        "# # 2. 월별 중앙값 계산\n",
        "# month_median = df.groupby('month')['season_from_wind'].median()\n",
        "\n",
        "# # 3. 결측값 대체 함수 정의\n",
        "# def fill_with_month_median(row):\n",
        "#     if pd.isna(row['season_from_wind']):\n",
        "#         return month_median.get(row['month'], np.nan)\n",
        "#     else:\n",
        "#         return row['season_from_wind']\n",
        "\n",
        "# # 4. 적용\n",
        "# df['season_from_wind'] = df.apply(fill_with_month_median, axis=1).astype('Int64')"
      ],
      "metadata": {
        "id": "cLdk5Jzkj-d5"
      },
      "execution_count": 429,
      "outputs": []
    },
    {
      "cell_type": "code",
      "source": [
        "# testD['season_from_wind'] = testD.apply(fill_with_month_median, axis=1).astype('Int64')"
      ],
      "metadata": {
        "id": "OzQtAV1izmf1"
      },
      "execution_count": 430,
      "outputs": []
    },
    {
      "cell_type": "code",
      "source": [
        "# from sklearn.preprocessing import OneHotEncoder\n",
        "\n",
        "\n",
        "# df['is_train'] = 1\n",
        "# testD['is_train'] = 0\n",
        "\n",
        "# # 2. train + test 합치기\n",
        "# combined = pd.concat([df, testD], axis=0)\n",
        "\n",
        "# # 3. One-hot encoding (한 번만!)\n",
        "# combined = pd.get_dummies(combined, columns=['season_from_wind'], prefix='season')\n",
        "\n",
        "# # 4. 다시 train/test로 분리\n",
        "# df = combined[combined['is_train'] == 1].drop(columns='is_train').reset_index(drop=True)\n",
        "# testD = combined[combined['is_train'] == 0].drop(columns='is_train').reset_index(drop=True)\n",
        "\n"
      ],
      "metadata": {
        "id": "EX5e5U78ki_A"
      },
      "execution_count": 431,
      "outputs": []
    },
    {
      "cell_type": "code",
      "source": [
        "#station 위치 설정\n",
        "\n",
        "# 관측소별 위도, 경도, 고도 매핑\n",
        "location_map = {\n",
        "    \"서울\":      (37.59142, 126.9658,   85.67),\n",
        "    \"동두천\":    (37.90188, 127.0607,  115.62),\n",
        "    \"강화\":      (37.70739, 126.44634,  47.84),\n",
        "    \"인천\":      (37.47772, 126.6249,   68.99),\n",
        "    \"이천\":      (37.26399, 127.48421,  80.09),\n",
        "    \"양평\":      (37.48863, 127.49446,  47.26),\n",
        "    \"파주\":      (37.88589, 126.76648,  30.59),\n",
        "    \"수원\":      (37.25746, 126.983,    39.81)\n",
        "}\n",
        "\n",
        "df[\"위도\"] = df[\"station_name\"].map(lambda name: location_map[name][0])\n",
        "df[\"경도\"] = df[\"station_name\"].map(lambda name: location_map[name][1])\n",
        "df[\"고도\"] = df[\"station_name\"].map(lambda name: location_map[name][2])"
      ],
      "metadata": {
        "id": "NYMTwTU8ldnE",
        "outputId": "e4420aa5-b01f-4307-e484-67bbb9782c32",
        "colab": {
          "base_uri": "https://localhost:8080/"
        }
      },
      "execution_count": 432,
      "outputs": [
        {
          "output_type": "stream",
          "name": "stderr",
          "text": [
            "<ipython-input-432-a4ab8d801ab2>:15: PerformanceWarning: DataFrame is highly fragmented.  This is usually the result of calling `frame.insert` many times, which has poor performance.  Consider joining all columns at once using pd.concat(axis=1) instead. To get a de-fragmented frame, use `newframe = frame.copy()`\n",
            "  df[\"위도\"] = df[\"station_name\"].map(lambda name: location_map[name][0])\n",
            "<ipython-input-432-a4ab8d801ab2>:16: PerformanceWarning: DataFrame is highly fragmented.  This is usually the result of calling `frame.insert` many times, which has poor performance.  Consider joining all columns at once using pd.concat(axis=1) instead. To get a de-fragmented frame, use `newframe = frame.copy()`\n",
            "  df[\"경도\"] = df[\"station_name\"].map(lambda name: location_map[name][1])\n",
            "<ipython-input-432-a4ab8d801ab2>:17: PerformanceWarning: DataFrame is highly fragmented.  This is usually the result of calling `frame.insert` many times, which has poor performance.  Consider joining all columns at once using pd.concat(axis=1) instead. To get a de-fragmented frame, use `newframe = frame.copy()`\n",
            "  df[\"고도\"] = df[\"station_name\"].map(lambda name: location_map[name][2])\n"
          ]
        }
      ]
    },
    {
      "cell_type": "code",
      "source": [
        "testD[\"위도\"] = testD[\"station_name\"].map(lambda name: location_map[name][0])\n",
        "testD[\"경도\"] = testD[\"station_name\"].map(lambda name: location_map[name][1])\n",
        "testD[\"고도\"] = testD[\"station_name\"].map(lambda name: location_map[name][2])"
      ],
      "metadata": {
        "id": "k2wH9ILTgEYs",
        "outputId": "29e5b699-88a9-48a8-a3fe-5c79c3c52ea2",
        "colab": {
          "base_uri": "https://localhost:8080/"
        }
      },
      "execution_count": 433,
      "outputs": [
        {
          "output_type": "stream",
          "name": "stderr",
          "text": [
            "<ipython-input-433-eef0266b718f>:1: PerformanceWarning: DataFrame is highly fragmented.  This is usually the result of calling `frame.insert` many times, which has poor performance.  Consider joining all columns at once using pd.concat(axis=1) instead. To get a de-fragmented frame, use `newframe = frame.copy()`\n",
            "  testD[\"위도\"] = testD[\"station_name\"].map(lambda name: location_map[name][0])\n",
            "<ipython-input-433-eef0266b718f>:2: PerformanceWarning: DataFrame is highly fragmented.  This is usually the result of calling `frame.insert` many times, which has poor performance.  Consider joining all columns at once using pd.concat(axis=1) instead. To get a de-fragmented frame, use `newframe = frame.copy()`\n",
            "  testD[\"경도\"] = testD[\"station_name\"].map(lambda name: location_map[name][1])\n",
            "<ipython-input-433-eef0266b718f>:3: PerformanceWarning: DataFrame is highly fragmented.  This is usually the result of calling `frame.insert` many times, which has poor performance.  Consider joining all columns at once using pd.concat(axis=1) instead. To get a de-fragmented frame, use `newframe = frame.copy()`\n",
            "  testD[\"고도\"] = testD[\"station_name\"].map(lambda name: location_map[name][2])\n"
          ]
        }
      ]
    },
    {
      "cell_type": "markdown",
      "source": [
        "# sunshine_duration"
      ],
      "metadata": {
        "id": "qfF6ALHfJ7ww"
      }
    },
    {
      "cell_type": "code",
      "source": [
        "for i in range(24):\n",
        "    col = f\"sunshine_duration_{i}\"\n",
        "    nan_count = df[col].isna().sum()\n",
        "    neg_9999_count = (df[col] == -9999).sum()\n",
        "    print(f\"{col}: NaN = {nan_count}, -9999 = {neg_9999_count}\")"
      ],
      "metadata": {
        "id": "0U29SCAGf6Df",
        "colab": {
          "base_uri": "https://localhost:8080/"
        },
        "outputId": "d973f101-2a99-4f7f-99b0-fa2689ee188f"
      },
      "execution_count": 434,
      "outputs": [
        {
          "output_type": "stream",
          "name": "stdout",
          "text": [
            "sunshine_duration_0: NaN = 13132, -9999 = 0\n",
            "sunshine_duration_1: NaN = 13132, -9999 = 0\n",
            "sunshine_duration_2: NaN = 13132, -9999 = 0\n",
            "sunshine_duration_3: NaN = 13132, -9999 = 0\n",
            "sunshine_duration_4: NaN = 13132, -9999 = 0\n",
            "sunshine_duration_5: NaN = 13132, -9999 = 0\n",
            "sunshine_duration_6: NaN = 8203, -9999 = 0\n",
            "sunshine_duration_7: NaN = 4347, -9999 = 0\n",
            "sunshine_duration_8: NaN = 27, -9999 = 0\n",
            "sunshine_duration_9: NaN = 24, -9999 = 0\n",
            "sunshine_duration_10: NaN = 24, -9999 = 0\n",
            "sunshine_duration_11: NaN = 30, -9999 = 0\n",
            "sunshine_duration_12: NaN = 30, -9999 = 0\n",
            "sunshine_duration_13: NaN = 26, -9999 = 0\n",
            "sunshine_duration_14: NaN = 28, -9999 = 0\n",
            "sunshine_duration_15: NaN = 27, -9999 = 0\n",
            "sunshine_duration_16: NaN = 27, -9999 = 0\n",
            "sunshine_duration_17: NaN = 30, -9999 = 0\n",
            "sunshine_duration_18: NaN = 28, -9999 = 0\n",
            "sunshine_duration_19: NaN = 4189, -9999 = 0\n",
            "sunshine_duration_20: NaN = 7802, -9999 = 0\n",
            "sunshine_duration_21: NaN = 13058, -9999 = 0\n",
            "sunshine_duration_22: NaN = 13132, -9999 = 0\n",
            "sunshine_duration_23: NaN = 13132, -9999 = 0\n"
          ]
        }
      ]
    },
    {
      "cell_type": "code",
      "source": [
        "for i in range(24):\n",
        "    col = f\"sunshine_duration_{i}\"\n",
        "    nan_count = df[col].unique()\n",
        "    print(f\"{col}: 값 = {nan_count}\")"
      ],
      "metadata": {
        "id": "Wrzri6A2hGH-",
        "colab": {
          "base_uri": "https://localhost:8080/"
        },
        "outputId": "11bc9404-e4c6-4a10-f130-ac39df861c6c"
      },
      "execution_count": 435,
      "outputs": [
        {
          "output_type": "stream",
          "name": "stdout",
          "text": [
            "sunshine_duration_0: 값 = [nan]\n",
            "sunshine_duration_1: 값 = [nan]\n",
            "sunshine_duration_2: 값 = [nan]\n",
            "sunshine_duration_3: 값 = [nan]\n",
            "sunshine_duration_4: 값 = [nan]\n",
            "sunshine_duration_5: 값 = [nan]\n",
            "sunshine_duration_6: 값 = [nan 0.  0.1 0.3 0.2 0.4]\n",
            "sunshine_duration_7: 값 = [nan 0.  0.2 0.3 0.4 0.5 0.1 0.8 0.6 0.9 1.  0.7]\n",
            "sunshine_duration_8: 값 = [0.  0.1 0.2 0.4 0.3 0.5 0.6 0.7 0.9 1.  0.8 nan]\n",
            "sunshine_duration_9: 값 = [0.  0.5 0.4 0.3 0.2 0.7 0.6 0.1 0.8 0.9 1.  nan]\n",
            "sunshine_duration_10: 값 = [0.6 1.  0.8 0.  0.4 0.1 0.9 0.7 0.5 0.3 0.2 nan]\n",
            "sunshine_duration_11: 값 = [0.9 1.  0.8 0.  0.6 0.7 0.2 0.3 0.5 0.4 0.1 nan]\n",
            "sunshine_duration_12: 값 = [1.  0.5 0.4 0.  0.7 0.2 0.9 0.8 0.1 0.6 0.3 nan]\n",
            "sunshine_duration_13: 값 = [1.  0.  0.9 0.8 0.1 0.4 0.2 0.5 0.3 0.6 0.7 nan]\n",
            "sunshine_duration_14: 값 = [1.  0.7 0.5 0.2 0.6 0.  0.8 0.9 0.4 0.1 0.3 nan]\n",
            "sunshine_duration_15: 값 = [1.  0.2 0.9 0.4 0.  0.8 0.3 0.5 0.7 0.1 0.6 nan]\n",
            "sunshine_duration_16: 값 = [1.  0.8 0.  0.3 0.7 0.9 0.6 0.1 0.2 0.4 0.5 nan]\n",
            "sunshine_duration_17: 값 = [1.  0.4 0.  0.9 0.7 0.1 0.2 0.8 0.6 0.5 0.3 nan]\n",
            "sunshine_duration_18: 값 = [0.  0.2 0.3 0.5 0.4 nan 0.1 0.9 0.6 0.8 0.7 1. ]\n",
            "sunshine_duration_19: 값 = [nan 0.  0.1 0.2 0.3 0.4 0.5 0.6 0.8 0.7 0.9 1. ]\n",
            "sunshine_duration_20: 값 = [nan 0.  0.3 0.2 0.1 0.4 0.6 0.7 0.5 0.8]\n",
            "sunshine_duration_21: 값 = [nan  0.]\n",
            "sunshine_duration_22: 값 = [nan]\n",
            "sunshine_duration_23: 값 = [nan]\n"
          ]
        }
      ]
    },
    {
      "cell_type": "code",
      "source": [
        "def process_sunshine_duration(dataframe):\n",
        "    # 0. 컬럼 리스트 정의\n",
        "    sun_cols = [f\"sunshine_duration_{i}\" for i in range(24)]\n",
        "\n",
        "    # 1. -9999 → NaN으로 먼저 처리\n",
        "    dataframe[sun_cols] = dataframe[sun_cols].replace(-9999, np.nan)\n",
        "\n",
        "    # 2. 평균값 조건에 따른 결측값 채우기\n",
        "    for col in sun_cols:\n",
        "        mean_val = dataframe[col].mean(skipna=True)\n",
        "\n",
        "        if mean_val <= 0.2:\n",
        "            dataframe[col] = dataframe[col].fillna(0)\n",
        "        elif mean_val >= 0.8:\n",
        "            dataframe[col] = dataframe[col].fillna(1)\n",
        "        else:\n",
        "            dataframe[col] = dataframe[col].fillna(mean_val)\n",
        "\n",
        "    # 3. 결측 상태 출력 (보간 후)\n",
        "    for i in range(24):\n",
        "        col = f\"sunshine_duration_{i}\"\n",
        "        nan_count = dataframe[col].isna().sum()\n",
        "        neg_9999_count = (dataframe[col] == -9999).sum()\n",
        "        print(f\"{col}: NaN = {nan_count}, -9999 = {neg_9999_count}\")\n",
        "\n",
        "    # 4. 남은 NaN 0으로 처리\n",
        "    dataframe[sun_cols] = dataframe[sun_cols].fillna(0)\n",
        "\n",
        "    # 5. 다시 확인\n",
        "    for i in range(24):\n",
        "        col = f\"sunshine_duration_{i}\"\n",
        "        nan_count = dataframe[col].isna().sum()\n",
        "        neg_9999_count = (dataframe[col] == -9999).sum()\n",
        "        print(f\"{col}: NaN = {nan_count}, -9999 = {neg_9999_count}\")\n",
        "\n",
        "    return dataframe\n",
        "\n",
        "# df와 testD 모두 처리\n",
        "df = process_sunshine_duration(df)\n",
        "testD = process_sunshine_duration(testD)"
      ],
      "metadata": {
        "id": "U5rVnrYekCxS",
        "colab": {
          "base_uri": "https://localhost:8080/"
        },
        "outputId": "fb53a87a-3cc9-40eb-d7dc-2d21de780473"
      },
      "execution_count": 436,
      "outputs": [
        {
          "output_type": "stream",
          "name": "stdout",
          "text": [
            "sunshine_duration_0: NaN = 13132, -9999 = 0\n",
            "sunshine_duration_1: NaN = 13132, -9999 = 0\n",
            "sunshine_duration_2: NaN = 13132, -9999 = 0\n",
            "sunshine_duration_3: NaN = 13132, -9999 = 0\n",
            "sunshine_duration_4: NaN = 13132, -9999 = 0\n",
            "sunshine_duration_5: NaN = 13132, -9999 = 0\n",
            "sunshine_duration_6: NaN = 0, -9999 = 0\n",
            "sunshine_duration_7: NaN = 0, -9999 = 0\n",
            "sunshine_duration_8: NaN = 0, -9999 = 0\n",
            "sunshine_duration_9: NaN = 0, -9999 = 0\n",
            "sunshine_duration_10: NaN = 0, -9999 = 0\n",
            "sunshine_duration_11: NaN = 0, -9999 = 0\n",
            "sunshine_duration_12: NaN = 0, -9999 = 0\n",
            "sunshine_duration_13: NaN = 0, -9999 = 0\n",
            "sunshine_duration_14: NaN = 0, -9999 = 0\n",
            "sunshine_duration_15: NaN = 0, -9999 = 0\n",
            "sunshine_duration_16: NaN = 0, -9999 = 0\n",
            "sunshine_duration_17: NaN = 0, -9999 = 0\n",
            "sunshine_duration_18: NaN = 0, -9999 = 0\n",
            "sunshine_duration_19: NaN = 0, -9999 = 0\n",
            "sunshine_duration_20: NaN = 0, -9999 = 0\n",
            "sunshine_duration_21: NaN = 0, -9999 = 0\n",
            "sunshine_duration_22: NaN = 13132, -9999 = 0\n",
            "sunshine_duration_23: NaN = 13132, -9999 = 0\n",
            "sunshine_duration_0: NaN = 0, -9999 = 0\n",
            "sunshine_duration_1: NaN = 0, -9999 = 0\n",
            "sunshine_duration_2: NaN = 0, -9999 = 0\n",
            "sunshine_duration_3: NaN = 0, -9999 = 0\n",
            "sunshine_duration_4: NaN = 0, -9999 = 0\n",
            "sunshine_duration_5: NaN = 0, -9999 = 0\n",
            "sunshine_duration_6: NaN = 0, -9999 = 0\n",
            "sunshine_duration_7: NaN = 0, -9999 = 0\n",
            "sunshine_duration_8: NaN = 0, -9999 = 0\n",
            "sunshine_duration_9: NaN = 0, -9999 = 0\n",
            "sunshine_duration_10: NaN = 0, -9999 = 0\n",
            "sunshine_duration_11: NaN = 0, -9999 = 0\n",
            "sunshine_duration_12: NaN = 0, -9999 = 0\n",
            "sunshine_duration_13: NaN = 0, -9999 = 0\n",
            "sunshine_duration_14: NaN = 0, -9999 = 0\n",
            "sunshine_duration_15: NaN = 0, -9999 = 0\n",
            "sunshine_duration_16: NaN = 0, -9999 = 0\n",
            "sunshine_duration_17: NaN = 0, -9999 = 0\n",
            "sunshine_duration_18: NaN = 0, -9999 = 0\n",
            "sunshine_duration_19: NaN = 0, -9999 = 0\n",
            "sunshine_duration_20: NaN = 0, -9999 = 0\n",
            "sunshine_duration_21: NaN = 0, -9999 = 0\n",
            "sunshine_duration_22: NaN = 0, -9999 = 0\n",
            "sunshine_duration_23: NaN = 0, -9999 = 0\n",
            "sunshine_duration_0: NaN = 3004, -9999 = 0\n",
            "sunshine_duration_1: NaN = 3004, -9999 = 0\n",
            "sunshine_duration_2: NaN = 3004, -9999 = 0\n",
            "sunshine_duration_3: NaN = 3004, -9999 = 0\n",
            "sunshine_duration_4: NaN = 3004, -9999 = 0\n",
            "sunshine_duration_5: NaN = 3004, -9999 = 0\n",
            "sunshine_duration_6: NaN = 0, -9999 = 0\n",
            "sunshine_duration_7: NaN = 0, -9999 = 0\n",
            "sunshine_duration_8: NaN = 0, -9999 = 0\n",
            "sunshine_duration_9: NaN = 0, -9999 = 0\n",
            "sunshine_duration_10: NaN = 0, -9999 = 0\n",
            "sunshine_duration_11: NaN = 0, -9999 = 0\n",
            "sunshine_duration_12: NaN = 0, -9999 = 0\n",
            "sunshine_duration_13: NaN = 0, -9999 = 0\n",
            "sunshine_duration_14: NaN = 0, -9999 = 0\n",
            "sunshine_duration_15: NaN = 0, -9999 = 0\n",
            "sunshine_duration_16: NaN = 0, -9999 = 0\n",
            "sunshine_duration_17: NaN = 0, -9999 = 0\n",
            "sunshine_duration_18: NaN = 0, -9999 = 0\n",
            "sunshine_duration_19: NaN = 0, -9999 = 0\n",
            "sunshine_duration_20: NaN = 0, -9999 = 0\n",
            "sunshine_duration_21: NaN = 3004, -9999 = 0\n",
            "sunshine_duration_22: NaN = 3004, -9999 = 0\n",
            "sunshine_duration_23: NaN = 3004, -9999 = 0\n",
            "sunshine_duration_0: NaN = 0, -9999 = 0\n",
            "sunshine_duration_1: NaN = 0, -9999 = 0\n",
            "sunshine_duration_2: NaN = 0, -9999 = 0\n",
            "sunshine_duration_3: NaN = 0, -9999 = 0\n",
            "sunshine_duration_4: NaN = 0, -9999 = 0\n",
            "sunshine_duration_5: NaN = 0, -9999 = 0\n",
            "sunshine_duration_6: NaN = 0, -9999 = 0\n",
            "sunshine_duration_7: NaN = 0, -9999 = 0\n",
            "sunshine_duration_8: NaN = 0, -9999 = 0\n",
            "sunshine_duration_9: NaN = 0, -9999 = 0\n",
            "sunshine_duration_10: NaN = 0, -9999 = 0\n",
            "sunshine_duration_11: NaN = 0, -9999 = 0\n",
            "sunshine_duration_12: NaN = 0, -9999 = 0\n",
            "sunshine_duration_13: NaN = 0, -9999 = 0\n",
            "sunshine_duration_14: NaN = 0, -9999 = 0\n",
            "sunshine_duration_15: NaN = 0, -9999 = 0\n",
            "sunshine_duration_16: NaN = 0, -9999 = 0\n",
            "sunshine_duration_17: NaN = 0, -9999 = 0\n",
            "sunshine_duration_18: NaN = 0, -9999 = 0\n",
            "sunshine_duration_19: NaN = 0, -9999 = 0\n",
            "sunshine_duration_20: NaN = 0, -9999 = 0\n",
            "sunshine_duration_21: NaN = 0, -9999 = 0\n",
            "sunshine_duration_22: NaN = 0, -9999 = 0\n",
            "sunshine_duration_23: NaN = 0, -9999 = 0\n"
          ]
        }
      ]
    },
    {
      "cell_type": "code",
      "source": [
        "for i in range(24):\n",
        "    col = f\"sunshine_duration_{i}\"\n",
        "    nan_count = df[col].isna().sum()\n",
        "    neg_9999_count = (df[col] == -9999).sum()\n",
        "    print(f\"{col}: NaN = {nan_count}, -9999 = {neg_9999_count}\")"
      ],
      "metadata": {
        "id": "anGd38FXkOVM",
        "colab": {
          "base_uri": "https://localhost:8080/"
        },
        "outputId": "c8dd1272-ebed-418e-b9c1-75dca5abc206"
      },
      "execution_count": 437,
      "outputs": [
        {
          "output_type": "stream",
          "name": "stdout",
          "text": [
            "sunshine_duration_0: NaN = 0, -9999 = 0\n",
            "sunshine_duration_1: NaN = 0, -9999 = 0\n",
            "sunshine_duration_2: NaN = 0, -9999 = 0\n",
            "sunshine_duration_3: NaN = 0, -9999 = 0\n",
            "sunshine_duration_4: NaN = 0, -9999 = 0\n",
            "sunshine_duration_5: NaN = 0, -9999 = 0\n",
            "sunshine_duration_6: NaN = 0, -9999 = 0\n",
            "sunshine_duration_7: NaN = 0, -9999 = 0\n",
            "sunshine_duration_8: NaN = 0, -9999 = 0\n",
            "sunshine_duration_9: NaN = 0, -9999 = 0\n",
            "sunshine_duration_10: NaN = 0, -9999 = 0\n",
            "sunshine_duration_11: NaN = 0, -9999 = 0\n",
            "sunshine_duration_12: NaN = 0, -9999 = 0\n",
            "sunshine_duration_13: NaN = 0, -9999 = 0\n",
            "sunshine_duration_14: NaN = 0, -9999 = 0\n",
            "sunshine_duration_15: NaN = 0, -9999 = 0\n",
            "sunshine_duration_16: NaN = 0, -9999 = 0\n",
            "sunshine_duration_17: NaN = 0, -9999 = 0\n",
            "sunshine_duration_18: NaN = 0, -9999 = 0\n",
            "sunshine_duration_19: NaN = 0, -9999 = 0\n",
            "sunshine_duration_20: NaN = 0, -9999 = 0\n",
            "sunshine_duration_21: NaN = 0, -9999 = 0\n",
            "sunshine_duration_22: NaN = 0, -9999 = 0\n",
            "sunshine_duration_23: NaN = 0, -9999 = 0\n"
          ]
        }
      ]
    },
    {
      "cell_type": "markdown",
      "source": [
        "# **snow depth**"
      ],
      "metadata": {
        "id": "pQkume1sk_2q"
      }
    },
    {
      "cell_type": "code",
      "source": [
        "for i in range(24):\n",
        "    col = f\"snow_depth_{i}\"\n",
        "    nan_count = df[col].isna().sum()\n",
        "    neg_9999_count = (df[col] == -9999).sum()\n",
        "    print(f\"{col}: NaN = {nan_count}, -9999 = {neg_9999_count}\")"
      ],
      "metadata": {
        "id": "HhvGDApvktGF",
        "colab": {
          "base_uri": "https://localhost:8080/"
        },
        "outputId": "801aba0b-7cbc-499f-eb71-a910a02eef2e"
      },
      "execution_count": 438,
      "outputs": [
        {
          "output_type": "stream",
          "name": "stdout",
          "text": [
            "snow_depth_0: NaN = 12678, -9999 = 0\n",
            "snow_depth_1: NaN = 12672, -9999 = 0\n",
            "snow_depth_2: NaN = 12667, -9999 = 0\n",
            "snow_depth_3: NaN = 12656, -9999 = 0\n",
            "snow_depth_4: NaN = 12644, -9999 = 0\n",
            "snow_depth_5: NaN = 12642, -9999 = 0\n",
            "snow_depth_6: NaN = 12625, -9999 = 0\n",
            "snow_depth_7: NaN = 12620, -9999 = 0\n",
            "snow_depth_8: NaN = 12612, -9999 = 0\n",
            "snow_depth_9: NaN = 12603, -9999 = 0\n",
            "snow_depth_10: NaN = 12600, -9999 = 0\n",
            "snow_depth_11: NaN = 12610, -9999 = 0\n",
            "snow_depth_12: NaN = 12634, -9999 = 0\n",
            "snow_depth_13: NaN = 12686, -9999 = 0\n",
            "snow_depth_14: NaN = 12720, -9999 = 0\n",
            "snow_depth_15: NaN = 12740, -9999 = 0\n",
            "snow_depth_16: NaN = 12748, -9999 = 0\n",
            "snow_depth_17: NaN = 12744, -9999 = 0\n",
            "snow_depth_18: NaN = 12732, -9999 = 0\n",
            "snow_depth_19: NaN = 12724, -9999 = 0\n",
            "snow_depth_20: NaN = 12718, -9999 = 0\n",
            "snow_depth_21: NaN = 12700, -9999 = 0\n",
            "snow_depth_22: NaN = 12701, -9999 = 0\n",
            "snow_depth_23: NaN = 12692, -9999 = 0\n"
          ]
        }
      ]
    },
    {
      "cell_type": "code",
      "source": [
        "# snow_depth 컬럼들\n",
        "snow_cols = [col for col in df.columns if 'snow_depth_' in col]\n",
        "\n",
        "# 월별로 유효한(결측이 아닌) 값 개수 합산\n",
        "monthly_snow_counts = df.groupby('month')[snow_cols].apply(lambda x: x.notna().sum().sum())\n",
        "\n",
        "# 시각화\n",
        "plt.figure(figsize=(10,5))\n",
        "monthly_snow_counts.plot(kind='bar', color='skyblue')\n",
        "plt.title(\"월별 snow_depth 데이터 수\")\n",
        "plt.xlabel(\"월\")\n",
        "plt.ylabel(\"유효 데이터 개수\")\n",
        "plt.grid(axis='y')\n",
        "plt.xticks(rotation=0)\n",
        "plt.tight_layout()\n",
        "plt.show()"
      ],
      "metadata": {
        "id": "kX6JagC3lGzU",
        "colab": {
          "base_uri": "https://localhost:8080/",
          "height": 1000
        },
        "outputId": "315741a8-4565-42da-c17b-a4880fdd19a4"
      },
      "execution_count": 439,
      "outputs": [
        {
          "output_type": "stream",
          "name": "stderr",
          "text": [
            "<ipython-input-439-27bdf7c67b9f>:15: UserWarning: Glyph 50900 (\\N{HANGUL SYLLABLE WEOL}) missing from font(s) DejaVu Sans.\n",
            "  plt.tight_layout()\n",
            "<ipython-input-439-27bdf7c67b9f>:15: UserWarning: Glyph 50976 (\\N{HANGUL SYLLABLE YU}) missing from font(s) DejaVu Sans.\n",
            "  plt.tight_layout()\n",
            "<ipython-input-439-27bdf7c67b9f>:15: UserWarning: Glyph 54952 (\\N{HANGUL SYLLABLE HYO}) missing from font(s) DejaVu Sans.\n",
            "  plt.tight_layout()\n",
            "<ipython-input-439-27bdf7c67b9f>:15: UserWarning: Glyph 45936 (\\N{HANGUL SYLLABLE DE}) missing from font(s) DejaVu Sans.\n",
            "  plt.tight_layout()\n",
            "<ipython-input-439-27bdf7c67b9f>:15: UserWarning: Glyph 51060 (\\N{HANGUL SYLLABLE I}) missing from font(s) DejaVu Sans.\n",
            "  plt.tight_layout()\n",
            "<ipython-input-439-27bdf7c67b9f>:15: UserWarning: Glyph 53552 (\\N{HANGUL SYLLABLE TEO}) missing from font(s) DejaVu Sans.\n",
            "  plt.tight_layout()\n",
            "<ipython-input-439-27bdf7c67b9f>:15: UserWarning: Glyph 44060 (\\N{HANGUL SYLLABLE GAE}) missing from font(s) DejaVu Sans.\n",
            "  plt.tight_layout()\n",
            "<ipython-input-439-27bdf7c67b9f>:15: UserWarning: Glyph 49688 (\\N{HANGUL SYLLABLE SU}) missing from font(s) DejaVu Sans.\n",
            "  plt.tight_layout()\n",
            "<ipython-input-439-27bdf7c67b9f>:15: UserWarning: Glyph 48324 (\\N{HANGUL SYLLABLE BYEOL}) missing from font(s) DejaVu Sans.\n",
            "  plt.tight_layout()\n",
            "/usr/local/lib/python3.11/dist-packages/IPython/core/pylabtools.py:151: UserWarning: Glyph 50976 (\\N{HANGUL SYLLABLE YU}) missing from font(s) DejaVu Sans.\n",
            "  fig.canvas.print_figure(bytes_io, **kw)\n",
            "/usr/local/lib/python3.11/dist-packages/IPython/core/pylabtools.py:151: UserWarning: Glyph 54952 (\\N{HANGUL SYLLABLE HYO}) missing from font(s) DejaVu Sans.\n",
            "  fig.canvas.print_figure(bytes_io, **kw)\n",
            "/usr/local/lib/python3.11/dist-packages/IPython/core/pylabtools.py:151: UserWarning: Glyph 45936 (\\N{HANGUL SYLLABLE DE}) missing from font(s) DejaVu Sans.\n",
            "  fig.canvas.print_figure(bytes_io, **kw)\n",
            "/usr/local/lib/python3.11/dist-packages/IPython/core/pylabtools.py:151: UserWarning: Glyph 51060 (\\N{HANGUL SYLLABLE I}) missing from font(s) DejaVu Sans.\n",
            "  fig.canvas.print_figure(bytes_io, **kw)\n",
            "/usr/local/lib/python3.11/dist-packages/IPython/core/pylabtools.py:151: UserWarning: Glyph 53552 (\\N{HANGUL SYLLABLE TEO}) missing from font(s) DejaVu Sans.\n",
            "  fig.canvas.print_figure(bytes_io, **kw)\n",
            "/usr/local/lib/python3.11/dist-packages/IPython/core/pylabtools.py:151: UserWarning: Glyph 44060 (\\N{HANGUL SYLLABLE GAE}) missing from font(s) DejaVu Sans.\n",
            "  fig.canvas.print_figure(bytes_io, **kw)\n",
            "/usr/local/lib/python3.11/dist-packages/IPython/core/pylabtools.py:151: UserWarning: Glyph 49688 (\\N{HANGUL SYLLABLE SU}) missing from font(s) DejaVu Sans.\n",
            "  fig.canvas.print_figure(bytes_io, **kw)\n",
            "/usr/local/lib/python3.11/dist-packages/IPython/core/pylabtools.py:151: UserWarning: Glyph 50900 (\\N{HANGUL SYLLABLE WEOL}) missing from font(s) DejaVu Sans.\n",
            "  fig.canvas.print_figure(bytes_io, **kw)\n",
            "/usr/local/lib/python3.11/dist-packages/IPython/core/pylabtools.py:151: UserWarning: Glyph 48324 (\\N{HANGUL SYLLABLE BYEOL}) missing from font(s) DejaVu Sans.\n",
            "  fig.canvas.print_figure(bytes_io, **kw)\n"
          ]
        },
        {
          "output_type": "display_data",
          "data": {
            "text/plain": [
              "<Figure size 1000x500 with 1 Axes>"
            ],
            "image/png": "[encoded data removed]"
          },
          "metadata": {}
        }
      ]
    },
    {
      "cell_type": "code",
      "source": [
        "snow_cols = [col for col in df.columns if 'snow_depth' in col]\n",
        "\n",
        "# 해당 컬럼들에 대해 NaN을 0으로 대체\n",
        "df[snow_cols] = df[snow_cols].fillna(0)\n",
        "testD[snow_cols] = testD[snow_cols].fillna(0)"
      ],
      "metadata": {
        "id": "CyaRYDQZlN4W"
      },
      "execution_count": 440,
      "outputs": []
    },
    {
      "cell_type": "code",
      "source": [
        "for i in range(24):\n",
        "    col = f\"snow_depth_{i}\"\n",
        "    nan_count = testD[col].isna().sum()\n",
        "    neg_9999_count = (testD[col] == -9999).sum()\n",
        "    print(f\"{col}: NaN = {nan_count}, -9999 = {neg_9999_count}\")"
      ],
      "metadata": {
        "colab": {
          "base_uri": "https://localhost:8080/"
        },
        "id": "nSYGu6YC0l03",
        "outputId": "6aae798f-b108-406b-ed57-309c7bf8e96b"
      },
      "execution_count": 441,
      "outputs": [
        {
          "output_type": "stream",
          "name": "stdout",
          "text": [
            "snow_depth_0: NaN = 0, -9999 = 0\n",
            "snow_depth_1: NaN = 0, -9999 = 0\n",
            "snow_depth_2: NaN = 0, -9999 = 0\n",
            "snow_depth_3: NaN = 0, -9999 = 0\n",
            "snow_depth_4: NaN = 0, -9999 = 0\n",
            "snow_depth_5: NaN = 0, -9999 = 0\n",
            "snow_depth_6: NaN = 0, -9999 = 0\n",
            "snow_depth_7: NaN = 0, -9999 = 0\n",
            "snow_depth_8: NaN = 0, -9999 = 0\n",
            "snow_depth_9: NaN = 0, -9999 = 0\n",
            "snow_depth_10: NaN = 0, -9999 = 0\n",
            "snow_depth_11: NaN = 0, -9999 = 0\n",
            "snow_depth_12: NaN = 0, -9999 = 0\n",
            "snow_depth_13: NaN = 0, -9999 = 0\n",
            "snow_depth_14: NaN = 0, -9999 = 0\n",
            "snow_depth_15: NaN = 0, -9999 = 0\n",
            "snow_depth_16: NaN = 0, -9999 = 0\n",
            "snow_depth_17: NaN = 0, -9999 = 0\n",
            "snow_depth_18: NaN = 0, -9999 = 0\n",
            "snow_depth_19: NaN = 0, -9999 = 0\n",
            "snow_depth_20: NaN = 0, -9999 = 0\n",
            "snow_depth_21: NaN = 0, -9999 = 0\n",
            "snow_depth_22: NaN = 0, -9999 = 0\n",
            "snow_depth_23: NaN = 0, -9999 = 0\n"
          ]
        }
      ]
    },
    {
      "cell_type": "markdown",
      "source": [
        "# **precipitation_n: 강수량(mm)**\n",
        "\n",
        "일단 nan값을 0으로 함  \n",
        "비가 온 날을 따로 잡고싶기에 일단 강수량 - (눈온날)을 할 예정"
      ],
      "metadata": {
        "id": "gi15lBI_lZDp"
      }
    },
    {
      "cell_type": "code",
      "source": [
        "# snow_depth 컬럼들\n",
        "snow_cols = [col for col in df.columns if 'precipitation_' in col]\n",
        "\n",
        "# 월별로 유효한(결측이 아닌) 값 개수 합산\n",
        "monthly_snow_counts = df.groupby('month')[snow_cols].apply(lambda x: x.notna().sum().sum())\n",
        "\n",
        "# 시각화\n",
        "plt.figure(figsize=(10,5))\n",
        "monthly_snow_counts.plot(kind='bar', color='skyblue')\n",
        "plt.xlabel(\"month\")\n",
        "plt.ylabel(\"data count\")\n",
        "plt.grid(axis='y')\n",
        "plt.xticks(rotation=0)\n",
        "plt.tight_layout()\n",
        "plt.show()"
      ],
      "metadata": {
        "id": "CC_laVbnlTyg",
        "colab": {
          "base_uri": "https://localhost:8080/",
          "height": 507
        },
        "outputId": "5d7f11d1-9a26-4e94-ca3d-2cb92a56df52"
      },
      "execution_count": 442,
      "outputs": [
        {
          "output_type": "display_data",
          "data": {
            "text/plain": [
              "<Figure size 1000x500 with 1 Axes>"
            ],
            "image/png": "[encoded data removed]"
          },
          "metadata": {}
        }
      ]
    },
    {
      "cell_type": "code",
      "source": [
        "# 공통 컬럼 정의\n",
        "def preprocess_precip_snow(dataframe):\n",
        "    precip_cols = [f\"precipitation_{i}\" for i in range(24)]\n",
        "    snow_cols = [f\"snow_depth_{i}\" for i in range(24)]\n",
        "\n",
        "    # -9999 → NaN\n",
        "    dataframe[precip_cols] = dataframe[precip_cols].replace(-9999, np.nan)\n",
        "    dataframe[snow_cols] = dataframe[snow_cols].replace(-9999, np.nan)\n",
        "\n",
        "    # NaN → 0\n",
        "    dataframe[precip_cols] = dataframe[precip_cols].fillna(0)\n",
        "    dataframe[snow_cols] = dataframe[snow_cols].fillna(0)\n",
        "\n",
        "    # rainy_day_n 생성\n",
        "    for i in range(24):\n",
        "        dataframe[f\"rainy_day_{i}\"] = dataframe[f\"precipitation_{i}\"].where(\n",
        "            dataframe[f\"snow_depth_{i}\"] == 0, 0\n",
        "        )\n",
        "\n",
        "    return dataframe"
      ],
      "metadata": {
        "id": "7XGPkBEpoBZf"
      },
      "execution_count": 443,
      "outputs": []
    },
    {
      "cell_type": "code",
      "source": [
        "df = preprocess_precip_snow(df)\n",
        "testD = preprocess_precip_snow(testD)"
      ],
      "metadata": {
        "colab": {
          "base_uri": "https://localhost:8080/"
        },
        "id": "ZfTV-5PVvBRI",
        "outputId": "d8562442-ab06-4841-a5c1-0bfa35d32cc1"
      },
      "execution_count": 444,
      "outputs": [
        {
          "output_type": "stream",
          "name": "stderr",
          "text": [
            "<ipython-input-443-068354f831ce>:16: PerformanceWarning: DataFrame is highly fragmented.  This is usually the result of calling `frame.insert` many times, which has poor performance.  Consider joining all columns at once using pd.concat(axis=1) instead. To get a de-fragmented frame, use `newframe = frame.copy()`\n",
            "  dataframe[f\"rainy_day_{i}\"] = dataframe[f\"precipitation_{i}\"].where(\n",
            "<ipython-input-443-068354f831ce>:16: PerformanceWarning: DataFrame is highly fragmented.  This is usually the result of calling `frame.insert` many times, which has poor performance.  Consider joining all columns at once using pd.concat(axis=1) instead. To get a de-fragmented frame, use `newframe = frame.copy()`\n",
            "  dataframe[f\"rainy_day_{i}\"] = dataframe[f\"precipitation_{i}\"].where(\n",
            "<ipython-input-443-068354f831ce>:16: PerformanceWarning: DataFrame is highly fragmented.  This is usually the result of calling `frame.insert` many times, which has poor performance.  Consider joining all columns at once using pd.concat(axis=1) instead. To get a de-fragmented frame, use `newframe = frame.copy()`\n",
            "  dataframe[f\"rainy_day_{i}\"] = dataframe[f\"precipitation_{i}\"].where(\n",
            "<ipython-input-443-068354f831ce>:16: PerformanceWarning: DataFrame is highly fragmented.  This is usually the result of calling `frame.insert` many times, which has poor performance.  Consider joining all columns at once using pd.concat(axis=1) instead. To get a de-fragmented frame, use `newframe = frame.copy()`\n",
            "  dataframe[f\"rainy_day_{i}\"] = dataframe[f\"precipitation_{i}\"].where(\n",
            "<ipython-input-443-068354f831ce>:16: PerformanceWarning: DataFrame is highly fragmented.  This is usually the result of calling `frame.insert` many times, which has poor performance.  Consider joining all columns at once using pd.concat(axis=1) instead. To get a de-fragmented frame, use `newframe = frame.copy()`\n",
            "  dataframe[f\"rainy_day_{i}\"] = dataframe[f\"precipitation_{i}\"].where(\n",
            "<ipython-input-443-068354f831ce>:16: PerformanceWarning: DataFrame is highly fragmented.  This is usually the result of calling `frame.insert` many times, which has poor performance.  Consider joining all columns at once using pd.concat(axis=1) instead. To get a de-fragmented frame, use `newframe = frame.copy()`\n",
            "  dataframe[f\"rainy_day_{i}\"] = dataframe[f\"precipitation_{i}\"].where(\n",
            "<ipython-input-443-068354f831ce>:16: PerformanceWarning: DataFrame is highly fragmented.  This is usually the result of calling `frame.insert` many times, which has poor performance.  Consider joining all columns at once using pd.concat(axis=1) instead. To get a de-fragmented frame, use `newframe = frame.copy()`\n",
            "  dataframe[f\"rainy_day_{i}\"] = dataframe[f\"precipitation_{i}\"].where(\n",
            "<ipython-input-443-068354f831ce>:16: PerformanceWarning: DataFrame is highly fragmented.  This is usually the result of calling `frame.insert` many times, which has poor performance.  Consider joining all columns at once using pd.concat(axis=1) instead. To get a de-fragmented frame, use `newframe = frame.copy()`\n",
            "  dataframe[f\"rainy_day_{i}\"] = dataframe[f\"precipitation_{i}\"].where(\n",
            "<ipython-input-443-068354f831ce>:16: PerformanceWarning: DataFrame is highly fragmented.  This is usually the result of calling `frame.insert` many times, which has poor performance.  Consider joining all columns at once using pd.concat(axis=1) instead. To get a de-fragmented frame, use `newframe = frame.copy()`\n",
            "  dataframe[f\"rainy_day_{i}\"] = dataframe[f\"precipitation_{i}\"].where(\n",
            "<ipython-input-443-068354f831ce>:16: PerformanceWarning: DataFrame is highly fragmented.  This is usually the result of calling `frame.insert` many times, which has poor performance.  Consider joining all columns at once using pd.concat(axis=1) instead. To get a de-fragmented frame, use `newframe = frame.copy()`\n",
            "  dataframe[f\"rainy_day_{i}\"] = dataframe[f\"precipitation_{i}\"].where(\n",
            "<ipython-input-443-068354f831ce>:16: PerformanceWarning: DataFrame is highly fragmented.  This is usually the result of calling `frame.insert` many times, which has poor performance.  Consider joining all columns at once using pd.concat(axis=1) instead. To get a de-fragmented frame, use `newframe = frame.copy()`\n",
            "  dataframe[f\"rainy_day_{i}\"] = dataframe[f\"precipitation_{i}\"].where(\n",
            "<ipython-input-443-068354f831ce>:16: PerformanceWarning: DataFrame is highly fragmented.  This is usually the result of calling `frame.insert` many times, which has poor performance.  Consider joining all columns at once using pd.concat(axis=1) instead. To get a de-fragmented frame, use `newframe = frame.copy()`\n",
            "  dataframe[f\"rainy_day_{i}\"] = dataframe[f\"precipitation_{i}\"].where(\n",
            "<ipython-input-443-068354f831ce>:16: PerformanceWarning: DataFrame is highly fragmented.  This is usually the result of calling `frame.insert` many times, which has poor performance.  Consider joining all columns at once using pd.concat(axis=1) instead. To get a de-fragmented frame, use `newframe = frame.copy()`\n",
            "  dataframe[f\"rainy_day_{i}\"] = dataframe[f\"precipitation_{i}\"].where(\n",
            "<ipython-input-443-068354f831ce>:16: PerformanceWarning: DataFrame is highly fragmented.  This is usually the result of calling `frame.insert` many times, which has poor performance.  Consider joining all columns at once using pd.concat(axis=1) instead. To get a de-fragmented frame, use `newframe = frame.copy()`\n",
            "  dataframe[f\"rainy_day_{i}\"] = dataframe[f\"precipitation_{i}\"].where(\n",
            "<ipython-input-443-068354f831ce>:16: PerformanceWarning: DataFrame is highly fragmented.  This is usually the result of calling `frame.insert` many times, which has poor performance.  Consider joining all columns at once using pd.concat(axis=1) instead. To get a de-fragmented frame, use `newframe = frame.copy()`\n",
            "  dataframe[f\"rainy_day_{i}\"] = dataframe[f\"precipitation_{i}\"].where(\n",
            "<ipython-input-443-068354f831ce>:16: PerformanceWarning: DataFrame is highly fragmented.  This is usually the result of calling `frame.insert` many times, which has poor performance.  Consider joining all columns at once using pd.concat(axis=1) instead. To get a de-fragmented frame, use `newframe = frame.copy()`\n",
            "  dataframe[f\"rainy_day_{i}\"] = dataframe[f\"precipitation_{i}\"].where(\n",
            "<ipython-input-443-068354f831ce>:16: PerformanceWarning: DataFrame is highly fragmented.  This is usually the result of calling `frame.insert` many times, which has poor performance.  Consider joining all columns at once using pd.concat(axis=1) instead. To get a de-fragmented frame, use `newframe = frame.copy()`\n",
            "  dataframe[f\"rainy_day_{i}\"] = dataframe[f\"precipitation_{i}\"].where(\n",
            "<ipython-input-443-068354f831ce>:16: PerformanceWarning: DataFrame is highly fragmented.  This is usually the result of calling `frame.insert` many times, which has poor performance.  Consider joining all columns at once using pd.concat(axis=1) instead. To get a de-fragmented frame, use `newframe = frame.copy()`\n",
            "  dataframe[f\"rainy_day_{i}\"] = dataframe[f\"precipitation_{i}\"].where(\n",
            "<ipython-input-443-068354f831ce>:16: PerformanceWarning: DataFrame is highly fragmented.  This is usually the result of calling `frame.insert` many times, which has poor performance.  Consider joining all columns at once using pd.concat(axis=1) instead. To get a de-fragmented frame, use `newframe = frame.copy()`\n",
            "  dataframe[f\"rainy_day_{i}\"] = dataframe[f\"precipitation_{i}\"].where(\n",
            "<ipython-input-443-068354f831ce>:16: PerformanceWarning: DataFrame is highly fragmented.  This is usually the result of calling `frame.insert` many times, which has poor performance.  Consider joining all columns at once using pd.concat(axis=1) instead. To get a de-fragmented frame, use `newframe = frame.copy()`\n",
            "  dataframe[f\"rainy_day_{i}\"] = dataframe[f\"precipitation_{i}\"].where(\n",
            "<ipython-input-443-068354f831ce>:16: PerformanceWarning: DataFrame is highly fragmented.  This is usually the result of calling `frame.insert` many times, which has poor performance.  Consider joining all columns at once using pd.concat(axis=1) instead. To get a de-fragmented frame, use `newframe = frame.copy()`\n",
            "  dataframe[f\"rainy_day_{i}\"] = dataframe[f\"precipitation_{i}\"].where(\n",
            "<ipython-input-443-068354f831ce>:16: PerformanceWarning: DataFrame is highly fragmented.  This is usually the result of calling `frame.insert` many times, which has poor performance.  Consider joining all columns at once using pd.concat(axis=1) instead. To get a de-fragmented frame, use `newframe = frame.copy()`\n",
            "  dataframe[f\"rainy_day_{i}\"] = dataframe[f\"precipitation_{i}\"].where(\n",
            "<ipython-input-443-068354f831ce>:16: PerformanceWarning: DataFrame is highly fragmented.  This is usually the result of calling `frame.insert` many times, which has poor performance.  Consider joining all columns at once using pd.concat(axis=1) instead. To get a de-fragmented frame, use `newframe = frame.copy()`\n",
            "  dataframe[f\"rainy_day_{i}\"] = dataframe[f\"precipitation_{i}\"].where(\n",
            "<ipython-input-443-068354f831ce>:16: PerformanceWarning: DataFrame is highly fragmented.  This is usually the result of calling `frame.insert` many times, which has poor performance.  Consider joining all columns at once using pd.concat(axis=1) instead. To get a de-fragmented frame, use `newframe = frame.copy()`\n",
            "  dataframe[f\"rainy_day_{i}\"] = dataframe[f\"precipitation_{i}\"].where(\n",
            "<ipython-input-443-068354f831ce>:16: PerformanceWarning: DataFrame is highly fragmented.  This is usually the result of calling `frame.insert` many times, which has poor performance.  Consider joining all columns at once using pd.concat(axis=1) instead. To get a de-fragmented frame, use `newframe = frame.copy()`\n",
            "  dataframe[f\"rainy_day_{i}\"] = dataframe[f\"precipitation_{i}\"].where(\n",
            "<ipython-input-443-068354f831ce>:16: PerformanceWarning: DataFrame is highly fragmented.  This is usually the result of calling `frame.insert` many times, which has poor performance.  Consider joining all columns at once using pd.concat(axis=1) instead. To get a de-fragmented frame, use `newframe = frame.copy()`\n",
            "  dataframe[f\"rainy_day_{i}\"] = dataframe[f\"precipitation_{i}\"].where(\n",
            "<ipython-input-443-068354f831ce>:16: PerformanceWarning: DataFrame is highly fragmented.  This is usually the result of calling `frame.insert` many times, which has poor performance.  Consider joining all columns at once using pd.concat(axis=1) instead. To get a de-fragmented frame, use `newframe = frame.copy()`\n",
            "  dataframe[f\"rainy_day_{i}\"] = dataframe[f\"precipitation_{i}\"].where(\n",
            "<ipython-input-443-068354f831ce>:16: PerformanceWarning: DataFrame is highly fragmented.  This is usually the result of calling `frame.insert` many times, which has poor performance.  Consider joining all columns at once using pd.concat(axis=1) instead. To get a de-fragmented frame, use `newframe = frame.copy()`\n",
            "  dataframe[f\"rainy_day_{i}\"] = dataframe[f\"precipitation_{i}\"].where(\n",
            "<ipython-input-443-068354f831ce>:16: PerformanceWarning: DataFrame is highly fragmented.  This is usually the result of calling `frame.insert` many times, which has poor performance.  Consider joining all columns at once using pd.concat(axis=1) instead. To get a de-fragmented frame, use `newframe = frame.copy()`\n",
            "  dataframe[f\"rainy_day_{i}\"] = dataframe[f\"precipitation_{i}\"].where(\n",
            "<ipython-input-443-068354f831ce>:16: PerformanceWarning: DataFrame is highly fragmented.  This is usually the result of calling `frame.insert` many times, which has poor performance.  Consider joining all columns at once using pd.concat(axis=1) instead. To get a de-fragmented frame, use `newframe = frame.copy()`\n",
            "  dataframe[f\"rainy_day_{i}\"] = dataframe[f\"precipitation_{i}\"].where(\n",
            "<ipython-input-443-068354f831ce>:16: PerformanceWarning: DataFrame is highly fragmented.  This is usually the result of calling `frame.insert` many times, which has poor performance.  Consider joining all columns at once using pd.concat(axis=1) instead. To get a de-fragmented frame, use `newframe = frame.copy()`\n",
            "  dataframe[f\"rainy_day_{i}\"] = dataframe[f\"precipitation_{i}\"].where(\n",
            "<ipython-input-443-068354f831ce>:16: PerformanceWarning: DataFrame is highly fragmented.  This is usually the result of calling `frame.insert` many times, which has poor performance.  Consider joining all columns at once using pd.concat(axis=1) instead. To get a de-fragmented frame, use `newframe = frame.copy()`\n",
            "  dataframe[f\"rainy_day_{i}\"] = dataframe[f\"precipitation_{i}\"].where(\n",
            "<ipython-input-443-068354f831ce>:16: PerformanceWarning: DataFrame is highly fragmented.  This is usually the result of calling `frame.insert` many times, which has poor performance.  Consider joining all columns at once using pd.concat(axis=1) instead. To get a de-fragmented frame, use `newframe = frame.copy()`\n",
            "  dataframe[f\"rainy_day_{i}\"] = dataframe[f\"precipitation_{i}\"].where(\n",
            "<ipython-input-443-068354f831ce>:16: PerformanceWarning: DataFrame is highly fragmented.  This is usually the result of calling `frame.insert` many times, which has poor performance.  Consider joining all columns at once using pd.concat(axis=1) instead. To get a de-fragmented frame, use `newframe = frame.copy()`\n",
            "  dataframe[f\"rainy_day_{i}\"] = dataframe[f\"precipitation_{i}\"].where(\n",
            "<ipython-input-443-068354f831ce>:16: PerformanceWarning: DataFrame is highly fragmented.  This is usually the result of calling `frame.insert` many times, which has poor performance.  Consider joining all columns at once using pd.concat(axis=1) instead. To get a de-fragmented frame, use `newframe = frame.copy()`\n",
            "  dataframe[f\"rainy_day_{i}\"] = dataframe[f\"precipitation_{i}\"].where(\n",
            "<ipython-input-443-068354f831ce>:16: PerformanceWarning: DataFrame is highly fragmented.  This is usually the result of calling `frame.insert` many times, which has poor performance.  Consider joining all columns at once using pd.concat(axis=1) instead. To get a de-fragmented frame, use `newframe = frame.copy()`\n",
            "  dataframe[f\"rainy_day_{i}\"] = dataframe[f\"precipitation_{i}\"].where(\n",
            "<ipython-input-443-068354f831ce>:16: PerformanceWarning: DataFrame is highly fragmented.  This is usually the result of calling `frame.insert` many times, which has poor performance.  Consider joining all columns at once using pd.concat(axis=1) instead. To get a de-fragmented frame, use `newframe = frame.copy()`\n",
            "  dataframe[f\"rainy_day_{i}\"] = dataframe[f\"precipitation_{i}\"].where(\n",
            "<ipython-input-443-068354f831ce>:16: PerformanceWarning: DataFrame is highly fragmented.  This is usually the result of calling `frame.insert` many times, which has poor performance.  Consider joining all columns at once using pd.concat(axis=1) instead. To get a de-fragmented frame, use `newframe = frame.copy()`\n",
            "  dataframe[f\"rainy_day_{i}\"] = dataframe[f\"precipitation_{i}\"].where(\n",
            "<ipython-input-443-068354f831ce>:16: PerformanceWarning: DataFrame is highly fragmented.  This is usually the result of calling `frame.insert` many times, which has poor performance.  Consider joining all columns at once using pd.concat(axis=1) instead. To get a de-fragmented frame, use `newframe = frame.copy()`\n",
            "  dataframe[f\"rainy_day_{i}\"] = dataframe[f\"precipitation_{i}\"].where(\n",
            "<ipython-input-443-068354f831ce>:16: PerformanceWarning: DataFrame is highly fragmented.  This is usually the result of calling `frame.insert` many times, which has poor performance.  Consider joining all columns at once using pd.concat(axis=1) instead. To get a de-fragmented frame, use `newframe = frame.copy()`\n",
            "  dataframe[f\"rainy_day_{i}\"] = dataframe[f\"precipitation_{i}\"].where(\n",
            "<ipython-input-443-068354f831ce>:16: PerformanceWarning: DataFrame is highly fragmented.  This is usually the result of calling `frame.insert` many times, which has poor performance.  Consider joining all columns at once using pd.concat(axis=1) instead. To get a de-fragmented frame, use `newframe = frame.copy()`\n",
            "  dataframe[f\"rainy_day_{i}\"] = dataframe[f\"precipitation_{i}\"].where(\n",
            "<ipython-input-443-068354f831ce>:16: PerformanceWarning: DataFrame is highly fragmented.  This is usually the result of calling `frame.insert` many times, which has poor performance.  Consider joining all columns at once using pd.concat(axis=1) instead. To get a de-fragmented frame, use `newframe = frame.copy()`\n",
            "  dataframe[f\"rainy_day_{i}\"] = dataframe[f\"precipitation_{i}\"].where(\n",
            "<ipython-input-443-068354f831ce>:16: PerformanceWarning: DataFrame is highly fragmented.  This is usually the result of calling `frame.insert` many times, which has poor performance.  Consider joining all columns at once using pd.concat(axis=1) instead. To get a de-fragmented frame, use `newframe = frame.copy()`\n",
            "  dataframe[f\"rainy_day_{i}\"] = dataframe[f\"precipitation_{i}\"].where(\n",
            "<ipython-input-443-068354f831ce>:16: PerformanceWarning: DataFrame is highly fragmented.  This is usually the result of calling `frame.insert` many times, which has poor performance.  Consider joining all columns at once using pd.concat(axis=1) instead. To get a de-fragmented frame, use `newframe = frame.copy()`\n",
            "  dataframe[f\"rainy_day_{i}\"] = dataframe[f\"precipitation_{i}\"].where(\n",
            "<ipython-input-443-068354f831ce>:16: PerformanceWarning: DataFrame is highly fragmented.  This is usually the result of calling `frame.insert` many times, which has poor performance.  Consider joining all columns at once using pd.concat(axis=1) instead. To get a de-fragmented frame, use `newframe = frame.copy()`\n",
            "  dataframe[f\"rainy_day_{i}\"] = dataframe[f\"precipitation_{i}\"].where(\n",
            "<ipython-input-443-068354f831ce>:16: PerformanceWarning: DataFrame is highly fragmented.  This is usually the result of calling `frame.insert` many times, which has poor performance.  Consider joining all columns at once using pd.concat(axis=1) instead. To get a de-fragmented frame, use `newframe = frame.copy()`\n",
            "  dataframe[f\"rainy_day_{i}\"] = dataframe[f\"precipitation_{i}\"].where(\n",
            "<ipython-input-443-068354f831ce>:16: PerformanceWarning: DataFrame is highly fragmented.  This is usually the result of calling `frame.insert` many times, which has poor performance.  Consider joining all columns at once using pd.concat(axis=1) instead. To get a de-fragmented frame, use `newframe = frame.copy()`\n",
            "  dataframe[f\"rainy_day_{i}\"] = dataframe[f\"precipitation_{i}\"].where(\n",
            "<ipython-input-443-068354f831ce>:16: PerformanceWarning: DataFrame is highly fragmented.  This is usually the result of calling `frame.insert` many times, which has poor performance.  Consider joining all columns at once using pd.concat(axis=1) instead. To get a de-fragmented frame, use `newframe = frame.copy()`\n",
            "  dataframe[f\"rainy_day_{i}\"] = dataframe[f\"precipitation_{i}\"].where(\n"
          ]
        }
      ]
    },
    {
      "cell_type": "code",
      "source": [
        "rainy_cols = [f\"rainy_day_{i}\" for i in range(24)]\n",
        "\n",
        "# 월별로 0보다 큰 강수량의 개수 세기 (비가 온 시간의 개수)\n",
        "rainy_counts = df.groupby('month')[rainy_cols].apply(lambda x: (x > 0).sum().sum())\n",
        "\n",
        "plt.figure(figsize=(10, 5))\n",
        "rainy_counts.plot(kind='bar', color='cornflowerblue')\n",
        "plt.title(\"월별 비가 온 시간대 수 (rainy_day > 0)\")\n",
        "plt.xlabel(\"월\")\n",
        "plt.ylabel(\"데이터 개수\")\n",
        "plt.grid(axis='y')\n",
        "plt.xticks(rotation=0)\n",
        "plt.tight_layout()\n",
        "plt.show()"
      ],
      "metadata": {
        "id": "NQ0AA7vOpqmO",
        "colab": {
          "base_uri": "https://localhost:8080/",
          "height": 1000
        },
        "outputId": "61070770-b0ab-489f-9725-f37cf875fa22"
      },
      "execution_count": 445,
      "outputs": [
        {
          "output_type": "stream",
          "name": "stderr",
          "text": [
            "<ipython-input-445-3fdb3c35e3eb>:13: UserWarning: Glyph 50900 (\\N{HANGUL SYLLABLE WEOL}) missing from font(s) DejaVu Sans.\n",
            "  plt.tight_layout()\n",
            "<ipython-input-445-3fdb3c35e3eb>:13: UserWarning: Glyph 45936 (\\N{HANGUL SYLLABLE DE}) missing from font(s) DejaVu Sans.\n",
            "  plt.tight_layout()\n",
            "<ipython-input-445-3fdb3c35e3eb>:13: UserWarning: Glyph 51060 (\\N{HANGUL SYLLABLE I}) missing from font(s) DejaVu Sans.\n",
            "  plt.tight_layout()\n",
            "<ipython-input-445-3fdb3c35e3eb>:13: UserWarning: Glyph 53552 (\\N{HANGUL SYLLABLE TEO}) missing from font(s) DejaVu Sans.\n",
            "  plt.tight_layout()\n",
            "<ipython-input-445-3fdb3c35e3eb>:13: UserWarning: Glyph 44060 (\\N{HANGUL SYLLABLE GAE}) missing from font(s) DejaVu Sans.\n",
            "  plt.tight_layout()\n",
            "<ipython-input-445-3fdb3c35e3eb>:13: UserWarning: Glyph 49688 (\\N{HANGUL SYLLABLE SU}) missing from font(s) DejaVu Sans.\n",
            "  plt.tight_layout()\n",
            "<ipython-input-445-3fdb3c35e3eb>:13: UserWarning: Glyph 48324 (\\N{HANGUL SYLLABLE BYEOL}) missing from font(s) DejaVu Sans.\n",
            "  plt.tight_layout()\n",
            "<ipython-input-445-3fdb3c35e3eb>:13: UserWarning: Glyph 48708 (\\N{HANGUL SYLLABLE BI}) missing from font(s) DejaVu Sans.\n",
            "  plt.tight_layout()\n",
            "<ipython-input-445-3fdb3c35e3eb>:13: UserWarning: Glyph 44032 (\\N{HANGUL SYLLABLE GA}) missing from font(s) DejaVu Sans.\n",
            "  plt.tight_layout()\n",
            "<ipython-input-445-3fdb3c35e3eb>:13: UserWarning: Glyph 50728 (\\N{HANGUL SYLLABLE ON}) missing from font(s) DejaVu Sans.\n",
            "  plt.tight_layout()\n",
            "<ipython-input-445-3fdb3c35e3eb>:13: UserWarning: Glyph 49884 (\\N{HANGUL SYLLABLE SI}) missing from font(s) DejaVu Sans.\n",
            "  plt.tight_layout()\n",
            "<ipython-input-445-3fdb3c35e3eb>:13: UserWarning: Glyph 44036 (\\N{HANGUL SYLLABLE GAN}) missing from font(s) DejaVu Sans.\n",
            "  plt.tight_layout()\n",
            "<ipython-input-445-3fdb3c35e3eb>:13: UserWarning: Glyph 45824 (\\N{HANGUL SYLLABLE DAE}) missing from font(s) DejaVu Sans.\n",
            "  plt.tight_layout()\n",
            "/usr/local/lib/python3.11/dist-packages/IPython/core/pylabtools.py:151: UserWarning: Glyph 45936 (\\N{HANGUL SYLLABLE DE}) missing from font(s) DejaVu Sans.\n",
            "  fig.canvas.print_figure(bytes_io, **kw)\n",
            "/usr/local/lib/python3.11/dist-packages/IPython/core/pylabtools.py:151: UserWarning: Glyph 51060 (\\N{HANGUL SYLLABLE I}) missing from font(s) DejaVu Sans.\n",
            "  fig.canvas.print_figure(bytes_io, **kw)\n",
            "/usr/local/lib/python3.11/dist-packages/IPython/core/pylabtools.py:151: UserWarning: Glyph 53552 (\\N{HANGUL SYLLABLE TEO}) missing from font(s) DejaVu Sans.\n",
            "  fig.canvas.print_figure(bytes_io, **kw)\n",
            "/usr/local/lib/python3.11/dist-packages/IPython/core/pylabtools.py:151: UserWarning: Glyph 44060 (\\N{HANGUL SYLLABLE GAE}) missing from font(s) DejaVu Sans.\n",
            "  fig.canvas.print_figure(bytes_io, **kw)\n",
            "/usr/local/lib/python3.11/dist-packages/IPython/core/pylabtools.py:151: UserWarning: Glyph 49688 (\\N{HANGUL SYLLABLE SU}) missing from font(s) DejaVu Sans.\n",
            "  fig.canvas.print_figure(bytes_io, **kw)\n",
            "/usr/local/lib/python3.11/dist-packages/IPython/core/pylabtools.py:151: UserWarning: Glyph 50900 (\\N{HANGUL SYLLABLE WEOL}) missing from font(s) DejaVu Sans.\n",
            "  fig.canvas.print_figure(bytes_io, **kw)\n",
            "/usr/local/lib/python3.11/dist-packages/IPython/core/pylabtools.py:151: UserWarning: Glyph 48324 (\\N{HANGUL SYLLABLE BYEOL}) missing from font(s) DejaVu Sans.\n",
            "  fig.canvas.print_figure(bytes_io, **kw)\n",
            "/usr/local/lib/python3.11/dist-packages/IPython/core/pylabtools.py:151: UserWarning: Glyph 48708 (\\N{HANGUL SYLLABLE BI}) missing from font(s) DejaVu Sans.\n",
            "  fig.canvas.print_figure(bytes_io, **kw)\n",
            "/usr/local/lib/python3.11/dist-packages/IPython/core/pylabtools.py:151: UserWarning: Glyph 44032 (\\N{HANGUL SYLLABLE GA}) missing from font(s) DejaVu Sans.\n",
            "  fig.canvas.print_figure(bytes_io, **kw)\n",
            "/usr/local/lib/python3.11/dist-packages/IPython/core/pylabtools.py:151: UserWarning: Glyph 50728 (\\N{HANGUL SYLLABLE ON}) missing from font(s) DejaVu Sans.\n",
            "  fig.canvas.print_figure(bytes_io, **kw)\n",
            "/usr/local/lib/python3.11/dist-packages/IPython/core/pylabtools.py:151: UserWarning: Glyph 49884 (\\N{HANGUL SYLLABLE SI}) missing from font(s) DejaVu Sans.\n",
            "  fig.canvas.print_figure(bytes_io, **kw)\n",
            "/usr/local/lib/python3.11/dist-packages/IPython/core/pylabtools.py:151: UserWarning: Glyph 44036 (\\N{HANGUL SYLLABLE GAN}) missing from font(s) DejaVu Sans.\n",
            "  fig.canvas.print_figure(bytes_io, **kw)\n",
            "/usr/local/lib/python3.11/dist-packages/IPython/core/pylabtools.py:151: UserWarning: Glyph 45824 (\\N{HANGUL SYLLABLE DAE}) missing from font(s) DejaVu Sans.\n",
            "  fig.canvas.print_figure(bytes_io, **kw)\n"
          ]
        },
        {
          "output_type": "display_data",
          "data": {
            "text/plain": [
              "<Figure size 1000x500 with 1 Axes>"
            ],
            "image/png": "[encoded data removed]"
          },
          "metadata": {}
        }
      ]
    },
    {
      "cell_type": "code",
      "source": [
        "for i in range(24):\n",
        "    col = f\"rainy_day_{i}\"\n",
        "    nan_count = testD[col].isna().sum()\n",
        "    neg_9999_count = (testD[col] == -9999).sum()\n",
        "    print(f\"{col}: NaN = {nan_count}, -9999 = {neg_9999_count}\")"
      ],
      "metadata": {
        "colab": {
          "base_uri": "https://localhost:8080/"
        },
        "id": "I9SoJJTzTHhH",
        "outputId": "38edc260-dee1-45d2-890a-d9149f6d2319"
      },
      "execution_count": 446,
      "outputs": [
        {
          "output_type": "stream",
          "name": "stdout",
          "text": [
            "rainy_day_0: NaN = 0, -9999 = 0\n",
            "rainy_day_1: NaN = 0, -9999 = 0\n",
            "rainy_day_2: NaN = 0, -9999 = 0\n",
            "rainy_day_3: NaN = 0, -9999 = 0\n",
            "rainy_day_4: NaN = 0, -9999 = 0\n",
            "rainy_day_5: NaN = 0, -9999 = 0\n",
            "rainy_day_6: NaN = 0, -9999 = 0\n",
            "rainy_day_7: NaN = 0, -9999 = 0\n",
            "rainy_day_8: NaN = 0, -9999 = 0\n",
            "rainy_day_9: NaN = 0, -9999 = 0\n",
            "rainy_day_10: NaN = 0, -9999 = 0\n",
            "rainy_day_11: NaN = 0, -9999 = 0\n",
            "rainy_day_12: NaN = 0, -9999 = 0\n",
            "rainy_day_13: NaN = 0, -9999 = 0\n",
            "rainy_day_14: NaN = 0, -9999 = 0\n",
            "rainy_day_15: NaN = 0, -9999 = 0\n",
            "rainy_day_16: NaN = 0, -9999 = 0\n",
            "rainy_day_17: NaN = 0, -9999 = 0\n",
            "rainy_day_18: NaN = 0, -9999 = 0\n",
            "rainy_day_19: NaN = 0, -9999 = 0\n",
            "rainy_day_20: NaN = 0, -9999 = 0\n",
            "rainy_day_21: NaN = 0, -9999 = 0\n",
            "rainy_day_22: NaN = 0, -9999 = 0\n",
            "rainy_day_23: NaN = 0, -9999 = 0\n"
          ]
        }
      ]
    },
    {
      "cell_type": "markdown",
      "source": [
        "# **상대습도**"
      ],
      "metadata": {
        "id": "EW3g2cWKsOF9"
      }
    },
    {
      "cell_type": "code",
      "source": [
        "for i in range(24):\n",
        "    col = f\"humidity_{i}\"\n",
        "    nan_count = testD[col].isna().sum()\n",
        "    neg_9999_count = (testD[col] == -9999).sum()\n",
        "    print(f\"{col}: NaN = {nan_count}, -9999 = {neg_9999_count}\")"
      ],
      "metadata": {
        "id": "7zahGu73Pacb",
        "outputId": "fa95ffd1-5077-4253-d7b3-d22a8f23115d",
        "colab": {
          "base_uri": "https://localhost:8080/"
        }
      },
      "execution_count": 447,
      "outputs": [
        {
          "output_type": "stream",
          "name": "stdout",
          "text": [
            "humidity_0: NaN = 0, -9999 = 6\n",
            "humidity_1: NaN = 0, -9999 = 5\n",
            "humidity_2: NaN = 0, -9999 = 3\n",
            "humidity_3: NaN = 0, -9999 = 4\n",
            "humidity_4: NaN = 0, -9999 = 3\n",
            "humidity_5: NaN = 0, -9999 = 3\n",
            "humidity_6: NaN = 0, -9999 = 4\n",
            "humidity_7: NaN = 0, -9999 = 3\n",
            "humidity_8: NaN = 0, -9999 = 5\n",
            "humidity_9: NaN = 0, -9999 = 6\n",
            "humidity_10: NaN = 0, -9999 = 5\n",
            "humidity_11: NaN = 0, -9999 = 4\n",
            "humidity_12: NaN = 0, -9999 = 5\n",
            "humidity_13: NaN = 0, -9999 = 3\n",
            "humidity_14: NaN = 0, -9999 = 1\n",
            "humidity_15: NaN = 0, -9999 = 2\n",
            "humidity_16: NaN = 0, -9999 = 3\n",
            "humidity_17: NaN = 0, -9999 = 3\n",
            "humidity_18: NaN = 0, -9999 = 3\n",
            "humidity_19: NaN = 0, -9999 = 9\n",
            "humidity_20: NaN = 0, -9999 = 9\n",
            "humidity_21: NaN = 0, -9999 = 6\n",
            "humidity_22: NaN = 0, -9999 = 5\n",
            "humidity_23: NaN = 0, -9999 = 5\n"
          ]
        }
      ]
    },
    {
      "cell_type": "code",
      "source": [
        "humidity_cols = [f\"humidity_{i}\" for i in range(24)]\n",
        "\n",
        "# 2. 문자열로 된 -9999나 이상값을 숫자로 강제 변환\n",
        "df[humidity_cols] = df[humidity_cols].apply(pd.to_numeric, errors='coerce')\n",
        "\n",
        "# 3. -9999 값을 np.nan으로 변환\n",
        "df[humidity_cols] = df[humidity_cols].replace(-9999, np.nan)"
      ],
      "metadata": {
        "id": "OzIFNkxBPx7U"
      },
      "execution_count": 448,
      "outputs": []
    },
    {
      "cell_type": "code",
      "source": [
        "import numpy as np\n",
        "\n",
        "def preprocess_humidity(dataframe):\n",
        "    humidity_cols = [f\"humidity_{i}\" for i in range(24)]\n",
        "\n",
        "    # 1. 문자열 포함 가능성 → 숫자형으로 강제 변환\n",
        "    dataframe[humidity_cols] = dataframe[humidity_cols].apply(pd.to_numeric, errors='coerce')\n",
        "\n",
        "    # 2. -9999 → NaN 변환\n",
        "    dataframe[humidity_cols] = dataframe[humidity_cols].replace(-9999, np.nan)\n",
        "\n",
        "    # 3. 시간축 기준 이웃 평균 보간\n",
        "    for i in range(24):\n",
        "        col = f\"humidity_{i}\"\n",
        "        prev_col = f\"humidity_{i-1}\" if i > 0 else None\n",
        "        next_col = f\"humidity_{i+1}\" if i < 23 else None\n",
        "\n",
        "        if prev_col and next_col:\n",
        "            fill_vals = dataframe[[prev_col, next_col]].mean(axis=1)\n",
        "            dataframe.loc[dataframe[col].isna(), col] = fill_vals[dataframe[col].isna()]\n",
        "        elif prev_col:\n",
        "            dataframe.loc[dataframe[col].isna(), col] = dataframe.loc[dataframe[col].isna(), prev_col]\n",
        "        elif next_col:\n",
        "            dataframe.loc[dataframe[col].isna(), col] = dataframe.loc[dataframe[col].isna(), next_col]\n",
        "\n",
        "    # 4. 아직 남아 있는 NaN을 month/day 기준으로 보간\n",
        "    for i in range(24):\n",
        "        col = f\"humidity_{i}\"\n",
        "        for idx in dataframe[dataframe[col].isna()].index:\n",
        "            m = dataframe.loc[idx, 'month']\n",
        "            d = dataframe.loc[idx, 'day']\n",
        "            mask = (dataframe['month'] == m) & (dataframe['day'] == d) & (~dataframe[col].isna())\n",
        "            if mask.any():\n",
        "                mean_val = dataframe.loc[mask, col].mean()\n",
        "                dataframe.loc[idx, col] = mean_val\n",
        "\n",
        "    return dataframe\n",
        "\n",
        "df = preprocess_humidity(df)\n",
        "testD = preprocess_humidity(testD)\n"
      ],
      "metadata": {
        "id": "wBqxEtoQr_fW"
      },
      "execution_count": 449,
      "outputs": []
    },
    {
      "cell_type": "code",
      "source": [
        "for i in range(24):\n",
        "    col = f\"humidity_{i}\"\n",
        "    nan_count = df[col].isna().sum()\n",
        "    neg_9999_count = (df[col] == -9999).sum()\n",
        "    print(f\"{col}: NaN = {nan_count}, -9999 = {neg_9999_count}\")"
      ],
      "metadata": {
        "id": "kyElrtNELlcN",
        "outputId": "034e7c0e-bfc7-41af-847b-21a6a7adb187",
        "colab": {
          "base_uri": "https://localhost:8080/"
        }
      },
      "execution_count": 450,
      "outputs": [
        {
          "output_type": "stream",
          "name": "stdout",
          "text": [
            "humidity_0: NaN = 0, -9999 = 0\n",
            "humidity_1: NaN = 0, -9999 = 0\n",
            "humidity_2: NaN = 0, -9999 = 0\n",
            "humidity_3: NaN = 0, -9999 = 0\n",
            "humidity_4: NaN = 0, -9999 = 0\n",
            "humidity_5: NaN = 0, -9999 = 0\n",
            "humidity_6: NaN = 0, -9999 = 0\n",
            "humidity_7: NaN = 0, -9999 = 0\n",
            "humidity_8: NaN = 0, -9999 = 0\n",
            "humidity_9: NaN = 0, -9999 = 0\n",
            "humidity_10: NaN = 0, -9999 = 0\n",
            "humidity_11: NaN = 0, -9999 = 0\n",
            "humidity_12: NaN = 0, -9999 = 0\n",
            "humidity_13: NaN = 0, -9999 = 0\n",
            "humidity_14: NaN = 0, -9999 = 0\n",
            "humidity_15: NaN = 0, -9999 = 0\n",
            "humidity_16: NaN = 0, -9999 = 0\n",
            "humidity_17: NaN = 0, -9999 = 0\n",
            "humidity_18: NaN = 0, -9999 = 0\n",
            "humidity_19: NaN = 0, -9999 = 0\n",
            "humidity_20: NaN = 0, -9999 = 0\n",
            "humidity_21: NaN = 0, -9999 = 0\n",
            "humidity_22: NaN = 0, -9999 = 0\n",
            "humidity_23: NaN = 0, -9999 = 0\n"
          ]
        }
      ]
    },
    {
      "cell_type": "markdown",
      "source": [
        "# **풍속**"
      ],
      "metadata": {
        "id": "fakAXEAfd83D"
      }
    },
    {
      "cell_type": "code",
      "source": [
        "for i in range(24):\n",
        "    col = f\"wind_speed_{i}\"\n",
        "    nan_count = df[col].isna().sum()\n",
        "    neg_9999_count = (df[col] == -9999).sum()\n",
        "    print(f\"{col}: NaN = {nan_count}, -9999 = {neg_9999_count}\")"
      ],
      "metadata": {
        "id": "39PmAYRht-uM",
        "colab": {
          "base_uri": "https://localhost:8080/"
        },
        "outputId": "30c90c48-508c-476b-e40e-811bbbfd43c9"
      },
      "execution_count": 451,
      "outputs": [
        {
          "output_type": "stream",
          "name": "stdout",
          "text": [
            "wind_speed_0: NaN = 11, -9999 = 2\n",
            "wind_speed_1: NaN = 16, -9999 = 4\n",
            "wind_speed_2: NaN = 14, -9999 = 5\n",
            "wind_speed_3: NaN = 12, -9999 = 5\n",
            "wind_speed_4: NaN = 16, -9999 = 2\n",
            "wind_speed_5: NaN = 20, -9999 = 3\n",
            "wind_speed_6: NaN = 13, -9999 = 7\n",
            "wind_speed_7: NaN = 12, -9999 = 11\n",
            "wind_speed_8: NaN = 7, -9999 = 15\n",
            "wind_speed_9: NaN = 5, -9999 = 14\n",
            "wind_speed_10: NaN = 5, -9999 = 11\n",
            "wind_speed_11: NaN = 8, -9999 = 13\n",
            "wind_speed_12: NaN = 5, -9999 = 15\n",
            "wind_speed_13: NaN = 4, -9999 = 13\n",
            "wind_speed_14: NaN = 8, -9999 = 7\n",
            "wind_speed_15: NaN = 6, -9999 = 7\n",
            "wind_speed_16: NaN = 6, -9999 = 9\n",
            "wind_speed_17: NaN = 8, -9999 = 11\n",
            "wind_speed_18: NaN = 9, -9999 = 8\n",
            "wind_speed_19: NaN = 12, -9999 = 5\n",
            "wind_speed_20: NaN = 10, -9999 = 5\n",
            "wind_speed_21: NaN = 11, -9999 = 2\n",
            "wind_speed_22: NaN = 10, -9999 = 2\n",
            "wind_speed_23: NaN = 10, -9999 = 2\n"
          ]
        }
      ]
    },
    {
      "cell_type": "code",
      "source": [
        "wind_speed_cols = [f\"wind_speed_{i}\" for i in range(24)]\n",
        "\n",
        "# 1. -9999 → 0 처리\n",
        "df[wind_speed_cols] = df[wind_speed_cols].replace(-9999, np.nan)\n",
        "\n",
        "# 2. 선형 보간 (같은 행 기준, 시간 순서 방향으로)\n",
        "df[wind_speed_cols] = df[wind_speed_cols].interpolate(axis=1, limit_direction='both')"
      ],
      "metadata": {
        "id": "fB_fPzYyoEl_"
      },
      "execution_count": 452,
      "outputs": []
    },
    {
      "cell_type": "code",
      "source": [
        "def preprocess_wind_speed(df):\n",
        "    wind_cols = [f\"wind_speed_{i}\" for i in range(24)]\n",
        "\n",
        "    # 1. 문자열 포함 가능성 제거 및 숫자 변환\n",
        "    df[wind_cols] = df[wind_cols].apply(pd.to_numeric, errors='coerce')\n",
        "\n",
        "    # 2. -9999 → NaN\n",
        "    df[wind_cols] = df[wind_cols].replace(-9999, np.nan)\n",
        "\n",
        "    # 3. 시간 이웃 평균으로 보간\n",
        "    for i in range(24):\n",
        "        col = f\"wind_speed_{i}\"\n",
        "        prev_col = f\"wind_speed_{i-1}\" if i > 0 else None\n",
        "        next_col = f\"wind_speed_{i+1}\" if i < 23 else None\n",
        "\n",
        "        if prev_col and next_col:\n",
        "            avg = df[[prev_col, next_col]].mean(axis=1)\n",
        "            df.loc[df[col].isna(), col] = avg[df[col].isna()]\n",
        "        elif prev_col:\n",
        "            df.loc[df[col].isna(), col] = df.loc[df[col].isna(), prev_col]\n",
        "        elif next_col:\n",
        "            df.loc[df[col].isna(), col] = df.loc[df[col].isna(), next_col]\n",
        "\n",
        "    # 4. 여전히 NaN인 값은 month/day 기준으로 보간\n",
        "    for i in range(24):\n",
        "        col = f\"wind_speed_{i}\"\n",
        "        missing_idx = df[df[col].isna()].index\n",
        "\n",
        "        for idx in missing_idx:\n",
        "            m = df.loc[idx, 'month']\n",
        "            d = df.loc[idx, 'day']\n",
        "            mask = (df['month'] == m) & (df['day'] == d) & (~df[col].isna())\n",
        "            if mask.any():\n",
        "                mean_val = df.loc[mask, col].mean()\n",
        "                df.loc[idx, col] = mean_val\n",
        "\n",
        "    return df\n",
        "df = preprocess_wind_speed(df)\n",
        "testD = preprocess_wind_speed(testD)"
      ],
      "metadata": {
        "id": "U_FHgAY6ko2J"
      },
      "execution_count": 453,
      "outputs": []
    },
    {
      "cell_type": "code",
      "source": [
        "for i in range(24):\n",
        "    col = f\"wind_speed_{i}\"\n",
        "    nan_count = df[col].isna().sum()\n",
        "    neg_9999_count = (df[col] == -9999).sum()\n",
        "    print(f\"{col}: NaN = {nan_count}, -9999 = {neg_9999_count}\")"
      ],
      "metadata": {
        "id": "AwjdOUbxRKKf",
        "outputId": "0271aeab-185b-4ac7-a1ea-fcd89ff6abfe",
        "colab": {
          "base_uri": "https://localhost:8080/"
        }
      },
      "execution_count": 454,
      "outputs": [
        {
          "output_type": "stream",
          "name": "stdout",
          "text": [
            "wind_speed_0: NaN = 0, -9999 = 0\n",
            "wind_speed_1: NaN = 0, -9999 = 0\n",
            "wind_speed_2: NaN = 0, -9999 = 0\n",
            "wind_speed_3: NaN = 0, -9999 = 0\n",
            "wind_speed_4: NaN = 0, -9999 = 0\n",
            "wind_speed_5: NaN = 0, -9999 = 0\n",
            "wind_speed_6: NaN = 0, -9999 = 0\n",
            "wind_speed_7: NaN = 0, -9999 = 0\n",
            "wind_speed_8: NaN = 0, -9999 = 0\n",
            "wind_speed_9: NaN = 0, -9999 = 0\n",
            "wind_speed_10: NaN = 0, -9999 = 0\n",
            "wind_speed_11: NaN = 0, -9999 = 0\n",
            "wind_speed_12: NaN = 0, -9999 = 0\n",
            "wind_speed_13: NaN = 0, -9999 = 0\n",
            "wind_speed_14: NaN = 0, -9999 = 0\n",
            "wind_speed_15: NaN = 0, -9999 = 0\n",
            "wind_speed_16: NaN = 0, -9999 = 0\n",
            "wind_speed_17: NaN = 0, -9999 = 0\n",
            "wind_speed_18: NaN = 0, -9999 = 0\n",
            "wind_speed_19: NaN = 0, -9999 = 0\n",
            "wind_speed_20: NaN = 0, -9999 = 0\n",
            "wind_speed_21: NaN = 0, -9999 = 0\n",
            "wind_speed_22: NaN = 0, -9999 = 0\n",
            "wind_speed_23: NaN = 0, -9999 = 0\n"
          ]
        }
      ]
    },
    {
      "cell_type": "markdown",
      "source": [
        "# 표면 온도\n",
        "\n",
        "학습에 쓸 예정  \n",
        "시정 안 씀"
      ],
      "metadata": {
        "id": "fn9ZwaT8o3Wr"
      }
    },
    {
      "cell_type": "code",
      "source": [
        "for i in range(24):\n",
        "    col = f\"surface_temp_{i}\"\n",
        "    nan_count = df[col].isna().sum()\n",
        "    neg_9999_count = (df[col] == -9999).sum()\n",
        "    print(f\"{col}: NaN = {nan_count}, -9999 = {neg_9999_count}\")"
      ],
      "metadata": {
        "id": "b2mzqwsqowo1",
        "colab": {
          "base_uri": "https://localhost:8080/"
        },
        "outputId": "4d66a2e4-e3d1-4b7a-d330-6627688e660b"
      },
      "execution_count": 455,
      "outputs": [
        {
          "output_type": "stream",
          "name": "stdout",
          "text": [
            "surface_temp_0: NaN = 0, -9999 = 12\n",
            "surface_temp_1: NaN = 0, -9999 = 7\n",
            "surface_temp_2: NaN = 0, -9999 = 3\n",
            "surface_temp_3: NaN = 0, -9999 = 4\n",
            "surface_temp_4: NaN = 0, -9999 = 4\n",
            "surface_temp_5: NaN = 0, -9999 = 10\n",
            "surface_temp_6: NaN = 0, -9999 = 8\n",
            "surface_temp_7: NaN = 0, -9999 = 7\n",
            "surface_temp_8: NaN = 0, -9999 = 7\n",
            "surface_temp_9: NaN = 0, -9999 = 8\n",
            "surface_temp_10: NaN = 0, -9999 = 8\n",
            "surface_temp_11: NaN = 0, -9999 = 13\n",
            "surface_temp_12: NaN = 0, -9999 = 11\n",
            "surface_temp_13: NaN = 0, -9999 = 8\n",
            "surface_temp_14: NaN = 0, -9999 = 10\n",
            "surface_temp_15: NaN = 0, -9999 = 9\n",
            "surface_temp_16: NaN = 0, -9999 = 10\n",
            "surface_temp_17: NaN = 0, -9999 = 10\n",
            "surface_temp_18: NaN = 0, -9999 = 9\n",
            "surface_temp_19: NaN = 0, -9999 = 9\n",
            "surface_temp_20: NaN = 0, -9999 = 4\n",
            "surface_temp_21: NaN = 0, -9999 = 4\n",
            "surface_temp_22: NaN = 0, -9999 = 4\n",
            "surface_temp_23: NaN = 0, -9999 = 5\n"
          ]
        }
      ]
    },
    {
      "cell_type": "code",
      "source": [
        "def preprocess_surface_temp(df):\n",
        "    temp_cols = [f\"surface_temp_{i}\" for i in range(24)]\n",
        "\n",
        "    # 1. 문자열 포함 가능성 제거 및 숫자형 변환\n",
        "    df[temp_cols] = df[temp_cols].apply(pd.to_numeric, errors='coerce')\n",
        "\n",
        "    # 2. -9999 → NaN 처리\n",
        "    df[temp_cols] = df[temp_cols].replace(-9999, np.nan)\n",
        "\n",
        "    # 3. 시간축 방향으로 선형 보간 (행 기준)\n",
        "    df[temp_cols] = df[temp_cols].interpolate(axis=1, limit_direction='both')\n",
        "\n",
        "    # 4. 남은 NaN을 month & day 기준 평균으로 보간\n",
        "    for i in range(24):\n",
        "        col = f\"surface_temp_{i}\"\n",
        "        missing_idx = df[df[col].isna()].index\n",
        "\n",
        "        for idx in missing_idx:\n",
        "            m = df.loc[idx, 'month']\n",
        "            d = df.loc[idx, 'day']\n",
        "            mask = (df['month'] == m) & (df['day'] == d) & (~df[col].isna())\n",
        "            if mask.any():\n",
        "                mean_val = df.loc[mask, col].mean()\n",
        "                df.loc[idx, col] = mean_val\n",
        "\n",
        "    return df"
      ],
      "metadata": {
        "id": "yUjYa2N4r7_b"
      },
      "execution_count": 456,
      "outputs": []
    },
    {
      "cell_type": "code",
      "source": [
        "df = preprocess_surface_temp(df)\n",
        "testD = preprocess_surface_temp(testD)"
      ],
      "metadata": {
        "id": "xo2IDOLwvQyr"
      },
      "execution_count": 457,
      "outputs": []
    },
    {
      "cell_type": "code",
      "source": [
        "for i in range(24):\n",
        "    col = f\"surface_temp_{i}\"\n",
        "    nan_count = df[col].isna().sum()\n",
        "    neg_9999_count = (df[col] == -9999).sum()\n",
        "    print(f\"{col}: NaN = {nan_count}, -9999 = {neg_9999_count}\")"
      ],
      "metadata": {
        "id": "3O0xPDrTR7vi",
        "outputId": "928f883c-49f3-4644-b124-e45de22d1338",
        "colab": {
          "base_uri": "https://localhost:8080/"
        }
      },
      "execution_count": 458,
      "outputs": [
        {
          "output_type": "stream",
          "name": "stdout",
          "text": [
            "surface_temp_0: NaN = 0, -9999 = 0\n",
            "surface_temp_1: NaN = 0, -9999 = 0\n",
            "surface_temp_2: NaN = 0, -9999 = 0\n",
            "surface_temp_3: NaN = 0, -9999 = 0\n",
            "surface_temp_4: NaN = 0, -9999 = 0\n",
            "surface_temp_5: NaN = 0, -9999 = 0\n",
            "surface_temp_6: NaN = 0, -9999 = 0\n",
            "surface_temp_7: NaN = 0, -9999 = 0\n",
            "surface_temp_8: NaN = 0, -9999 = 0\n",
            "surface_temp_9: NaN = 0, -9999 = 0\n",
            "surface_temp_10: NaN = 0, -9999 = 0\n",
            "surface_temp_11: NaN = 0, -9999 = 0\n",
            "surface_temp_12: NaN = 0, -9999 = 0\n",
            "surface_temp_13: NaN = 0, -9999 = 0\n",
            "surface_temp_14: NaN = 0, -9999 = 0\n",
            "surface_temp_15: NaN = 0, -9999 = 0\n",
            "surface_temp_16: NaN = 0, -9999 = 0\n",
            "surface_temp_17: NaN = 0, -9999 = 0\n",
            "surface_temp_18: NaN = 0, -9999 = 0\n",
            "surface_temp_19: NaN = 0, -9999 = 0\n",
            "surface_temp_20: NaN = 0, -9999 = 0\n",
            "surface_temp_21: NaN = 0, -9999 = 0\n",
            "surface_temp_22: NaN = 0, -9999 = 0\n",
            "surface_temp_23: NaN = 0, -9999 = 0\n"
          ]
        }
      ]
    },
    {
      "cell_type": "markdown",
      "source": [],
      "metadata": {
        "id": "iFEzGMQFRRpr"
      }
    },
    {
      "cell_type": "markdown",
      "source": [
        "#결측값 관측 함수"
      ],
      "metadata": {
        "id": "4_gpIjd0vymk"
      }
    },
    {
      "cell_type": "code",
      "source": [
        "def check_missing(df, prefix):\n",
        "    result = []\n",
        "    for i in range(24):\n",
        "        col = f\"{prefix}_{i}\"\n",
        "        if col in df.columns:\n",
        "            nan_count = df[col].isna().sum()\n",
        "            neg_9999_count = (df[col] == -9999).sum()\n",
        "            result.append({\n",
        "                \"column\": col,\n",
        "                \"NaN_count\": nan_count,\n",
        "                \"-9999_count\": neg_9999_count\n",
        "            })\n",
        "    return pd.DataFrame(result)"
      ],
      "metadata": {
        "id": "1Zm2J-twv5V-"
      },
      "execution_count": 459,
      "outputs": []
    },
    {
      "cell_type": "markdown",
      "source": [
        "#이슬점 온도"
      ],
      "metadata": {
        "id": "1n4ojOqytxNp"
      }
    },
    {
      "cell_type": "code",
      "source": [
        "check_missing(df,\"dew_point\")"
      ],
      "metadata": {
        "id": "EeHu62pav9oI",
        "colab": {
          "base_uri": "https://localhost:8080/",
          "height": 802
        },
        "outputId": "01704b7b-0b00-4b3d-f912-00590726f24a"
      },
      "execution_count": 460,
      "outputs": [
        {
          "output_type": "execute_result",
          "data": {
            "text/plain": [
              "          column  NaN_count  -9999_count\n",
              "0    dew_point_0          6            0\n",
              "1    dew_point_1          8            0\n",
              "2    dew_point_2         10            0\n",
              "3    dew_point_3         10            0\n",
              "4    dew_point_4          9            0\n",
              "5    dew_point_5         17            0\n",
              "6    dew_point_6         16            0\n",
              "7    dew_point_7         14            0\n",
              "8    dew_point_8         15            0\n",
              "9    dew_point_9         15            0\n",
              "10  dew_point_10         12            0\n",
              "11  dew_point_11         14            0\n",
              "12  dew_point_12         13            0\n",
              "13  dew_point_13         11            0\n",
              "14  dew_point_14         18            0\n",
              "15  dew_point_15         14            0\n",
              "16  dew_point_16         16            0\n",
              "17  dew_point_17         17            0\n",
              "18  dew_point_18         13            0\n",
              "19  dew_point_19         14            0\n",
              "20  dew_point_20          7            0\n",
              "21  dew_point_21          5            0\n",
              "22  dew_point_22          3            0\n",
              "23  dew_point_23          3            0"
            ],
            "text/html": [
              "\n",
              "  <div id=\"df-0d4a2da5-f6b6-4de4-8217-c3ee29121927\" class=\"colab-df-container\">\n",
              "    <div>\n",
              "<style scoped>\n",
              "    .dataframe tbody tr th:only-of-type {\n",
              "        vertical-align: middle;\n",
              "    }\n",
              "\n",
              "    .dataframe tbody tr th {\n",
              "        vertical-align: top;\n",
              "    }\n",
              "\n",
              "    .dataframe thead th {\n",
              "        text-align: right;\n",
              "    }\n",
              "</style>\n",
              "<table border=\"1\" class=\"dataframe\">\n",
              "  <thead>\n",
              "    <tr style=\"text-align: right;\">\n",
              "      <th></th>\n",
              "      <th>column</th>\n",
              "      <th>NaN_count</th>\n",
              "      <th>-9999_count</th>\n",
              "    </tr>\n",
              "  </thead>\n",
              "  <tbody>\n",
              "    <tr>\n",
              "      <th>0</th>\n",
              "      <td>dew_point_0</td>\n",
              "      <td>6</td>\n",
              "      <td>0</td>\n",
              "    </tr>\n",
              "    <tr>\n",
              "      <th>1</th>\n",
              "      <td>dew_point_1</td>\n",
              "      <td>8</td>\n",
              "      <td>0</td>\n",
              "    </tr>\n",
              "    <tr>\n",
              "      <th>2</th>\n",
              "      <td>dew_point_2</td>\n",
              "      <td>10</td>\n",
              "      <td>0</td>\n",
              "    </tr>\n",
              "    <tr>\n",
              "      <th>3</th>\n",
              "      <td>dew_point_3</td>\n",
              "      <td>10</td>\n",
              "      <td>0</td>\n",
              "    </tr>\n",
              "    <tr>\n",
              "      <th>4</th>\n",
              "      <td>dew_point_4</td>\n",
              "      <td>9</td>\n",
              "      <td>0</td>\n",
              "    </tr>\n",
              "    <tr>\n",
              "      <th>5</th>\n",
              "      <td>dew_point_5</td>\n",
              "      <td>17</td>\n",
              "      <td>0</td>\n",
              "    </tr>\n",
              "    <tr>\n",
              "      <th>6</th>\n",
              "      <td>dew_point_6</td>\n",
              "      <td>16</td>\n",
              "      <td>0</td>\n",
              "    </tr>\n",
              "    <tr>\n",
              "      <th>7</th>\n",
              "      <td>dew_point_7</td>\n",
              "      <td>14</td>\n",
              "      <td>0</td>\n",
              "    </tr>\n",
              "    <tr>\n",
              "      <th>8</th>\n",
              "      <td>dew_point_8</td>\n",
              "      <td>15</td>\n",
              "      <td>0</td>\n",
              "    </tr>\n",
              "    <tr>\n",
              "      <th>9</th>\n",
              "      <td>dew_point_9</td>\n",
              "      <td>15</td>\n",
              "      <td>0</td>\n",
              "    </tr>\n",
              "    <tr>\n",
              "      <th>10</th>\n",
              "      <td>dew_point_10</td>\n",
              "      <td>12</td>\n",
              "      <td>0</td>\n",
              "    </tr>\n",
              "    <tr>\n",
              "      <th>11</th>\n",
              "      <td>dew_point_11</td>\n",
              "      <td>14</td>\n",
              "      <td>0</td>\n",
              "    </tr>\n",
              "    <tr>\n",
              "      <th>12</th>\n",
              "      <td>dew_point_12</td>\n",
              "      <td>13</td>\n",
              "      <td>0</td>\n",
              "    </tr>\n",
              "    <tr>\n",
              "      <th>13</th>\n",
              "      <td>dew_point_13</td>\n",
              "      <td>11</td>\n",
              "      <td>0</td>\n",
              "    </tr>\n",
              "    <tr>\n",
              "      <th>14</th>\n",
              "      <td>dew_point_14</td>\n",
              "      <td>18</td>\n",
              "      <td>0</td>\n",
              "    </tr>\n",
              "    <tr>\n",
              "      <th>15</th>\n",
              "      <td>dew_point_15</td>\n",
              "      <td>14</td>\n",
              "      <td>0</td>\n",
              "    </tr>\n",
              "    <tr>\n",
              "      <th>16</th>\n",
              "      <td>dew_point_16</td>\n",
              "      <td>16</td>\n",
              "      <td>0</td>\n",
              "    </tr>\n",
              "    <tr>\n",
              "      <th>17</th>\n",
              "      <td>dew_point_17</td>\n",
              "      <td>17</td>\n",
              "      <td>0</td>\n",
              "    </tr>\n",
              "    <tr>\n",
              "      <th>18</th>\n",
              "      <td>dew_point_18</td>\n",
              "      <td>13</td>\n",
              "      <td>0</td>\n",
              "    </tr>\n",
              "    <tr>\n",
              "      <th>19</th>\n",
              "      <td>dew_point_19</td>\n",
              "      <td>14</td>\n",
              "      <td>0</td>\n",
              "    </tr>\n",
              "    <tr>\n",
              "      <th>20</th>\n",
              "      <td>dew_point_20</td>\n",
              "      <td>7</td>\n",
              "      <td>0</td>\n",
              "    </tr>\n",
              "    <tr>\n",
              "      <th>21</th>\n",
              "      <td>dew_point_21</td>\n",
              "      <td>5</td>\n",
              "      <td>0</td>\n",
              "    </tr>\n",
              "    <tr>\n",
              "      <th>22</th>\n",
              "      <td>dew_point_22</td>\n",
              "      <td>3</td>\n",
              "      <td>0</td>\n",
              "    </tr>\n",
              "    <tr>\n",
              "      <th>23</th>\n",
              "      <td>dew_point_23</td>\n",
              "      <td>3</td>\n",
              "      <td>0</td>\n",
              "    </tr>\n",
              "  </tbody>\n",
              "</table>\n",
              "</div>\n",
              "    <div class=\"colab-df-buttons\">\n",
              "      \n",
              "  <div class=\"colab-df-container\">\n",
              "    <button class=\"colab-df-convert\" onclick=\"convertToInteractive('df-0d4a2da5-f6b6-4de4-8217-c3ee29121927')\"\n",
              "            title=\"Convert this dataframe to an interactive table.\"\n",
              "            style=\"display:none;\">\n",
              "      \n",
              "  <svg xmlns=\"http://www.w3.org/2000/svg\" height=\"24px\" viewBox=\"0 -960 960 960\">\n",
              "    <path d=\"M120-120v-720h720v720H120Zm60-500h600v-160H180v160Zm220 220h160v-160H400v160Zm0 220h160v-160H400v160ZM180-400h160v-160H180v160Zm440 0h160v-160H620v160ZM180-180h160v-160H180v160Zm440 0h160v-160H620v160Z\"/>\n",
              "  </svg>\n",
              "    </button>\n",
              "    \n",
              "  <style>\n",
              "    .colab-df-container {\n",
              "      display:flex;\n",
              "      gap: 12px;\n",
              "    }\n",
              "\n",
              "    .colab-df-convert {\n",
              "      background-color: #E8F0FE;\n",
              "      border: none;\n",
              "      border-radius: 50%;\n",
              "      cursor: pointer;\n",
              "      display: none;\n",
              "      fill: #1967D2;\n",
              "      height: 32px;\n",
              "      padding: 0 0 0 0;\n",
              "      width: 32px;\n",
              "    }\n",
              "\n",
              "    .colab-df-convert:hover {\n",
              "      background-color: #E2EBFA;\n",
              "      box-shadow: 0px 1px 2px rgba(60, 64, 67, 0.3), 0px 1px 3px 1px rgba(60, 64, 67, 0.15);\n",
              "      fill: #174EA6;\n",
              "    }\n",
              "\n",
              "    .colab-df-buttons div {\n",
              "      margin-bottom: 4px;\n",
              "    }\n",
              "\n",
              "    [theme=dark] .colab-df-convert {\n",
              "      background-color: #3B4455;\n",
              "      fill: #D2E3FC;\n",
              "    }\n",
              "\n",
              "    [theme=dark] .colab-df-convert:hover {\n",
              "      background-color: #434B5C;\n",
              "      box-shadow: 0px 1px 3px 1px rgba(0, 0, 0, 0.15);\n",
              "      filter: drop-shadow(0px 1px 2px rgba(0, 0, 0, 0.3));\n",
              "      fill: #FFFFFF;\n",
              "    }\n",
              "  </style>\n",
              "\n",
              "    <script>\n",
              "      const buttonEl =\n",
              "        document.querySelector('#df-0d4a2da5-f6b6-4de4-8217-c3ee29121927 button.colab-df-convert');\n",
              "      buttonEl.style.display =\n",
              "        google.colab.kernel.accessAllowed ? 'block' : 'none';\n",
              "\n",
              "      async function convertToInteractive(key) {\n",
              "        const element = document.querySelector('#df-0d4a2da5-f6b6-4de4-8217-c3ee29121927');\n",
              "        const dataTable =\n",
              "          await google.colab.kernel.invokeFunction('convertToInteractive',\n",
              "                                                    [key], {});\n",
              "        if (!dataTable) return;\n",
              "\n",
              "        const docLinkHtml = 'Like what you see? Visit the ' +\n",
              "          '<a target=\"_blank\" href=https://colab.research.google.com/notebooks/data_table.ipynb>data table notebook</a>'\n",
              "          + ' to learn more about interactive tables.';\n",
              "        element.innerHTML = '';\n",
              "        dataTable['output_type'] = 'display_data';\n",
              "        await google.colab.output.renderOutput(dataTable, element);\n",
              "        const docLink = document.createElement('div');\n",
              "        docLink.innerHTML = docLinkHtml;\n",
              "        element.appendChild(docLink);\n",
              "      }\n",
              "    </script>\n",
              "  </div>\n",
              "  \n",
              "    </div>\n",
              "  </div>\n",
              "  "
            ]
          },
          "metadata": {},
          "execution_count": 460
        }
      ]
    },
    {
      "cell_type": "code",
      "source": [
        "def process_dew_point(df):\n",
        "    # 1. dew_point 컬럼 리스트\n",
        "    dew_cols = [f\"dew_point_{i}\" for i in range(24)]\n",
        "\n",
        "    # 2. -9999 → NaN으로 변환\n",
        "    df[dew_cols] = df[dew_cols].replace(-9999, np.nan)\n",
        "\n",
        "    # 3. 연속된 NaN 최대 개수 계산 함수\n",
        "    def count_consecutive_nans(row):\n",
        "        max_count = count = 0\n",
        "        for val in row:\n",
        "            if np.isnan(val):\n",
        "                count += 1\n",
        "                max_count = max(max_count, count)\n",
        "            else:\n",
        "                count = 0\n",
        "        return max_count\n",
        "\n",
        "    # ✅ 4. 연속된 NaN 개수 계산하되 제거는 하지 않음\n",
        "    df[\"dew_point_max_consec_nan\"] = df[dew_cols].apply(count_consecutive_nans, axis=1)\n",
        "\n",
        "    # ✅ 5. 시간 순서 기준 보간만 수행\n",
        "    df[dew_cols] = df[dew_cols].interpolate(axis=1, limit_direction='both')\n",
        "\n",
        "    # ✅ 6. 보조 컬럼 제거\n",
        "    df.drop(columns=[\"dew_point_max_consec_nan\"], inplace=True)\n",
        "\n",
        "    return df\n"
      ],
      "metadata": {
        "id": "gjAozn1CuMsX"
      },
      "execution_count": 461,
      "outputs": []
    },
    {
      "cell_type": "code",
      "source": [
        "df =  process_dew_point(df)"
      ],
      "metadata": {
        "id": "rgla3v03vrex",
        "colab": {
          "base_uri": "https://localhost:8080/"
        },
        "outputId": "823aa0bf-1ed2-4967-95b9-f7315df198f3"
      },
      "execution_count": 462,
      "outputs": [
        {
          "output_type": "stream",
          "name": "stderr",
          "text": [
            "<ipython-input-461-4ec978dacb72>:20: PerformanceWarning: DataFrame is highly fragmented.  This is usually the result of calling `frame.insert` many times, which has poor performance.  Consider joining all columns at once using pd.concat(axis=1) instead. To get a de-fragmented frame, use `newframe = frame.copy()`\n",
            "  df[\"dew_point_max_consec_nan\"] = df[dew_cols].apply(count_consecutive_nans, axis=1)\n"
          ]
        }
      ]
    },
    {
      "cell_type": "code",
      "source": [
        "def fill_dew_point_with_group_mean(dataframe):\n",
        "    # 1. dew_point_n_*에서 0인 값을 NaN으로 변환\n",
        "    dew_cols = [f\"dew_point_{i}\" for i in range(24)]\n",
        "    dataframe[dew_cols] = dataframe[dew_cols].replace(0, np.nan)\n",
        "\n",
        "    # 2. 같은 날(month, day 기준) 평균으로 결측값을 채움\n",
        "    for col in dew_cols:\n",
        "        dataframe[col] = dataframe.groupby(['month', 'day'])[col].transform(\n",
        "            lambda x: x.fillna(x.mean())\n",
        "        )\n",
        "\n",
        "    return dataframe\n",
        "\n",
        "# df와 testD에 적용\n",
        "df = fill_dew_point_with_group_mean(df)\n",
        "testD = fill_dew_point_with_group_mean(testD)"
      ],
      "metadata": {
        "id": "rq9MOLkJ4lmK"
      },
      "execution_count": 463,
      "outputs": []
    },
    {
      "cell_type": "markdown",
      "source": [
        "#수증기압력, 현지기압, 해면기압\n",
        "\n",
        "수증기압력 - dew_point와 humidity로 회귀 보간    \n",
        "현지기압 & 해면기압 - 상호 대체 + 보간"
      ],
      "metadata": {
        "id": "yW4hWqHHuYQr"
      }
    },
    {
      "cell_type": "code",
      "source": [
        "check_missing(df,\"vapor_pressure\")"
      ],
      "metadata": {
        "id": "iwd4d3KQwEDg",
        "colab": {
          "base_uri": "https://localhost:8080/",
          "height": 802
        },
        "outputId": "8ffec1ec-dfff-41df-c180-dbaac6b19b48"
      },
      "execution_count": 464,
      "outputs": [
        {
          "output_type": "execute_result",
          "data": {
            "text/plain": [
              "               column  NaN_count  -9999_count\n",
              "0    vapor_pressure_0          6            0\n",
              "1    vapor_pressure_1          8            0\n",
              "2    vapor_pressure_2          9            0\n",
              "3    vapor_pressure_3         10            0\n",
              "4    vapor_pressure_4          9            0\n",
              "5    vapor_pressure_5         17            0\n",
              "6    vapor_pressure_6         16            0\n",
              "7    vapor_pressure_7         14            0\n",
              "8    vapor_pressure_8         14            0\n",
              "9    vapor_pressure_9         15            0\n",
              "10  vapor_pressure_10         12            0\n",
              "11  vapor_pressure_11         14            0\n",
              "12  vapor_pressure_12         13            0\n",
              "13  vapor_pressure_13         11            0\n",
              "14  vapor_pressure_14         18            0\n",
              "15  vapor_pressure_15         14            0\n",
              "16  vapor_pressure_16         16            0\n",
              "17  vapor_pressure_17         17            0\n",
              "18  vapor_pressure_18         13            0\n",
              "19  vapor_pressure_19         14            0\n",
              "20  vapor_pressure_20          7            0\n",
              "21  vapor_pressure_21          5            0\n",
              "22  vapor_pressure_22          3            0\n",
              "23  vapor_pressure_23          3            0"
            ],
            "text/html": [
              "\n",
              "  <div id=\"df-a61d0fb5-ba8a-4360-b28b-1c09d1cc6ba7\" class=\"colab-df-container\">\n",
              "    <div>\n",
              "<style scoped>\n",
              "    .dataframe tbody tr th:only-of-type {\n",
              "        vertical-align: middle;\n",
              "    }\n",
              "\n",
              "    .dataframe tbody tr th {\n",
              "        vertical-align: top;\n",
              "    }\n",
              "\n",
              "    .dataframe thead th {\n",
              "        text-align: right;\n",
              "    }\n",
              "</style>\n",
              "<table border=\"1\" class=\"dataframe\">\n",
              "  <thead>\n",
              "    <tr style=\"text-align: right;\">\n",
              "      <th></th>\n",
              "      <th>column</th>\n",
              "      <th>NaN_count</th>\n",
              "      <th>-9999_count</th>\n",
              "    </tr>\n",
              "  </thead>\n",
              "  <tbody>\n",
              "    <tr>\n",
              "      <th>0</th>\n",
              "      <td>vapor_pressure_0</td>\n",
              "      <td>6</td>\n",
              "      <td>0</td>\n",
              "    </tr>\n",
              "    <tr>\n",
              "      <th>1</th>\n",
              "      <td>vapor_pressure_1</td>\n",
              "      <td>8</td>\n",
              "      <td>0</td>\n",
              "    </tr>\n",
              "    <tr>\n",
              "      <th>2</th>\n",
              "      <td>vapor_pressure_2</td>\n",
              "      <td>9</td>\n",
              "      <td>0</td>\n",
              "    </tr>\n",
              "    <tr>\n",
              "      <th>3</th>\n",
              "      <td>vapor_pressure_3</td>\n",
              "      <td>10</td>\n",
              "      <td>0</td>\n",
              "    </tr>\n",
              "    <tr>\n",
              "      <th>4</th>\n",
              "      <td>vapor_pressure_4</td>\n",
              "      <td>9</td>\n",
              "      <td>0</td>\n",
              "    </tr>\n",
              "    <tr>\n",
              "      <th>5</th>\n",
              "      <td>vapor_pressure_5</td>\n",
              "      <td>17</td>\n",
              "      <td>0</td>\n",
              "    </tr>\n",
              "    <tr>\n",
              "      <th>6</th>\n",
              "      <td>vapor_pressure_6</td>\n",
              "      <td>16</td>\n",
              "      <td>0</td>\n",
              "    </tr>\n",
              "    <tr>\n",
              "      <th>7</th>\n",
              "      <td>vapor_pressure_7</td>\n",
              "      <td>14</td>\n",
              "      <td>0</td>\n",
              "    </tr>\n",
              "    <tr>\n",
              "      <th>8</th>\n",
              "      <td>vapor_pressure_8</td>\n",
              "      <td>14</td>\n",
              "      <td>0</td>\n",
              "    </tr>\n",
              "    <tr>\n",
              "      <th>9</th>\n",
              "      <td>vapor_pressure_9</td>\n",
              "      <td>15</td>\n",
              "      <td>0</td>\n",
              "    </tr>\n",
              "    <tr>\n",
              "      <th>10</th>\n",
              "      <td>vapor_pressure_10</td>\n",
              "      <td>12</td>\n",
              "      <td>0</td>\n",
              "    </tr>\n",
              "    <tr>\n",
              "      <th>11</th>\n",
              "      <td>vapor_pressure_11</td>\n",
              "      <td>14</td>\n",
              "      <td>0</td>\n",
              "    </tr>\n",
              "    <tr>\n",
              "      <th>12</th>\n",
              "      <td>vapor_pressure_12</td>\n",
              "      <td>13</td>\n",
              "      <td>0</td>\n",
              "    </tr>\n",
              "    <tr>\n",
              "      <th>13</th>\n",
              "      <td>vapor_pressure_13</td>\n",
              "      <td>11</td>\n",
              "      <td>0</td>\n",
              "    </tr>\n",
              "    <tr>\n",
              "      <th>14</th>\n",
              "      <td>vapor_pressure_14</td>\n",
              "      <td>18</td>\n",
              "      <td>0</td>\n",
              "    </tr>\n",
              "    <tr>\n",
              "      <th>15</th>\n",
              "      <td>vapor_pressure_15</td>\n",
              "      <td>14</td>\n",
              "      <td>0</td>\n",
              "    </tr>\n",
              "    <tr>\n",
              "      <th>16</th>\n",
              "      <td>vapor_pressure_16</td>\n",
              "      <td>16</td>\n",
              "      <td>0</td>\n",
              "    </tr>\n",
              "    <tr>\n",
              "      <th>17</th>\n",
              "      <td>vapor_pressure_17</td>\n",
              "      <td>17</td>\n",
              "      <td>0</td>\n",
              "    </tr>\n",
              "    <tr>\n",
              "      <th>18</th>\n",
              "      <td>vapor_pressure_18</td>\n",
              "      <td>13</td>\n",
              "      <td>0</td>\n",
              "    </tr>\n",
              "    <tr>\n",
              "      <th>19</th>\n",
              "      <td>vapor_pressure_19</td>\n",
              "      <td>14</td>\n",
              "      <td>0</td>\n",
              "    </tr>\n",
              "    <tr>\n",
              "      <th>20</th>\n",
              "      <td>vapor_pressure_20</td>\n",
              "      <td>7</td>\n",
              "      <td>0</td>\n",
              "    </tr>\n",
              "    <tr>\n",
              "      <th>21</th>\n",
              "      <td>vapor_pressure_21</td>\n",
              "      <td>5</td>\n",
              "      <td>0</td>\n",
              "    </tr>\n",
              "    <tr>\n",
              "      <th>22</th>\n",
              "      <td>vapor_pressure_22</td>\n",
              "      <td>3</td>\n",
              "      <td>0</td>\n",
              "    </tr>\n",
              "    <tr>\n",
              "      <th>23</th>\n",
              "      <td>vapor_pressure_23</td>\n",
              "      <td>3</td>\n",
              "      <td>0</td>\n",
              "    </tr>\n",
              "  </tbody>\n",
              "</table>\n",
              "</div>\n",
              "    <div class=\"colab-df-buttons\">\n",
              "      \n",
              "  <div class=\"colab-df-container\">\n",
              "    <button class=\"colab-df-convert\" onclick=\"convertToInteractive('df-a61d0fb5-ba8a-4360-b28b-1c09d1cc6ba7')\"\n",
              "            title=\"Convert this dataframe to an interactive table.\"\n",
              "            style=\"display:none;\">\n",
              "      \n",
              "  <svg xmlns=\"http://www.w3.org/2000/svg\" height=\"24px\" viewBox=\"0 -960 960 960\">\n",
              "    <path d=\"M120-120v-720h720v720H120Zm60-500h600v-160H180v160Zm220 220h160v-160H400v160Zm0 220h160v-160H400v160ZM180-400h160v-160H180v160Zm440 0h160v-160H620v160ZM180-180h160v-160H180v160Zm440 0h160v-160H620v160Z\"/>\n",
              "  </svg>\n",
              "    </button>\n",
              "    \n",
              "  <style>\n",
              "    .colab-df-container {\n",
              "      display:flex;\n",
              "      gap: 12px;\n",
              "    }\n",
              "\n",
              "    .colab-df-convert {\n",
              "      background-color: #E8F0FE;\n",
              "      border: none;\n",
              "      border-radius: 50%;\n",
              "      cursor: pointer;\n",
              "      display: none;\n",
              "      fill: #1967D2;\n",
              "      height: 32px;\n",
              "      padding: 0 0 0 0;\n",
              "      width: 32px;\n",
              "    }\n",
              "\n",
              "    .colab-df-convert:hover {\n",
              "      background-color: #E2EBFA;\n",
              "      box-shadow: 0px 1px 2px rgba(60, 64, 67, 0.3), 0px 1px 3px 1px rgba(60, 64, 67, 0.15);\n",
              "      fill: #174EA6;\n",
              "    }\n",
              "\n",
              "    .colab-df-buttons div {\n",
              "      margin-bottom: 4px;\n",
              "    }\n",
              "\n",
              "    [theme=dark] .colab-df-convert {\n",
              "      background-color: #3B4455;\n",
              "      fill: #D2E3FC;\n",
              "    }\n",
              "\n",
              "    [theme=dark] .colab-df-convert:hover {\n",
              "      background-color: #434B5C;\n",
              "      box-shadow: 0px 1px 3px 1px rgba(0, 0, 0, 0.15);\n",
              "      filter: drop-shadow(0px 1px 2px rgba(0, 0, 0, 0.3));\n",
              "      fill: #FFFFFF;\n",
              "    }\n",
              "  </style>\n",
              "\n",
              "    <script>\n",
              "      const buttonEl =\n",
              "        document.querySelector('#df-a61d0fb5-ba8a-4360-b28b-1c09d1cc6ba7 button.colab-df-convert');\n",
              "      buttonEl.style.display =\n",
              "        google.colab.kernel.accessAllowed ? 'block' : 'none';\n",
              "\n",
              "      async function convertToInteractive(key) {\n",
              "        const element = document.querySelector('#df-a61d0fb5-ba8a-4360-b28b-1c09d1cc6ba7');\n",
              "        const dataTable =\n",
              "          await google.colab.kernel.invokeFunction('convertToInteractive',\n",
              "                                                    [key], {});\n",
              "        if (!dataTable) return;\n",
              "\n",
              "        const docLinkHtml = 'Like what you see? Visit the ' +\n",
              "          '<a target=\"_blank\" href=https://colab.research.google.com/notebooks/data_table.ipynb>data table notebook</a>'\n",
              "          + ' to learn more about interactive tables.';\n",
              "        element.innerHTML = '';\n",
              "        dataTable['output_type'] = 'display_data';\n",
              "        await google.colab.output.renderOutput(dataTable, element);\n",
              "        const docLink = document.createElement('div');\n",
              "        docLink.innerHTML = docLinkHtml;\n",
              "        element.appendChild(docLink);\n",
              "      }\n",
              "    </script>\n",
              "  </div>\n",
              "  \n",
              "    </div>\n",
              "  </div>\n",
              "  "
            ]
          },
          "metadata": {},
          "execution_count": 464
        }
      ]
    },
    {
      "cell_type": "code",
      "source": [
        "check_missing(df,\"local_pressure\")"
      ],
      "metadata": {
        "id": "23rtockgwCmF",
        "colab": {
          "base_uri": "https://localhost:8080/",
          "height": 802
        },
        "outputId": "c1e503da-400d-4ce9-9de7-9c8fee5788a6"
      },
      "execution_count": 465,
      "outputs": [
        {
          "output_type": "execute_result",
          "data": {
            "text/plain": [
              "               column  NaN_count  -9999_count\n",
              "0    local_pressure_0          0            9\n",
              "1    local_pressure_1          0            4\n",
              "2    local_pressure_2          0            1\n",
              "3    local_pressure_3          0            2\n",
              "4    local_pressure_4          0            2\n",
              "5    local_pressure_5          0            8\n",
              "6    local_pressure_6          0            6\n",
              "7    local_pressure_7          0            5\n",
              "8    local_pressure_8          0            4\n",
              "9    local_pressure_9          0            4\n",
              "10  local_pressure_10          0            4\n",
              "11  local_pressure_11          0            8\n",
              "12  local_pressure_12          0            5\n",
              "13  local_pressure_13          0            4\n",
              "14  local_pressure_14          0            9\n",
              "15  local_pressure_15          0            4\n",
              "16  local_pressure_16          0            6\n",
              "17  local_pressure_17          0            8\n",
              "18  local_pressure_18          0           10\n",
              "19  local_pressure_19          0            9\n",
              "20  local_pressure_20          0            4\n",
              "21  local_pressure_21          0            3\n",
              "22  local_pressure_22          0            3\n",
              "23  local_pressure_23          0            4"
            ],
            "text/html": [
              "\n",
              "  <div id=\"df-f5863ae6-15cf-409d-8cac-c96c70aff330\" class=\"colab-df-container\">\n",
              "    <div>\n",
              "<style scoped>\n",
              "    .dataframe tbody tr th:only-of-type {\n",
              "        vertical-align: middle;\n",
              "    }\n",
              "\n",
              "    .dataframe tbody tr th {\n",
              "        vertical-align: top;\n",
              "    }\n",
              "\n",
              "    .dataframe thead th {\n",
              "        text-align: right;\n",
              "    }\n",
              "</style>\n",
              "<table border=\"1\" class=\"dataframe\">\n",
              "  <thead>\n",
              "    <tr style=\"text-align: right;\">\n",
              "      <th></th>\n",
              "      <th>column</th>\n",
              "      <th>NaN_count</th>\n",
              "      <th>-9999_count</th>\n",
              "    </tr>\n",
              "  </thead>\n",
              "  <tbody>\n",
              "    <tr>\n",
              "      <th>0</th>\n",
              "      <td>local_pressure_0</td>\n",
              "      <td>0</td>\n",
              "      <td>9</td>\n",
              "    </tr>\n",
              "    <tr>\n",
              "      <th>1</th>\n",
              "      <td>local_pressure_1</td>\n",
              "      <td>0</td>\n",
              "      <td>4</td>\n",
              "    </tr>\n",
              "    <tr>\n",
              "      <th>2</th>\n",
              "      <td>local_pressure_2</td>\n",
              "      <td>0</td>\n",
              "      <td>1</td>\n",
              "    </tr>\n",
              "    <tr>\n",
              "      <th>3</th>\n",
              "      <td>local_pressure_3</td>\n",
              "      <td>0</td>\n",
              "      <td>2</td>\n",
              "    </tr>\n",
              "    <tr>\n",
              "      <th>4</th>\n",
              "      <td>local_pressure_4</td>\n",
              "      <td>0</td>\n",
              "      <td>2</td>\n",
              "    </tr>\n",
              "    <tr>\n",
              "      <th>5</th>\n",
              "      <td>local_pressure_5</td>\n",
              "      <td>0</td>\n",
              "      <td>8</td>\n",
              "    </tr>\n",
              "    <tr>\n",
              "      <th>6</th>\n",
              "      <td>local_pressure_6</td>\n",
              "      <td>0</td>\n",
              "      <td>6</td>\n",
              "    </tr>\n",
              "    <tr>\n",
              "      <th>7</th>\n",
              "      <td>local_pressure_7</td>\n",
              "      <td>0</td>\n",
              "      <td>5</td>\n",
              "    </tr>\n",
              "    <tr>\n",
              "      <th>8</th>\n",
              "      <td>local_pressure_8</td>\n",
              "      <td>0</td>\n",
              "      <td>4</td>\n",
              "    </tr>\n",
              "    <tr>\n",
              "      <th>9</th>\n",
              "      <td>local_pressure_9</td>\n",
              "      <td>0</td>\n",
              "      <td>4</td>\n",
              "    </tr>\n",
              "    <tr>\n",
              "      <th>10</th>\n",
              "      <td>local_pressure_10</td>\n",
              "      <td>0</td>\n",
              "      <td>4</td>\n",
              "    </tr>\n",
              "    <tr>\n",
              "      <th>11</th>\n",
              "      <td>local_pressure_11</td>\n",
              "      <td>0</td>\n",
              "      <td>8</td>\n",
              "    </tr>\n",
              "    <tr>\n",
              "      <th>12</th>\n",
              "      <td>local_pressure_12</td>\n",
              "      <td>0</td>\n",
              "      <td>5</td>\n",
              "    </tr>\n",
              "    <tr>\n",
              "      <th>13</th>\n",
              "      <td>local_pressure_13</td>\n",
              "      <td>0</td>\n",
              "      <td>4</td>\n",
              "    </tr>\n",
              "    <tr>\n",
              "      <th>14</th>\n",
              "      <td>local_pressure_14</td>\n",
              "      <td>0</td>\n",
              "      <td>9</td>\n",
              "    </tr>\n",
              "    <tr>\n",
              "      <th>15</th>\n",
              "      <td>local_pressure_15</td>\n",
              "      <td>0</td>\n",
              "      <td>4</td>\n",
              "    </tr>\n",
              "    <tr>\n",
              "      <th>16</th>\n",
              "      <td>local_pressure_16</td>\n",
              "      <td>0</td>\n",
              "      <td>6</td>\n",
              "    </tr>\n",
              "    <tr>\n",
              "      <th>17</th>\n",
              "      <td>local_pressure_17</td>\n",
              "      <td>0</td>\n",
              "      <td>8</td>\n",
              "    </tr>\n",
              "    <tr>\n",
              "      <th>18</th>\n",
              "      <td>local_pressure_18</td>\n",
              "      <td>0</td>\n",
              "      <td>10</td>\n",
              "    </tr>\n",
              "    <tr>\n",
              "      <th>19</th>\n",
              "      <td>local_pressure_19</td>\n",
              "      <td>0</td>\n",
              "      <td>9</td>\n",
              "    </tr>\n",
              "    <tr>\n",
              "      <th>20</th>\n",
              "      <td>local_pressure_20</td>\n",
              "      <td>0</td>\n",
              "      <td>4</td>\n",
              "    </tr>\n",
              "    <tr>\n",
              "      <th>21</th>\n",
              "      <td>local_pressure_21</td>\n",
              "      <td>0</td>\n",
              "      <td>3</td>\n",
              "    </tr>\n",
              "    <tr>\n",
              "      <th>22</th>\n",
              "      <td>local_pressure_22</td>\n",
              "      <td>0</td>\n",
              "      <td>3</td>\n",
              "    </tr>\n",
              "    <tr>\n",
              "      <th>23</th>\n",
              "      <td>local_pressure_23</td>\n",
              "      <td>0</td>\n",
              "      <td>4</td>\n",
              "    </tr>\n",
              "  </tbody>\n",
              "</table>\n",
              "</div>\n",
              "    <div class=\"colab-df-buttons\">\n",
              "      \n",
              "  <div class=\"colab-df-container\">\n",
              "    <button class=\"colab-df-convert\" onclick=\"convertToInteractive('df-f5863ae6-15cf-409d-8cac-c96c70aff330')\"\n",
              "            title=\"Convert this dataframe to an interactive table.\"\n",
              "            style=\"display:none;\">\n",
              "      \n",
              "  <svg xmlns=\"http://www.w3.org/2000/svg\" height=\"24px\" viewBox=\"0 -960 960 960\">\n",
              "    <path d=\"M120-120v-720h720v720H120Zm60-500h600v-160H180v160Zm220 220h160v-160H400v160Zm0 220h160v-160H400v160ZM180-400h160v-160H180v160Zm440 0h160v-160H620v160ZM180-180h160v-160H180v160Zm440 0h160v-160H620v160Z\"/>\n",
              "  </svg>\n",
              "    </button>\n",
              "    \n",
              "  <style>\n",
              "    .colab-df-container {\n",
              "      display:flex;\n",
              "      gap: 12px;\n",
              "    }\n",
              "\n",
              "    .colab-df-convert {\n",
              "      background-color: #E8F0FE;\n",
              "      border: none;\n",
              "      border-radius: 50%;\n",
              "      cursor: pointer;\n",
              "      display: none;\n",
              "      fill: #1967D2;\n",
              "      height: 32px;\n",
              "      padding: 0 0 0 0;\n",
              "      width: 32px;\n",
              "    }\n",
              "\n",
              "    .colab-df-convert:hover {\n",
              "      background-color: #E2EBFA;\n",
              "      box-shadow: 0px 1px 2px rgba(60, 64, 67, 0.3), 0px 1px 3px 1px rgba(60, 64, 67, 0.15);\n",
              "      fill: #174EA6;\n",
              "    }\n",
              "\n",
              "    .colab-df-buttons div {\n",
              "      margin-bottom: 4px;\n",
              "    }\n",
              "\n",
              "    [theme=dark] .colab-df-convert {\n",
              "      background-color: #3B4455;\n",
              "      fill: #D2E3FC;\n",
              "    }\n",
              "\n",
              "    [theme=dark] .colab-df-convert:hover {\n",
              "      background-color: #434B5C;\n",
              "      box-shadow: 0px 1px 3px 1px rgba(0, 0, 0, 0.15);\n",
              "      filter: drop-shadow(0px 1px 2px rgba(0, 0, 0, 0.3));\n",
              "      fill: #FFFFFF;\n",
              "    }\n",
              "  </style>\n",
              "\n",
              "    <script>\n",
              "      const buttonEl =\n",
              "        document.querySelector('#df-f5863ae6-15cf-409d-8cac-c96c70aff330 button.colab-df-convert');\n",
              "      buttonEl.style.display =\n",
              "        google.colab.kernel.accessAllowed ? 'block' : 'none';\n",
              "\n",
              "      async function convertToInteractive(key) {\n",
              "        const element = document.querySelector('#df-f5863ae6-15cf-409d-8cac-c96c70aff330');\n",
              "        const dataTable =\n",
              "          await google.colab.kernel.invokeFunction('convertToInteractive',\n",
              "                                                    [key], {});\n",
              "        if (!dataTable) return;\n",
              "\n",
              "        const docLinkHtml = 'Like what you see? Visit the ' +\n",
              "          '<a target=\"_blank\" href=https://colab.research.google.com/notebooks/data_table.ipynb>data table notebook</a>'\n",
              "          + ' to learn more about interactive tables.';\n",
              "        element.innerHTML = '';\n",
              "        dataTable['output_type'] = 'display_data';\n",
              "        await google.colab.output.renderOutput(dataTable, element);\n",
              "        const docLink = document.createElement('div');\n",
              "        docLink.innerHTML = docLinkHtml;\n",
              "        element.appendChild(docLink);\n",
              "      }\n",
              "    </script>\n",
              "  </div>\n",
              "  \n",
              "    </div>\n",
              "  </div>\n",
              "  "
            ]
          },
          "metadata": {},
          "execution_count": 465
        }
      ]
    },
    {
      "cell_type": "code",
      "source": [
        "check_missing(df,\"sea_level_pressure\")"
      ],
      "metadata": {
        "id": "d5e2viv7wDQe",
        "colab": {
          "base_uri": "https://localhost:8080/",
          "height": 802
        },
        "outputId": "7fee0625-d7da-40c3-990e-3e4492b58d57"
      },
      "execution_count": 466,
      "outputs": [
        {
          "output_type": "execute_result",
          "data": {
            "text/plain": [
              "                   column  NaN_count  -9999_count\n",
              "0    sea_level_pressure_0          0           11\n",
              "1    sea_level_pressure_1          0            7\n",
              "2    sea_level_pressure_2          0            4\n",
              "3    sea_level_pressure_3          0            5\n",
              "4    sea_level_pressure_4          0            5\n",
              "5    sea_level_pressure_5          0           11\n",
              "6    sea_level_pressure_6          0            9\n",
              "7    sea_level_pressure_7          0            8\n",
              "8    sea_level_pressure_8          0            7\n",
              "9    sea_level_pressure_9          0            7\n",
              "10  sea_level_pressure_10          0            7\n",
              "11  sea_level_pressure_11          0           11\n",
              "12  sea_level_pressure_12          0            8\n",
              "13  sea_level_pressure_13          0            7\n",
              "14  sea_level_pressure_14          0           12\n",
              "15  sea_level_pressure_15          0            6\n",
              "16  sea_level_pressure_16          0            9\n",
              "17  sea_level_pressure_17          0           10\n",
              "18  sea_level_pressure_18          0           11\n",
              "19  sea_level_pressure_19          0           10\n",
              "20  sea_level_pressure_20          0            5\n",
              "21  sea_level_pressure_21          0            4\n",
              "22  sea_level_pressure_22          0            3\n",
              "23  sea_level_pressure_23          0            4"
            ],
            "text/html": [
              "\n",
              "  <div id=\"df-5602d5d5-68be-4e66-b600-86e7f22090cc\" class=\"colab-df-container\">\n",
              "    <div>\n",
              "<style scoped>\n",
              "    .dataframe tbody tr th:only-of-type {\n",
              "        vertical-align: middle;\n",
              "    }\n",
              "\n",
              "    .dataframe tbody tr th {\n",
              "        vertical-align: top;\n",
              "    }\n",
              "\n",
              "    .dataframe thead th {\n",
              "        text-align: right;\n",
              "    }\n",
              "</style>\n",
              "<table border=\"1\" class=\"dataframe\">\n",
              "  <thead>\n",
              "    <tr style=\"text-align: right;\">\n",
              "      <th></th>\n",
              "      <th>column</th>\n",
              "      <th>NaN_count</th>\n",
              "      <th>-9999_count</th>\n",
              "    </tr>\n",
              "  </thead>\n",
              "  <tbody>\n",
              "    <tr>\n",
              "      <th>0</th>\n",
              "      <td>sea_level_pressure_0</td>\n",
              "      <td>0</td>\n",
              "      <td>11</td>\n",
              "    </tr>\n",
              "    <tr>\n",
              "      <th>1</th>\n",
              "      <td>sea_level_pressure_1</td>\n",
              "      <td>0</td>\n",
              "      <td>7</td>\n",
              "    </tr>\n",
              "    <tr>\n",
              "      <th>2</th>\n",
              "      <td>sea_level_pressure_2</td>\n",
              "      <td>0</td>\n",
              "      <td>4</td>\n",
              "    </tr>\n",
              "    <tr>\n",
              "      <th>3</th>\n",
              "      <td>sea_level_pressure_3</td>\n",
              "      <td>0</td>\n",
              "      <td>5</td>\n",
              "    </tr>\n",
              "    <tr>\n",
              "      <th>4</th>\n",
              "      <td>sea_level_pressure_4</td>\n",
              "      <td>0</td>\n",
              "      <td>5</td>\n",
              "    </tr>\n",
              "    <tr>\n",
              "      <th>5</th>\n",
              "      <td>sea_level_pressure_5</td>\n",
              "      <td>0</td>\n",
              "      <td>11</td>\n",
              "    </tr>\n",
              "    <tr>\n",
              "      <th>6</th>\n",
              "      <td>sea_level_pressure_6</td>\n",
              "      <td>0</td>\n",
              "      <td>9</td>\n",
              "    </tr>\n",
              "    <tr>\n",
              "      <th>7</th>\n",
              "      <td>sea_level_pressure_7</td>\n",
              "      <td>0</td>\n",
              "      <td>8</td>\n",
              "    </tr>\n",
              "    <tr>\n",
              "      <th>8</th>\n",
              "      <td>sea_level_pressure_8</td>\n",
              "      <td>0</td>\n",
              "      <td>7</td>\n",
              "    </tr>\n",
              "    <tr>\n",
              "      <th>9</th>\n",
              "      <td>sea_level_pressure_9</td>\n",
              "      <td>0</td>\n",
              "      <td>7</td>\n",
              "    </tr>\n",
              "    <tr>\n",
              "      <th>10</th>\n",
              "      <td>sea_level_pressure_10</td>\n",
              "      <td>0</td>\n",
              "      <td>7</td>\n",
              "    </tr>\n",
              "    <tr>\n",
              "      <th>11</th>\n",
              "      <td>sea_level_pressure_11</td>\n",
              "      <td>0</td>\n",
              "      <td>11</td>\n",
              "    </tr>\n",
              "    <tr>\n",
              "      <th>12</th>\n",
              "      <td>sea_level_pressure_12</td>\n",
              "      <td>0</td>\n",
              "      <td>8</td>\n",
              "    </tr>\n",
              "    <tr>\n",
              "      <th>13</th>\n",
              "      <td>sea_level_pressure_13</td>\n",
              "      <td>0</td>\n",
              "      <td>7</td>\n",
              "    </tr>\n",
              "    <tr>\n",
              "      <th>14</th>\n",
              "      <td>sea_level_pressure_14</td>\n",
              "      <td>0</td>\n",
              "      <td>12</td>\n",
              "    </tr>\n",
              "    <tr>\n",
              "      <th>15</th>\n",
              "      <td>sea_level_pressure_15</td>\n",
              "      <td>0</td>\n",
              "      <td>6</td>\n",
              "    </tr>\n",
              "    <tr>\n",
              "      <th>16</th>\n",
              "      <td>sea_level_pressure_16</td>\n",
              "      <td>0</td>\n",
              "      <td>9</td>\n",
              "    </tr>\n",
              "    <tr>\n",
              "      <th>17</th>\n",
              "      <td>sea_level_pressure_17</td>\n",
              "      <td>0</td>\n",
              "      <td>10</td>\n",
              "    </tr>\n",
              "    <tr>\n",
              "      <th>18</th>\n",
              "      <td>sea_level_pressure_18</td>\n",
              "      <td>0</td>\n",
              "      <td>11</td>\n",
              "    </tr>\n",
              "    <tr>\n",
              "      <th>19</th>\n",
              "      <td>sea_level_pressure_19</td>\n",
              "      <td>0</td>\n",
              "      <td>10</td>\n",
              "    </tr>\n",
              "    <tr>\n",
              "      <th>20</th>\n",
              "      <td>sea_level_pressure_20</td>\n",
              "      <td>0</td>\n",
              "      <td>5</td>\n",
              "    </tr>\n",
              "    <tr>\n",
              "      <th>21</th>\n",
              "      <td>sea_level_pressure_21</td>\n",
              "      <td>0</td>\n",
              "      <td>4</td>\n",
              "    </tr>\n",
              "    <tr>\n",
              "      <th>22</th>\n",
              "      <td>sea_level_pressure_22</td>\n",
              "      <td>0</td>\n",
              "      <td>3</td>\n",
              "    </tr>\n",
              "    <tr>\n",
              "      <th>23</th>\n",
              "      <td>sea_level_pressure_23</td>\n",
              "      <td>0</td>\n",
              "      <td>4</td>\n",
              "    </tr>\n",
              "  </tbody>\n",
              "</table>\n",
              "</div>\n",
              "    <div class=\"colab-df-buttons\">\n",
              "      \n",
              "  <div class=\"colab-df-container\">\n",
              "    <button class=\"colab-df-convert\" onclick=\"convertToInteractive('df-5602d5d5-68be-4e66-b600-86e7f22090cc')\"\n",
              "            title=\"Convert this dataframe to an interactive table.\"\n",
              "            style=\"display:none;\">\n",
              "      \n",
              "  <svg xmlns=\"http://www.w3.org/2000/svg\" height=\"24px\" viewBox=\"0 -960 960 960\">\n",
              "    <path d=\"M120-120v-720h720v720H120Zm60-500h600v-160H180v160Zm220 220h160v-160H400v160Zm0 220h160v-160H400v160ZM180-400h160v-160H180v160Zm440 0h160v-160H620v160ZM180-180h160v-160H180v160Zm440 0h160v-160H620v160Z\"/>\n",
              "  </svg>\n",
              "    </button>\n",
              "    \n",
              "  <style>\n",
              "    .colab-df-container {\n",
              "      display:flex;\n",
              "      gap: 12px;\n",
              "    }\n",
              "\n",
              "    .colab-df-convert {\n",
              "      background-color: #E8F0FE;\n",
              "      border: none;\n",
              "      border-radius: 50%;\n",
              "      cursor: pointer;\n",
              "      display: none;\n",
              "      fill: #1967D2;\n",
              "      height: 32px;\n",
              "      padding: 0 0 0 0;\n",
              "      width: 32px;\n",
              "    }\n",
              "\n",
              "    .colab-df-convert:hover {\n",
              "      background-color: #E2EBFA;\n",
              "      box-shadow: 0px 1px 2px rgba(60, 64, 67, 0.3), 0px 1px 3px 1px rgba(60, 64, 67, 0.15);\n",
              "      fill: #174EA6;\n",
              "    }\n",
              "\n",
              "    .colab-df-buttons div {\n",
              "      margin-bottom: 4px;\n",
              "    }\n",
              "\n",
              "    [theme=dark] .colab-df-convert {\n",
              "      background-color: #3B4455;\n",
              "      fill: #D2E3FC;\n",
              "    }\n",
              "\n",
              "    [theme=dark] .colab-df-convert:hover {\n",
              "      background-color: #434B5C;\n",
              "      box-shadow: 0px 1px 3px 1px rgba(0, 0, 0, 0.15);\n",
              "      filter: drop-shadow(0px 1px 2px rgba(0, 0, 0, 0.3));\n",
              "      fill: #FFFFFF;\n",
              "    }\n",
              "  </style>\n",
              "\n",
              "    <script>\n",
              "      const buttonEl =\n",
              "        document.querySelector('#df-5602d5d5-68be-4e66-b600-86e7f22090cc button.colab-df-convert');\n",
              "      buttonEl.style.display =\n",
              "        google.colab.kernel.accessAllowed ? 'block' : 'none';\n",
              "\n",
              "      async function convertToInteractive(key) {\n",
              "        const element = document.querySelector('#df-5602d5d5-68be-4e66-b600-86e7f22090cc');\n",
              "        const dataTable =\n",
              "          await google.colab.kernel.invokeFunction('convertToInteractive',\n",
              "                                                    [key], {});\n",
              "        if (!dataTable) return;\n",
              "\n",
              "        const docLinkHtml = 'Like what you see? Visit the ' +\n",
              "          '<a target=\"_blank\" href=https://colab.research.google.com/notebooks/data_table.ipynb>data table notebook</a>'\n",
              "          + ' to learn more about interactive tables.';\n",
              "        element.innerHTML = '';\n",
              "        dataTable['output_type'] = 'display_data';\n",
              "        await google.colab.output.renderOutput(dataTable, element);\n",
              "        const docLink = document.createElement('div');\n",
              "        docLink.innerHTML = docLinkHtml;\n",
              "        element.appendChild(docLink);\n",
              "      }\n",
              "    </script>\n",
              "  </div>\n",
              "  \n",
              "    </div>\n",
              "  </div>\n",
              "  "
            ]
          },
          "metadata": {},
          "execution_count": 466
        }
      ]
    },
    {
      "cell_type": "code",
      "source": [
        "from sklearn.linear_model import LinearRegression\n",
        "import numpy as np\n",
        "\n",
        "def process_pressure_features(df):\n",
        "    # 0. -9999 → NaN 변환\n",
        "    df.replace(-9999, np.nan, inplace=True)\n",
        "\n",
        "    # 1. vapor_pressure 회귀 보간\n",
        "    for i in range(24):\n",
        "        vp = f\"vapor_pressure_{i}\"\n",
        "        dp = f\"dew_point_{i}\"\n",
        "        hum = f\"humidity_{i}\"\n",
        "\n",
        "        valid = df[[vp, dp, hum]].dropna()\n",
        "        if valid.shape[0] >= 5:\n",
        "            model = LinearRegression()\n",
        "            model.fit(valid[[dp, hum]], valid[vp])\n",
        "            mask = df[vp].isna() & df[dp].notna() & df[hum].notna()\n",
        "            if mask.any():\n",
        "                df.loc[mask, vp] = model.predict(df.loc[mask, [dp, hum]])\n",
        "\n",
        "    # 2. vapor_pressure 보간\n",
        "    vp_cols = [f\"vapor_pressure_{i}\" for i in range(24)]\n",
        "    df[vp_cols] = df[vp_cols].interpolate(axis=0, limit_direction='both')\n",
        "\n",
        "    # 3. local_pressure / sea_level_pressure 상호 대체 + 보간\n",
        "    lp_cols = [f\"local_pressure_{i}\" for i in range(24)]\n",
        "    slp_cols = [f\"sea_level_pressure_{i}\" for i in range(24)]\n",
        "\n",
        "    for lp, slp in zip(lp_cols, slp_cols):\n",
        "        df[lp] = df[lp].fillna(df[slp])\n",
        "        df[slp] = df[slp].fillna(df[lp])\n",
        "\n",
        "    df[lp_cols] = df[lp_cols].interpolate(axis=1, limit_direction='both')\n",
        "    df[slp_cols] = df[slp_cols].interpolate(axis=1, limit_direction='both')\n",
        "\n",
        "    # ✅ 4. 행 제거 없이 flag만 생성\n",
        "    df[\"vapor_pressure_imputed\"] = df[vp_cols].isna().sum(axis=1) > 0\n",
        "    df[\"local_pressure_imputed\"] = df[lp_cols].isna().sum(axis=1) > 0\n",
        "    df[\"sea_level_pressure_imputed\"] = df[slp_cols].isna().sum(axis=1) > 0\n",
        "\n",
        "    return df\n"
      ],
      "metadata": {
        "id": "BZ9lpo32uUts"
      },
      "execution_count": 467,
      "outputs": []
    },
    {
      "cell_type": "code",
      "source": [
        "df = process_pressure_features(df)\n",
        "testD = process_pressure_features(testD)"
      ],
      "metadata": {
        "id": "cl7_mcX2vouK",
        "colab": {
          "base_uri": "https://localhost:8080/"
        },
        "outputId": "10ac1118-ec19-4af5-e87e-fb7b83adb149"
      },
      "execution_count": 468,
      "outputs": [
        {
          "output_type": "stream",
          "name": "stderr",
          "text": [
            "<ipython-input-467-c78655888bdc>:38: PerformanceWarning: DataFrame is highly fragmented.  This is usually the result of calling `frame.insert` many times, which has poor performance.  Consider joining all columns at once using pd.concat(axis=1) instead. To get a de-fragmented frame, use `newframe = frame.copy()`\n",
            "  df[\"vapor_pressure_imputed\"] = df[vp_cols].isna().sum(axis=1) > 0\n",
            "<ipython-input-467-c78655888bdc>:39: PerformanceWarning: DataFrame is highly fragmented.  This is usually the result of calling `frame.insert` many times, which has poor performance.  Consider joining all columns at once using pd.concat(axis=1) instead. To get a de-fragmented frame, use `newframe = frame.copy()`\n",
            "  df[\"local_pressure_imputed\"] = df[lp_cols].isna().sum(axis=1) > 0\n",
            "<ipython-input-467-c78655888bdc>:40: PerformanceWarning: DataFrame is highly fragmented.  This is usually the result of calling `frame.insert` many times, which has poor performance.  Consider joining all columns at once using pd.concat(axis=1) instead. To get a de-fragmented frame, use `newframe = frame.copy()`\n",
            "  df[\"sea_level_pressure_imputed\"] = df[slp_cols].isna().sum(axis=1) > 0\n",
            "<ipython-input-467-c78655888bdc>:38: PerformanceWarning: DataFrame is highly fragmented.  This is usually the result of calling `frame.insert` many times, which has poor performance.  Consider joining all columns at once using pd.concat(axis=1) instead. To get a de-fragmented frame, use `newframe = frame.copy()`\n",
            "  df[\"vapor_pressure_imputed\"] = df[vp_cols].isna().sum(axis=1) > 0\n",
            "<ipython-input-467-c78655888bdc>:39: PerformanceWarning: DataFrame is highly fragmented.  This is usually the result of calling `frame.insert` many times, which has poor performance.  Consider joining all columns at once using pd.concat(axis=1) instead. To get a de-fragmented frame, use `newframe = frame.copy()`\n",
            "  df[\"local_pressure_imputed\"] = df[lp_cols].isna().sum(axis=1) > 0\n",
            "<ipython-input-467-c78655888bdc>:40: PerformanceWarning: DataFrame is highly fragmented.  This is usually the result of calling `frame.insert` many times, which has poor performance.  Consider joining all columns at once using pd.concat(axis=1) instead. To get a de-fragmented frame, use `newframe = frame.copy()`\n",
            "  df[\"sea_level_pressure_imputed\"] = df[slp_cols].isna().sum(axis=1) > 0\n"
          ]
        }
      ]
    },
    {
      "cell_type": "code",
      "source": [
        "testD =  process_dew_point(testD)"
      ],
      "metadata": {
        "id": "tW1TYgzDuRAI",
        "colab": {
          "base_uri": "https://localhost:8080/"
        },
        "outputId": "444979ce-a2d1-4622-f08b-9339e73e17e9"
      },
      "execution_count": 469,
      "outputs": [
        {
          "output_type": "stream",
          "name": "stderr",
          "text": [
            "<ipython-input-461-4ec978dacb72>:20: PerformanceWarning: DataFrame is highly fragmented.  This is usually the result of calling `frame.insert` many times, which has poor performance.  Consider joining all columns at once using pd.concat(axis=1) instead. To get a de-fragmented frame, use `newframe = frame.copy()`\n",
            "  df[\"dew_point_max_consec_nan\"] = df[dew_cols].apply(count_consecutive_nans, axis=1)\n"
          ]
        }
      ]
    },
    {
      "cell_type": "code",
      "source": [
        "testD = process_pressure_features(testD)"
      ],
      "metadata": {
        "id": "CTE4g8qeuXPN"
      },
      "execution_count": 470,
      "outputs": []
    },
    {
      "cell_type": "markdown",
      "source": [
        "#모델학습"
      ],
      "metadata": {
        "id": "1PmqCdhp46BO"
      }
    },
    {
      "cell_type": "code",
      "source": [
        "print(df.columns.tolist())"
      ],
      "metadata": {
        "colab": {
          "base_uri": "https://localhost:8080/"
        },
        "id": "uVimn3lHh5Mc",
        "outputId": "dea0a78e-de04-4885-9c13-6c15ddcb54bf"
      },
      "execution_count": 471,
      "outputs": [
        {
          "output_type": "stream",
          "name": "stdout",
          "text": [
            "['climatology_temp', 'cloud_cover_0', 'cloud_cover_1', 'cloud_cover_2', 'cloud_cover_3', 'cloud_cover_4', 'cloud_cover_5', 'cloud_cover_6', 'cloud_cover_7', 'cloud_cover_8', 'cloud_cover_9', 'cloud_cover_10', 'cloud_cover_11', 'cloud_cover_12', 'cloud_cover_13', 'cloud_cover_14', 'cloud_cover_15', 'cloud_cover_16', 'cloud_cover_17', 'cloud_cover_18', 'cloud_cover_19', 'cloud_cover_20', 'cloud_cover_21', 'cloud_cover_22', 'cloud_cover_23', 'dew_point_0', 'dew_point_1', 'dew_point_2', 'dew_point_3', 'dew_point_4', 'dew_point_5', 'dew_point_6', 'dew_point_7', 'dew_point_8', 'dew_point_9', 'dew_point_10', 'dew_point_11', 'dew_point_12', 'dew_point_13', 'dew_point_14', 'dew_point_15', 'dew_point_16', 'dew_point_17', 'dew_point_18', 'dew_point_19', 'dew_point_20', 'dew_point_21', 'dew_point_22', 'dew_point_23', 'humidity_0', 'humidity_1', 'humidity_2', 'humidity_3', 'humidity_4', 'humidity_5', 'humidity_6', 'humidity_7', 'humidity_8', 'humidity_9', 'humidity_10', 'humidity_11', 'humidity_12', 'humidity_13', 'humidity_14', 'humidity_15', 'humidity_16', 'humidity_17', 'humidity_18', 'humidity_19', 'humidity_20', 'humidity_21', 'humidity_22', 'humidity_23', 'id', 'local_pressure_0', 'local_pressure_1', 'local_pressure_2', 'local_pressure_3', 'local_pressure_4', 'local_pressure_5', 'local_pressure_6', 'local_pressure_7', 'local_pressure_8', 'local_pressure_9', 'local_pressure_10', 'local_pressure_11', 'local_pressure_12', 'local_pressure_13', 'local_pressure_14', 'local_pressure_15', 'local_pressure_16', 'local_pressure_17', 'local_pressure_18', 'local_pressure_19', 'local_pressure_20', 'local_pressure_21', 'local_pressure_22', 'local_pressure_23', 'precipitation_0', 'precipitation_1', 'precipitation_2', 'precipitation_3', 'precipitation_4', 'precipitation_5', 'precipitation_6', 'precipitation_7', 'precipitation_8', 'precipitation_9', 'precipitation_10', 'precipitation_11', 'precipitation_12', 'precipitation_13', 'precipitation_14', 'precipitation_15', 'precipitation_16', 'precipitation_17', 'precipitation_18', 'precipitation_19', 'precipitation_20', 'precipitation_21', 'precipitation_22', 'precipitation_23', 'sea_level_pressure_0', 'sea_level_pressure_1', 'sea_level_pressure_2', 'sea_level_pressure_3', 'sea_level_pressure_4', 'sea_level_pressure_5', 'sea_level_pressure_6', 'sea_level_pressure_7', 'sea_level_pressure_8', 'sea_level_pressure_9', 'sea_level_pressure_10', 'sea_level_pressure_11', 'sea_level_pressure_12', 'sea_level_pressure_13', 'sea_level_pressure_14', 'sea_level_pressure_15', 'sea_level_pressure_16', 'sea_level_pressure_17', 'sea_level_pressure_18', 'sea_level_pressure_19', 'sea_level_pressure_20', 'sea_level_pressure_21', 'sea_level_pressure_22', 'sea_level_pressure_23', 'snow_depth_0', 'snow_depth_1', 'snow_depth_2', 'snow_depth_3', 'snow_depth_4', 'snow_depth_5', 'snow_depth_6', 'snow_depth_7', 'snow_depth_8', 'snow_depth_9', 'snow_depth_10', 'snow_depth_11', 'snow_depth_12', 'snow_depth_13', 'snow_depth_14', 'snow_depth_15', 'snow_depth_16', 'snow_depth_17', 'snow_depth_18', 'snow_depth_19', 'snow_depth_20', 'snow_depth_21', 'snow_depth_22', 'snow_depth_23', 'station_name', 'sunshine_duration_0', 'sunshine_duration_1', 'sunshine_duration_2', 'sunshine_duration_3', 'sunshine_duration_4', 'sunshine_duration_5', 'sunshine_duration_6', 'sunshine_duration_7', 'sunshine_duration_8', 'sunshine_duration_9', 'sunshine_duration_10', 'sunshine_duration_11', 'sunshine_duration_12', 'sunshine_duration_13', 'sunshine_duration_14', 'sunshine_duration_15', 'sunshine_duration_16', 'sunshine_duration_17', 'sunshine_duration_18', 'sunshine_duration_19', 'sunshine_duration_20', 'sunshine_duration_21', 'sunshine_duration_22', 'sunshine_duration_23', 'surface_temp_0', 'surface_temp_1', 'surface_temp_2', 'surface_temp_3', 'surface_temp_4', 'surface_temp_5', 'surface_temp_6', 'surface_temp_7', 'surface_temp_8', 'surface_temp_9', 'surface_temp_10', 'surface_temp_11', 'surface_temp_12', 'surface_temp_13', 'surface_temp_14', 'surface_temp_15', 'surface_temp_16', 'surface_temp_17', 'surface_temp_18', 'surface_temp_19', 'surface_temp_20', 'surface_temp_21', 'surface_temp_22', 'surface_temp_23', 'target', 'vapor_pressure_0', 'vapor_pressure_1', 'vapor_pressure_2', 'vapor_pressure_3', 'vapor_pressure_4', 'vapor_pressure_5', 'vapor_pressure_6', 'vapor_pressure_7', 'vapor_pressure_8', 'vapor_pressure_9', 'vapor_pressure_10', 'vapor_pressure_11', 'vapor_pressure_12', 'vapor_pressure_13', 'vapor_pressure_14', 'vapor_pressure_15', 'vapor_pressure_16', 'vapor_pressure_17', 'vapor_pressure_18', 'vapor_pressure_19', 'vapor_pressure_20', 'vapor_pressure_21', 'vapor_pressure_22', 'vapor_pressure_23', 'visibility_0', 'visibility_1', 'visibility_2', 'visibility_3', 'visibility_4', 'visibility_5', 'visibility_6', 'visibility_7', 'visibility_8', 'visibility_9', 'visibility_10', 'visibility_11', 'visibility_12', 'visibility_13', 'visibility_14', 'visibility_15', 'visibility_16', 'visibility_17', 'visibility_18', 'visibility_19', 'visibility_20', 'visibility_21', 'visibility_22', 'visibility_23', 'wind_direction_0', 'wind_direction_1', 'wind_direction_2', 'wind_direction_3', 'wind_direction_4', 'wind_direction_5', 'wind_direction_6', 'wind_direction_7', 'wind_direction_8', 'wind_direction_9', 'wind_direction_10', 'wind_direction_11', 'wind_direction_12', 'wind_direction_13', 'wind_direction_14', 'wind_direction_15', 'wind_direction_16', 'wind_direction_17', 'wind_direction_18', 'wind_direction_19', 'wind_direction_20', 'wind_direction_21', 'wind_direction_22', 'wind_direction_23', 'wind_speed_0', 'wind_speed_1', 'wind_speed_2', 'wind_speed_3', 'wind_speed_4', 'wind_speed_5', 'wind_speed_6', 'wind_speed_7', 'wind_speed_8', 'wind_speed_9', 'wind_speed_10', 'wind_speed_11', 'wind_speed_12', 'wind_speed_13', 'wind_speed_14', 'wind_speed_15', 'wind_speed_16', 'wind_speed_17', 'wind_speed_18', 'wind_speed_19', 'wind_speed_20', 'wind_speed_21', 'wind_speed_22', 'wind_speed_23', 'month', 'day', 'month_sin', 'month_cos', 'day_sin', 'day_cos', 'cloud_cover_0_lag1', 'cloud_cover_0_lag2', 'cloud_cover_0_roll3', 'cloud_cover_1_lag1', 'cloud_cover_1_lag2', 'cloud_cover_1_roll3', 'cloud_cover_2_lag1', 'cloud_cover_2_lag2', 'cloud_cover_2_roll3', 'cloud_cover_3_lag1', 'cloud_cover_3_lag2', 'cloud_cover_3_roll3', 'cloud_cover_4_lag1', 'cloud_cover_4_lag2', 'cloud_cover_4_roll3', 'cloud_cover_5_lag1', 'cloud_cover_5_lag2', 'cloud_cover_5_roll3', 'cloud_cover_6_lag1', 'cloud_cover_6_lag2', 'cloud_cover_6_roll3', 'cloud_cover_7_lag1', 'cloud_cover_7_lag2', 'cloud_cover_7_roll3', 'cloud_cover_8_lag1', 'cloud_cover_8_lag2', 'cloud_cover_8_roll3', 'cloud_cover_9_lag1', 'cloud_cover_9_lag2', 'cloud_cover_9_roll3', 'cloud_cover_10_lag1', 'cloud_cover_10_lag2', 'cloud_cover_10_roll3', 'cloud_cover_11_lag1', 'cloud_cover_11_lag2', 'cloud_cover_11_roll3', 'cloud_cover_12_lag1', 'cloud_cover_12_lag2', 'cloud_cover_12_roll3', 'cloud_cover_13_lag1', 'cloud_cover_13_lag2', 'cloud_cover_13_roll3', 'cloud_cover_14_lag1', 'cloud_cover_14_lag2', 'cloud_cover_14_roll3', 'cloud_cover_15_lag1', 'cloud_cover_15_lag2', 'cloud_cover_15_roll3', 'cloud_cover_16_lag1', 'cloud_cover_16_lag2', 'cloud_cover_16_roll3', 'cloud_cover_17_lag1', 'cloud_cover_17_lag2', 'cloud_cover_17_roll3', 'cloud_cover_18_lag1', 'cloud_cover_18_lag2', 'cloud_cover_18_roll3', 'cloud_cover_19_lag1', 'cloud_cover_19_lag2', 'cloud_cover_19_roll3', 'cloud_cover_20_lag1', 'cloud_cover_20_lag2', 'cloud_cover_20_roll3', 'cloud_cover_21_lag1', 'cloud_cover_21_lag2', 'cloud_cover_21_roll3', 'cloud_cover_22_lag1', 'cloud_cover_22_lag2', 'cloud_cover_22_roll3', 'cloud_cover_23_lag1', 'cloud_cover_23_lag2', 'cloud_cover_23_roll3', 'wind_sin_0', 'wind_cos_0', 'wind_sin_1', 'wind_cos_1', 'wind_sin_2', 'wind_cos_2', 'wind_sin_3', 'wind_cos_3', 'wind_sin_4', 'wind_cos_4', 'wind_sin_5', 'wind_cos_5', 'wind_sin_6', 'wind_cos_6', 'wind_sin_7', 'wind_cos_7', 'wind_sin_8', 'wind_cos_8', 'wind_sin_9', 'wind_cos_9', 'wind_sin_10', 'wind_cos_10', 'wind_sin_11', 'wind_cos_11', 'wind_sin_12', 'wind_cos_12', 'wind_sin_13', 'wind_cos_13', 'wind_sin_14', 'wind_cos_14', 'wind_sin_15', 'wind_cos_15', 'wind_sin_16', 'wind_cos_16', 'wind_sin_17', 'wind_cos_17', 'wind_sin_18', 'wind_cos_18', 'wind_sin_19', 'wind_cos_19', 'wind_sin_20', 'wind_cos_20', 'wind_sin_21', 'wind_cos_21', 'wind_sin_22', 'wind_cos_22', 'wind_sin_23', 'wind_cos_23', '위도', '경도', '고도', 'rainy_day_0', 'rainy_day_1', 'rainy_day_2', 'rainy_day_3', 'rainy_day_4', 'rainy_day_5', 'rainy_day_6', 'rainy_day_7', 'rainy_day_8', 'rainy_day_9', 'rainy_day_10', 'rainy_day_11', 'rainy_day_12', 'rainy_day_13', 'rainy_day_14', 'rainy_day_15', 'rainy_day_16', 'rainy_day_17', 'rainy_day_18', 'rainy_day_19', 'rainy_day_20', 'rainy_day_21', 'rainy_day_22', 'rainy_day_23', 'vapor_pressure_imputed', 'local_pressure_imputed', 'sea_level_pressure_imputed']\n"
          ]
        }
      ]
    },
    {
      "cell_type": "code",
      "source": [
        "print(testD.columns.tolist())"
      ],
      "metadata": {
        "colab": {
          "base_uri": "https://localhost:8080/"
        },
        "id": "p3lJha4XNrL1",
        "outputId": "004af60e-feca-40d2-8c91-746661719b90"
      },
      "execution_count": 472,
      "outputs": [
        {
          "output_type": "stream",
          "name": "stdout",
          "text": [
            "['climatology_temp', 'cloud_cover_0', 'cloud_cover_1', 'cloud_cover_2', 'cloud_cover_3', 'cloud_cover_4', 'cloud_cover_5', 'cloud_cover_6', 'cloud_cover_7', 'cloud_cover_8', 'cloud_cover_9', 'cloud_cover_10', 'cloud_cover_11', 'cloud_cover_12', 'cloud_cover_13', 'cloud_cover_14', 'cloud_cover_15', 'cloud_cover_16', 'cloud_cover_17', 'cloud_cover_18', 'cloud_cover_19', 'cloud_cover_20', 'cloud_cover_21', 'cloud_cover_22', 'cloud_cover_23', 'dew_point_0', 'dew_point_1', 'dew_point_2', 'dew_point_3', 'dew_point_4', 'dew_point_5', 'dew_point_6', 'dew_point_7', 'dew_point_8', 'dew_point_9', 'dew_point_10', 'dew_point_11', 'dew_point_12', 'dew_point_13', 'dew_point_14', 'dew_point_15', 'dew_point_16', 'dew_point_17', 'dew_point_18', 'dew_point_19', 'dew_point_20', 'dew_point_21', 'dew_point_22', 'dew_point_23', 'humidity_0', 'humidity_1', 'humidity_2', 'humidity_3', 'humidity_4', 'humidity_5', 'humidity_6', 'humidity_7', 'humidity_8', 'humidity_9', 'humidity_10', 'humidity_11', 'humidity_12', 'humidity_13', 'humidity_14', 'humidity_15', 'humidity_16', 'humidity_17', 'humidity_18', 'humidity_19', 'humidity_20', 'humidity_21', 'humidity_22', 'humidity_23', 'id', 'local_pressure_0', 'local_pressure_1', 'local_pressure_2', 'local_pressure_3', 'local_pressure_4', 'local_pressure_5', 'local_pressure_6', 'local_pressure_7', 'local_pressure_8', 'local_pressure_9', 'local_pressure_10', 'local_pressure_11', 'local_pressure_12', 'local_pressure_13', 'local_pressure_14', 'local_pressure_15', 'local_pressure_16', 'local_pressure_17', 'local_pressure_18', 'local_pressure_19', 'local_pressure_20', 'local_pressure_21', 'local_pressure_22', 'local_pressure_23', 'precipitation_0', 'precipitation_1', 'precipitation_2', 'precipitation_3', 'precipitation_4', 'precipitation_5', 'precipitation_6', 'precipitation_7', 'precipitation_8', 'precipitation_9', 'precipitation_10', 'precipitation_11', 'precipitation_12', 'precipitation_13', 'precipitation_14', 'precipitation_15', 'precipitation_16', 'precipitation_17', 'precipitation_18', 'precipitation_19', 'precipitation_20', 'precipitation_21', 'precipitation_22', 'precipitation_23', 'sea_level_pressure_0', 'sea_level_pressure_1', 'sea_level_pressure_2', 'sea_level_pressure_3', 'sea_level_pressure_4', 'sea_level_pressure_5', 'sea_level_pressure_6', 'sea_level_pressure_7', 'sea_level_pressure_8', 'sea_level_pressure_9', 'sea_level_pressure_10', 'sea_level_pressure_11', 'sea_level_pressure_12', 'sea_level_pressure_13', 'sea_level_pressure_14', 'sea_level_pressure_15', 'sea_level_pressure_16', 'sea_level_pressure_17', 'sea_level_pressure_18', 'sea_level_pressure_19', 'sea_level_pressure_20', 'sea_level_pressure_21', 'sea_level_pressure_22', 'sea_level_pressure_23', 'snow_depth_0', 'snow_depth_1', 'snow_depth_2', 'snow_depth_3', 'snow_depth_4', 'snow_depth_5', 'snow_depth_6', 'snow_depth_7', 'snow_depth_8', 'snow_depth_9', 'snow_depth_10', 'snow_depth_11', 'snow_depth_12', 'snow_depth_13', 'snow_depth_14', 'snow_depth_15', 'snow_depth_16', 'snow_depth_17', 'snow_depth_18', 'snow_depth_19', 'snow_depth_20', 'snow_depth_21', 'snow_depth_22', 'snow_depth_23', 'station_name', 'sunshine_duration_0', 'sunshine_duration_1', 'sunshine_duration_2', 'sunshine_duration_3', 'sunshine_duration_4', 'sunshine_duration_5', 'sunshine_duration_6', 'sunshine_duration_7', 'sunshine_duration_8', 'sunshine_duration_9', 'sunshine_duration_10', 'sunshine_duration_11', 'sunshine_duration_12', 'sunshine_duration_13', 'sunshine_duration_14', 'sunshine_duration_15', 'sunshine_duration_16', 'sunshine_duration_17', 'sunshine_duration_18', 'sunshine_duration_19', 'sunshine_duration_20', 'sunshine_duration_21', 'sunshine_duration_22', 'sunshine_duration_23', 'surface_temp_0', 'surface_temp_1', 'surface_temp_2', 'surface_temp_3', 'surface_temp_4', 'surface_temp_5', 'surface_temp_6', 'surface_temp_7', 'surface_temp_8', 'surface_temp_9', 'surface_temp_10', 'surface_temp_11', 'surface_temp_12', 'surface_temp_13', 'surface_temp_14', 'surface_temp_15', 'surface_temp_16', 'surface_temp_17', 'surface_temp_18', 'surface_temp_19', 'surface_temp_20', 'surface_temp_21', 'surface_temp_22', 'surface_temp_23', 'vapor_pressure_0', 'vapor_pressure_1', 'vapor_pressure_2', 'vapor_pressure_3', 'vapor_pressure_4', 'vapor_pressure_5', 'vapor_pressure_6', 'vapor_pressure_7', 'vapor_pressure_8', 'vapor_pressure_9', 'vapor_pressure_10', 'vapor_pressure_11', 'vapor_pressure_12', 'vapor_pressure_13', 'vapor_pressure_14', 'vapor_pressure_15', 'vapor_pressure_16', 'vapor_pressure_17', 'vapor_pressure_18', 'vapor_pressure_19', 'vapor_pressure_20', 'vapor_pressure_21', 'vapor_pressure_22', 'vapor_pressure_23', 'visibility_0', 'visibility_1', 'visibility_2', 'visibility_3', 'visibility_4', 'visibility_5', 'visibility_6', 'visibility_7', 'visibility_8', 'visibility_9', 'visibility_10', 'visibility_11', 'visibility_12', 'visibility_13', 'visibility_14', 'visibility_15', 'visibility_16', 'visibility_17', 'visibility_18', 'visibility_19', 'visibility_20', 'visibility_21', 'visibility_22', 'visibility_23', 'wind_direction_0', 'wind_direction_1', 'wind_direction_2', 'wind_direction_3', 'wind_direction_4', 'wind_direction_5', 'wind_direction_6', 'wind_direction_7', 'wind_direction_8', 'wind_direction_9', 'wind_direction_10', 'wind_direction_11', 'wind_direction_12', 'wind_direction_13', 'wind_direction_14', 'wind_direction_15', 'wind_direction_16', 'wind_direction_17', 'wind_direction_18', 'wind_direction_19', 'wind_direction_20', 'wind_direction_21', 'wind_direction_22', 'wind_direction_23', 'wind_speed_0', 'wind_speed_1', 'wind_speed_2', 'wind_speed_3', 'wind_speed_4', 'wind_speed_5', 'wind_speed_6', 'wind_speed_7', 'wind_speed_8', 'wind_speed_9', 'wind_speed_10', 'wind_speed_11', 'wind_speed_12', 'wind_speed_13', 'wind_speed_14', 'wind_speed_15', 'wind_speed_16', 'wind_speed_17', 'wind_speed_18', 'wind_speed_19', 'wind_speed_20', 'wind_speed_21', 'wind_speed_22', 'wind_speed_23', 'month', 'day', 'month_sin', 'month_cos', 'day_sin', 'day_cos', 'cloud_cover_0_lag1', 'cloud_cover_0_lag2', 'cloud_cover_0_roll3', 'cloud_cover_1_lag1', 'cloud_cover_1_lag2', 'cloud_cover_1_roll3', 'cloud_cover_2_lag1', 'cloud_cover_2_lag2', 'cloud_cover_2_roll3', 'cloud_cover_3_lag1', 'cloud_cover_3_lag2', 'cloud_cover_3_roll3', 'cloud_cover_4_lag1', 'cloud_cover_4_lag2', 'cloud_cover_4_roll3', 'cloud_cover_5_lag1', 'cloud_cover_5_lag2', 'cloud_cover_5_roll3', 'cloud_cover_6_lag1', 'cloud_cover_6_lag2', 'cloud_cover_6_roll3', 'cloud_cover_7_lag1', 'cloud_cover_7_lag2', 'cloud_cover_7_roll3', 'cloud_cover_8_lag1', 'cloud_cover_8_lag2', 'cloud_cover_8_roll3', 'cloud_cover_9_lag1', 'cloud_cover_9_lag2', 'cloud_cover_9_roll3', 'cloud_cover_10_lag1', 'cloud_cover_10_lag2', 'cloud_cover_10_roll3', 'cloud_cover_11_lag1', 'cloud_cover_11_lag2', 'cloud_cover_11_roll3', 'cloud_cover_12_lag1', 'cloud_cover_12_lag2', 'cloud_cover_12_roll3', 'cloud_cover_13_lag1', 'cloud_cover_13_lag2', 'cloud_cover_13_roll3', 'cloud_cover_14_lag1', 'cloud_cover_14_lag2', 'cloud_cover_14_roll3', 'cloud_cover_15_lag1', 'cloud_cover_15_lag2', 'cloud_cover_15_roll3', 'cloud_cover_16_lag1', 'cloud_cover_16_lag2', 'cloud_cover_16_roll3', 'cloud_cover_17_lag1', 'cloud_cover_17_lag2', 'cloud_cover_17_roll3', 'cloud_cover_18_lag1', 'cloud_cover_18_lag2', 'cloud_cover_18_roll3', 'cloud_cover_19_lag1', 'cloud_cover_19_lag2', 'cloud_cover_19_roll3', 'cloud_cover_20_lag1', 'cloud_cover_20_lag2', 'cloud_cover_20_roll3', 'cloud_cover_21_lag1', 'cloud_cover_21_lag2', 'cloud_cover_21_roll3', 'cloud_cover_22_lag1', 'cloud_cover_22_lag2', 'cloud_cover_22_roll3', 'cloud_cover_23_lag1', 'cloud_cover_23_lag2', 'cloud_cover_23_roll3', 'wind_sin_0', 'wind_cos_0', 'wind_sin_1', 'wind_cos_1', 'wind_sin_2', 'wind_cos_2', 'wind_sin_3', 'wind_cos_3', 'wind_sin_4', 'wind_cos_4', 'wind_sin_5', 'wind_cos_5', 'wind_sin_6', 'wind_cos_6', 'wind_sin_7', 'wind_cos_7', 'wind_sin_8', 'wind_cos_8', 'wind_sin_9', 'wind_cos_9', 'wind_sin_10', 'wind_cos_10', 'wind_sin_11', 'wind_cos_11', 'wind_sin_12', 'wind_cos_12', 'wind_sin_13', 'wind_cos_13', 'wind_sin_14', 'wind_cos_14', 'wind_sin_15', 'wind_cos_15', 'wind_sin_16', 'wind_cos_16', 'wind_sin_17', 'wind_cos_17', 'wind_sin_18', 'wind_cos_18', 'wind_sin_19', 'wind_cos_19', 'wind_sin_20', 'wind_cos_20', 'wind_sin_21', 'wind_cos_21', 'wind_sin_22', 'wind_cos_22', 'wind_sin_23', 'wind_cos_23', '위도', '경도', '고도', 'rainy_day_0', 'rainy_day_1', 'rainy_day_2', 'rainy_day_3', 'rainy_day_4', 'rainy_day_5', 'rainy_day_6', 'rainy_day_7', 'rainy_day_8', 'rainy_day_9', 'rainy_day_10', 'rainy_day_11', 'rainy_day_12', 'rainy_day_13', 'rainy_day_14', 'rainy_day_15', 'rainy_day_16', 'rainy_day_17', 'rainy_day_18', 'rainy_day_19', 'rainy_day_20', 'rainy_day_21', 'rainy_day_22', 'rainy_day_23', 'vapor_pressure_imputed', 'local_pressure_imputed', 'sea_level_pressure_imputed']\n"
          ]
        }
      ]
    },
    {
      "cell_type": "code",
      "source": [
        "import xgboost as xgb\n",
        "from sklearn.model_selection import train_test_split\n",
        "from sklearn.metrics import mean_squared_error, mean_absolute_error\n",
        "import numpy as np\n",
        "from sklearn.ensemble import StackingRegressor\n",
        "from sklearn.linear_model import RidgeCV\n",
        "from sklearn.ensemble import RandomForestRegressor\n",
        "import xgboost as xgb"
      ],
      "metadata": {
        "id": "1H8ok0d7MRVg"
      },
      "execution_count": 473,
      "outputs": []
    },
    {
      "cell_type": "code",
      "source": [
        "# 학습 데이터의 모든 feature 출력\n",
        "print(\"Train Features:\")\n",
        "print(df.columns.tolist())"
      ],
      "metadata": {
        "colab": {
          "base_uri": "https://localhost:8080/"
        },
        "id": "orpiRYT2Njcl",
        "outputId": "1fc10500-9594-493d-96ae-d648a2c74b88"
      },
      "execution_count": 474,
      "outputs": [
        {
          "output_type": "stream",
          "name": "stdout",
          "text": [
            "Train Features:\n",
            "['climatology_temp', 'cloud_cover_0', 'cloud_cover_1', 'cloud_cover_2', 'cloud_cover_3', 'cloud_cover_4', 'cloud_cover_5', 'cloud_cover_6', 'cloud_cover_7', 'cloud_cover_8', 'cloud_cover_9', 'cloud_cover_10', 'cloud_cover_11', 'cloud_cover_12', 'cloud_cover_13', 'cloud_cover_14', 'cloud_cover_15', 'cloud_cover_16', 'cloud_cover_17', 'cloud_cover_18', 'cloud_cover_19', 'cloud_cover_20', 'cloud_cover_21', 'cloud_cover_22', 'cloud_cover_23', 'dew_point_0', 'dew_point_1', 'dew_point_2', 'dew_point_3', 'dew_point_4', 'dew_point_5', 'dew_point_6', 'dew_point_7', 'dew_point_8', 'dew_point_9', 'dew_point_10', 'dew_point_11', 'dew_point_12', 'dew_point_13', 'dew_point_14', 'dew_point_15', 'dew_point_16', 'dew_point_17', 'dew_point_18', 'dew_point_19', 'dew_point_20', 'dew_point_21', 'dew_point_22', 'dew_point_23', 'humidity_0', 'humidity_1', 'humidity_2', 'humidity_3', 'humidity_4', 'humidity_5', 'humidity_6', 'humidity_7', 'humidity_8', 'humidity_9', 'humidity_10', 'humidity_11', 'humidity_12', 'humidity_13', 'humidity_14', 'humidity_15', 'humidity_16', 'humidity_17', 'humidity_18', 'humidity_19', 'humidity_20', 'humidity_21', 'humidity_22', 'humidity_23', 'id', 'local_pressure_0', 'local_pressure_1', 'local_pressure_2', 'local_pressure_3', 'local_pressure_4', 'local_pressure_5', 'local_pressure_6', 'local_pressure_7', 'local_pressure_8', 'local_pressure_9', 'local_pressure_10', 'local_pressure_11', 'local_pressure_12', 'local_pressure_13', 'local_pressure_14', 'local_pressure_15', 'local_pressure_16', 'local_pressure_17', 'local_pressure_18', 'local_pressure_19', 'local_pressure_20', 'local_pressure_21', 'local_pressure_22', 'local_pressure_23', 'precipitation_0', 'precipitation_1', 'precipitation_2', 'precipitation_3', 'precipitation_4', 'precipitation_5', 'precipitation_6', 'precipitation_7', 'precipitation_8', 'precipitation_9', 'precipitation_10', 'precipitation_11', 'precipitation_12', 'precipitation_13', 'precipitation_14', 'precipitation_15', 'precipitation_16', 'precipitation_17', 'precipitation_18', 'precipitation_19', 'precipitation_20', 'precipitation_21', 'precipitation_22', 'precipitation_23', 'sea_level_pressure_0', 'sea_level_pressure_1', 'sea_level_pressure_2', 'sea_level_pressure_3', 'sea_level_pressure_4', 'sea_level_pressure_5', 'sea_level_pressure_6', 'sea_level_pressure_7', 'sea_level_pressure_8', 'sea_level_pressure_9', 'sea_level_pressure_10', 'sea_level_pressure_11', 'sea_level_pressure_12', 'sea_level_pressure_13', 'sea_level_pressure_14', 'sea_level_pressure_15', 'sea_level_pressure_16', 'sea_level_pressure_17', 'sea_level_pressure_18', 'sea_level_pressure_19', 'sea_level_pressure_20', 'sea_level_pressure_21', 'sea_level_pressure_22', 'sea_level_pressure_23', 'snow_depth_0', 'snow_depth_1', 'snow_depth_2', 'snow_depth_3', 'snow_depth_4', 'snow_depth_5', 'snow_depth_6', 'snow_depth_7', 'snow_depth_8', 'snow_depth_9', 'snow_depth_10', 'snow_depth_11', 'snow_depth_12', 'snow_depth_13', 'snow_depth_14', 'snow_depth_15', 'snow_depth_16', 'snow_depth_17', 'snow_depth_18', 'snow_depth_19', 'snow_depth_20', 'snow_depth_21', 'snow_depth_22', 'snow_depth_23', 'station_name', 'sunshine_duration_0', 'sunshine_duration_1', 'sunshine_duration_2', 'sunshine_duration_3', 'sunshine_duration_4', 'sunshine_duration_5', 'sunshine_duration_6', 'sunshine_duration_7', 'sunshine_duration_8', 'sunshine_duration_9', 'sunshine_duration_10', 'sunshine_duration_11', 'sunshine_duration_12', 'sunshine_duration_13', 'sunshine_duration_14', 'sunshine_duration_15', 'sunshine_duration_16', 'sunshine_duration_17', 'sunshine_duration_18', 'sunshine_duration_19', 'sunshine_duration_20', 'sunshine_duration_21', 'sunshine_duration_22', 'sunshine_duration_23', 'surface_temp_0', 'surface_temp_1', 'surface_temp_2', 'surface_temp_3', 'surface_temp_4', 'surface_temp_5', 'surface_temp_6', 'surface_temp_7', 'surface_temp_8', 'surface_temp_9', 'surface_temp_10', 'surface_temp_11', 'surface_temp_12', 'surface_temp_13', 'surface_temp_14', 'surface_temp_15', 'surface_temp_16', 'surface_temp_17', 'surface_temp_18', 'surface_temp_19', 'surface_temp_20', 'surface_temp_21', 'surface_temp_22', 'surface_temp_23', 'target', 'vapor_pressure_0', 'vapor_pressure_1', 'vapor_pressure_2', 'vapor_pressure_3', 'vapor_pressure_4', 'vapor_pressure_5', 'vapor_pressure_6', 'vapor_pressure_7', 'vapor_pressure_8', 'vapor_pressure_9', 'vapor_pressure_10', 'vapor_pressure_11', 'vapor_pressure_12', 'vapor_pressure_13', 'vapor_pressure_14', 'vapor_pressure_15', 'vapor_pressure_16', 'vapor_pressure_17', 'vapor_pressure_18', 'vapor_pressure_19', 'vapor_pressure_20', 'vapor_pressure_21', 'vapor_pressure_22', 'vapor_pressure_23', 'visibility_0', 'visibility_1', 'visibility_2', 'visibility_3', 'visibility_4', 'visibility_5', 'visibility_6', 'visibility_7', 'visibility_8', 'visibility_9', 'visibility_10', 'visibility_11', 'visibility_12', 'visibility_13', 'visibility_14', 'visibility_15', 'visibility_16', 'visibility_17', 'visibility_18', 'visibility_19', 'visibility_20', 'visibility_21', 'visibility_22', 'visibility_23', 'wind_direction_0', 'wind_direction_1', 'wind_direction_2', 'wind_direction_3', 'wind_direction_4', 'wind_direction_5', 'wind_direction_6', 'wind_direction_7', 'wind_direction_8', 'wind_direction_9', 'wind_direction_10', 'wind_direction_11', 'wind_direction_12', 'wind_direction_13', 'wind_direction_14', 'wind_direction_15', 'wind_direction_16', 'wind_direction_17', 'wind_direction_18', 'wind_direction_19', 'wind_direction_20', 'wind_direction_21', 'wind_direction_22', 'wind_direction_23', 'wind_speed_0', 'wind_speed_1', 'wind_speed_2', 'wind_speed_3', 'wind_speed_4', 'wind_speed_5', 'wind_speed_6', 'wind_speed_7', 'wind_speed_8', 'wind_speed_9', 'wind_speed_10', 'wind_speed_11', 'wind_speed_12', 'wind_speed_13', 'wind_speed_14', 'wind_speed_15', 'wind_speed_16', 'wind_speed_17', 'wind_speed_18', 'wind_speed_19', 'wind_speed_20', 'wind_speed_21', 'wind_speed_22', 'wind_speed_23', 'month', 'day', 'month_sin', 'month_cos', 'day_sin', 'day_cos', 'cloud_cover_0_lag1', 'cloud_cover_0_lag2', 'cloud_cover_0_roll3', 'cloud_cover_1_lag1', 'cloud_cover_1_lag2', 'cloud_cover_1_roll3', 'cloud_cover_2_lag1', 'cloud_cover_2_lag2', 'cloud_cover_2_roll3', 'cloud_cover_3_lag1', 'cloud_cover_3_lag2', 'cloud_cover_3_roll3', 'cloud_cover_4_lag1', 'cloud_cover_4_lag2', 'cloud_cover_4_roll3', 'cloud_cover_5_lag1', 'cloud_cover_5_lag2', 'cloud_cover_5_roll3', 'cloud_cover_6_lag1', 'cloud_cover_6_lag2', 'cloud_cover_6_roll3', 'cloud_cover_7_lag1', 'cloud_cover_7_lag2', 'cloud_cover_7_roll3', 'cloud_cover_8_lag1', 'cloud_cover_8_lag2', 'cloud_cover_8_roll3', 'cloud_cover_9_lag1', 'cloud_cover_9_lag2', 'cloud_cover_9_roll3', 'cloud_cover_10_lag1', 'cloud_cover_10_lag2', 'cloud_cover_10_roll3', 'cloud_cover_11_lag1', 'cloud_cover_11_lag2', 'cloud_cover_11_roll3', 'cloud_cover_12_lag1', 'cloud_cover_12_lag2', 'cloud_cover_12_roll3', 'cloud_cover_13_lag1', 'cloud_cover_13_lag2', 'cloud_cover_13_roll3', 'cloud_cover_14_lag1', 'cloud_cover_14_lag2', 'cloud_cover_14_roll3', 'cloud_cover_15_lag1', 'cloud_cover_15_lag2', 'cloud_cover_15_roll3', 'cloud_cover_16_lag1', 'cloud_cover_16_lag2', 'cloud_cover_16_roll3', 'cloud_cover_17_lag1', 'cloud_cover_17_lag2', 'cloud_cover_17_roll3', 'cloud_cover_18_lag1', 'cloud_cover_18_lag2', 'cloud_cover_18_roll3', 'cloud_cover_19_lag1', 'cloud_cover_19_lag2', 'cloud_cover_19_roll3', 'cloud_cover_20_lag1', 'cloud_cover_20_lag2', 'cloud_cover_20_roll3', 'cloud_cover_21_lag1', 'cloud_cover_21_lag2', 'cloud_cover_21_roll3', 'cloud_cover_22_lag1', 'cloud_cover_22_lag2', 'cloud_cover_22_roll3', 'cloud_cover_23_lag1', 'cloud_cover_23_lag2', 'cloud_cover_23_roll3', 'wind_sin_0', 'wind_cos_0', 'wind_sin_1', 'wind_cos_1', 'wind_sin_2', 'wind_cos_2', 'wind_sin_3', 'wind_cos_3', 'wind_sin_4', 'wind_cos_4', 'wind_sin_5', 'wind_cos_5', 'wind_sin_6', 'wind_cos_6', 'wind_sin_7', 'wind_cos_7', 'wind_sin_8', 'wind_cos_8', 'wind_sin_9', 'wind_cos_9', 'wind_sin_10', 'wind_cos_10', 'wind_sin_11', 'wind_cos_11', 'wind_sin_12', 'wind_cos_12', 'wind_sin_13', 'wind_cos_13', 'wind_sin_14', 'wind_cos_14', 'wind_sin_15', 'wind_cos_15', 'wind_sin_16', 'wind_cos_16', 'wind_sin_17', 'wind_cos_17', 'wind_sin_18', 'wind_cos_18', 'wind_sin_19', 'wind_cos_19', 'wind_sin_20', 'wind_cos_20', 'wind_sin_21', 'wind_cos_21', 'wind_sin_22', 'wind_cos_22', 'wind_sin_23', 'wind_cos_23', '위도', '경도', '고도', 'rainy_day_0', 'rainy_day_1', 'rainy_day_2', 'rainy_day_3', 'rainy_day_4', 'rainy_day_5', 'rainy_day_6', 'rainy_day_7', 'rainy_day_8', 'rainy_day_9', 'rainy_day_10', 'rainy_day_11', 'rainy_day_12', 'rainy_day_13', 'rainy_day_14', 'rainy_day_15', 'rainy_day_16', 'rainy_day_17', 'rainy_day_18', 'rainy_day_19', 'rainy_day_20', 'rainy_day_21', 'rainy_day_22', 'rainy_day_23', 'vapor_pressure_imputed', 'local_pressure_imputed', 'sea_level_pressure_imputed']\n"
          ]
        }
      ]
    },
    {
      "cell_type": "code",
      "source": [
        "pd.set_option('display.max_rows', None)\n",
        "\n",
        "# 결측값 계산 및 출력\n",
        "missing_counts = df.isna().sum()\n",
        "missing_cols = missing_counts[missing_counts > 0]\n",
        "\n",
        "print(f\"총 결측값이 존재하는 컬럼 수: {len(missing_cols)}\")\n",
        "print(missing_cols)"
      ],
      "metadata": {
        "colab": {
          "base_uri": "https://localhost:8080/"
        },
        "id": "lG7v0-MaQxvH",
        "outputId": "98e18022-7b9b-4b1d-cb67-7c81eb9a4b9f"
      },
      "execution_count": 475,
      "outputs": [
        {
          "output_type": "stream",
          "name": "stdout",
          "text": [
            "총 결측값이 존재하는 컬럼 수: 120\n",
            "visibility_0             18\n",
            "visibility_1             21\n",
            "visibility_2             23\n",
            "visibility_3             21\n",
            "visibility_4             22\n",
            "visibility_5             23\n",
            "visibility_6             25\n",
            "visibility_7             24\n",
            "visibility_8             26\n",
            "visibility_9             30\n",
            "visibility_10            37\n",
            "visibility_11            35\n",
            "visibility_12            25\n",
            "visibility_13            19\n",
            "visibility_14            27\n",
            "visibility_15            20\n",
            "visibility_16            33\n",
            "visibility_17            28\n",
            "visibility_18            26\n",
            "visibility_19            26\n",
            "visibility_20            25\n",
            "visibility_21            24\n",
            "visibility_22            25\n",
            "visibility_23            22\n",
            "wind_direction_0         17\n",
            "wind_direction_1         24\n",
            "wind_direction_2         24\n",
            "wind_direction_3         22\n",
            "wind_direction_4         25\n",
            "wind_direction_5         31\n",
            "wind_direction_6         27\n",
            "wind_direction_7         29\n",
            "wind_direction_8         31\n",
            "wind_direction_9         28\n",
            "wind_direction_10        25\n",
            "wind_direction_11        30\n",
            "wind_direction_12        27\n",
            "wind_direction_13        24\n",
            "wind_direction_14        23\n",
            "wind_direction_15        20\n",
            "wind_direction_16        23\n",
            "wind_direction_17        27\n",
            "wind_direction_18        24\n",
            "wind_direction_19        23\n",
            "wind_direction_20        22\n",
            "wind_direction_21        20\n",
            "wind_direction_22        17\n",
            "wind_direction_23        17\n",
            "cloud_cover_0_lag1      188\n",
            "cloud_cover_0_lag2      189\n",
            "cloud_cover_0_roll3     136\n",
            "cloud_cover_1_lag1      213\n",
            "cloud_cover_1_lag2      214\n",
            "cloud_cover_1_roll3     136\n",
            "cloud_cover_2_lag1      197\n",
            "cloud_cover_2_lag2      198\n",
            "cloud_cover_2_roll3     136\n",
            "cloud_cover_3_lag1      193\n",
            "cloud_cover_3_lag2      194\n",
            "cloud_cover_3_roll3     136\n",
            "cloud_cover_4_lag1      201\n",
            "cloud_cover_4_lag2      202\n",
            "cloud_cover_4_roll3     137\n",
            "cloud_cover_5_lag1      207\n",
            "cloud_cover_5_lag2      208\n",
            "cloud_cover_5_roll3     137\n",
            "cloud_cover_6_lag1      210\n",
            "cloud_cover_6_lag2      211\n",
            "cloud_cover_6_roll3     137\n",
            "cloud_cover_7_lag1      227\n",
            "cloud_cover_7_lag2      228\n",
            "cloud_cover_7_roll3     137\n",
            "cloud_cover_8_lag1      231\n",
            "cloud_cover_8_lag2      232\n",
            "cloud_cover_8_roll3     137\n",
            "cloud_cover_9_lag1      212\n",
            "cloud_cover_9_lag2      213\n",
            "cloud_cover_9_roll3     138\n",
            "cloud_cover_10_lag1     217\n",
            "cloud_cover_10_lag2     218\n",
            "cloud_cover_10_roll3    137\n",
            "cloud_cover_11_lag1     207\n",
            "cloud_cover_11_lag2     208\n",
            "cloud_cover_11_roll3    137\n",
            "cloud_cover_12_lag1     202\n",
            "cloud_cover_12_lag2     203\n",
            "cloud_cover_12_roll3    136\n",
            "cloud_cover_13_lag1     207\n",
            "cloud_cover_13_lag2     208\n",
            "cloud_cover_13_roll3    142\n",
            "cloud_cover_14_lag1     214\n",
            "cloud_cover_14_lag2     215\n",
            "cloud_cover_14_roll3    136\n",
            "cloud_cover_15_lag1     195\n",
            "cloud_cover_15_lag2     196\n",
            "cloud_cover_15_roll3    136\n",
            "cloud_cover_16_lag1     209\n",
            "cloud_cover_16_lag2     210\n",
            "cloud_cover_16_roll3    141\n",
            "cloud_cover_17_lag1     200\n",
            "cloud_cover_17_lag2     201\n",
            "cloud_cover_17_roll3    140\n",
            "cloud_cover_18_lag1     197\n",
            "cloud_cover_18_lag2     198\n",
            "cloud_cover_18_roll3    140\n",
            "cloud_cover_19_lag1     196\n",
            "cloud_cover_19_lag2     197\n",
            "cloud_cover_19_roll3    138\n",
            "cloud_cover_20_lag1     198\n",
            "cloud_cover_20_lag2     199\n",
            "cloud_cover_20_roll3    138\n",
            "cloud_cover_21_lag1     191\n",
            "cloud_cover_21_lag2     192\n",
            "cloud_cover_21_roll3    139\n",
            "cloud_cover_22_lag1     186\n",
            "cloud_cover_22_lag2     187\n",
            "cloud_cover_22_roll3    134\n",
            "cloud_cover_23_lag1     190\n",
            "cloud_cover_23_lag2     191\n",
            "cloud_cover_23_roll3    135\n",
            "dtype: int64\n"
          ]
        }
      ]
    },
    {
      "cell_type": "code",
      "source": [
        "# 테스트 데이터의 모든 feature 출력\n",
        "print(\"\\nTest Features:\")\n",
        "print(testD.columns.tolist())"
      ],
      "metadata": {
        "colab": {
          "base_uri": "https://localhost:8080/"
        },
        "id": "sfkL4ubNNxOg",
        "outputId": "7dd6c5ca-a344-48a2-9f46-8886056d289e"
      },
      "execution_count": 476,
      "outputs": [
        {
          "output_type": "stream",
          "name": "stdout",
          "text": [
            "\n",
            "Test Features:\n",
            "['climatology_temp', 'cloud_cover_0', 'cloud_cover_1', 'cloud_cover_2', 'cloud_cover_3', 'cloud_cover_4', 'cloud_cover_5', 'cloud_cover_6', 'cloud_cover_7', 'cloud_cover_8', 'cloud_cover_9', 'cloud_cover_10', 'cloud_cover_11', 'cloud_cover_12', 'cloud_cover_13', 'cloud_cover_14', 'cloud_cover_15', 'cloud_cover_16', 'cloud_cover_17', 'cloud_cover_18', 'cloud_cover_19', 'cloud_cover_20', 'cloud_cover_21', 'cloud_cover_22', 'cloud_cover_23', 'dew_point_0', 'dew_point_1', 'dew_point_2', 'dew_point_3', 'dew_point_4', 'dew_point_5', 'dew_point_6', 'dew_point_7', 'dew_point_8', 'dew_point_9', 'dew_point_10', 'dew_point_11', 'dew_point_12', 'dew_point_13', 'dew_point_14', 'dew_point_15', 'dew_point_16', 'dew_point_17', 'dew_point_18', 'dew_point_19', 'dew_point_20', 'dew_point_21', 'dew_point_22', 'dew_point_23', 'humidity_0', 'humidity_1', 'humidity_2', 'humidity_3', 'humidity_4', 'humidity_5', 'humidity_6', 'humidity_7', 'humidity_8', 'humidity_9', 'humidity_10', 'humidity_11', 'humidity_12', 'humidity_13', 'humidity_14', 'humidity_15', 'humidity_16', 'humidity_17', 'humidity_18', 'humidity_19', 'humidity_20', 'humidity_21', 'humidity_22', 'humidity_23', 'id', 'local_pressure_0', 'local_pressure_1', 'local_pressure_2', 'local_pressure_3', 'local_pressure_4', 'local_pressure_5', 'local_pressure_6', 'local_pressure_7', 'local_pressure_8', 'local_pressure_9', 'local_pressure_10', 'local_pressure_11', 'local_pressure_12', 'local_pressure_13', 'local_pressure_14', 'local_pressure_15', 'local_pressure_16', 'local_pressure_17', 'local_pressure_18', 'local_pressure_19', 'local_pressure_20', 'local_pressure_21', 'local_pressure_22', 'local_pressure_23', 'precipitation_0', 'precipitation_1', 'precipitation_2', 'precipitation_3', 'precipitation_4', 'precipitation_5', 'precipitation_6', 'precipitation_7', 'precipitation_8', 'precipitation_9', 'precipitation_10', 'precipitation_11', 'precipitation_12', 'precipitation_13', 'precipitation_14', 'precipitation_15', 'precipitation_16', 'precipitation_17', 'precipitation_18', 'precipitation_19', 'precipitation_20', 'precipitation_21', 'precipitation_22', 'precipitation_23', 'sea_level_pressure_0', 'sea_level_pressure_1', 'sea_level_pressure_2', 'sea_level_pressure_3', 'sea_level_pressure_4', 'sea_level_pressure_5', 'sea_level_pressure_6', 'sea_level_pressure_7', 'sea_level_pressure_8', 'sea_level_pressure_9', 'sea_level_pressure_10', 'sea_level_pressure_11', 'sea_level_pressure_12', 'sea_level_pressure_13', 'sea_level_pressure_14', 'sea_level_pressure_15', 'sea_level_pressure_16', 'sea_level_pressure_17', 'sea_level_pressure_18', 'sea_level_pressure_19', 'sea_level_pressure_20', 'sea_level_pressure_21', 'sea_level_pressure_22', 'sea_level_pressure_23', 'snow_depth_0', 'snow_depth_1', 'snow_depth_2', 'snow_depth_3', 'snow_depth_4', 'snow_depth_5', 'snow_depth_6', 'snow_depth_7', 'snow_depth_8', 'snow_depth_9', 'snow_depth_10', 'snow_depth_11', 'snow_depth_12', 'snow_depth_13', 'snow_depth_14', 'snow_depth_15', 'snow_depth_16', 'snow_depth_17', 'snow_depth_18', 'snow_depth_19', 'snow_depth_20', 'snow_depth_21', 'snow_depth_22', 'snow_depth_23', 'station_name', 'sunshine_duration_0', 'sunshine_duration_1', 'sunshine_duration_2', 'sunshine_duration_3', 'sunshine_duration_4', 'sunshine_duration_5', 'sunshine_duration_6', 'sunshine_duration_7', 'sunshine_duration_8', 'sunshine_duration_9', 'sunshine_duration_10', 'sunshine_duration_11', 'sunshine_duration_12', 'sunshine_duration_13', 'sunshine_duration_14', 'sunshine_duration_15', 'sunshine_duration_16', 'sunshine_duration_17', 'sunshine_duration_18', 'sunshine_duration_19', 'sunshine_duration_20', 'sunshine_duration_21', 'sunshine_duration_22', 'sunshine_duration_23', 'surface_temp_0', 'surface_temp_1', 'surface_temp_2', 'surface_temp_3', 'surface_temp_4', 'surface_temp_5', 'surface_temp_6', 'surface_temp_7', 'surface_temp_8', 'surface_temp_9', 'surface_temp_10', 'surface_temp_11', 'surface_temp_12', 'surface_temp_13', 'surface_temp_14', 'surface_temp_15', 'surface_temp_16', 'surface_temp_17', 'surface_temp_18', 'surface_temp_19', 'surface_temp_20', 'surface_temp_21', 'surface_temp_22', 'surface_temp_23', 'vapor_pressure_0', 'vapor_pressure_1', 'vapor_pressure_2', 'vapor_pressure_3', 'vapor_pressure_4', 'vapor_pressure_5', 'vapor_pressure_6', 'vapor_pressure_7', 'vapor_pressure_8', 'vapor_pressure_9', 'vapor_pressure_10', 'vapor_pressure_11', 'vapor_pressure_12', 'vapor_pressure_13', 'vapor_pressure_14', 'vapor_pressure_15', 'vapor_pressure_16', 'vapor_pressure_17', 'vapor_pressure_18', 'vapor_pressure_19', 'vapor_pressure_20', 'vapor_pressure_21', 'vapor_pressure_22', 'vapor_pressure_23', 'visibility_0', 'visibility_1', 'visibility_2', 'visibility_3', 'visibility_4', 'visibility_5', 'visibility_6', 'visibility_7', 'visibility_8', 'visibility_9', 'visibility_10', 'visibility_11', 'visibility_12', 'visibility_13', 'visibility_14', 'visibility_15', 'visibility_16', 'visibility_17', 'visibility_18', 'visibility_19', 'visibility_20', 'visibility_21', 'visibility_22', 'visibility_23', 'wind_direction_0', 'wind_direction_1', 'wind_direction_2', 'wind_direction_3', 'wind_direction_4', 'wind_direction_5', 'wind_direction_6', 'wind_direction_7', 'wind_direction_8', 'wind_direction_9', 'wind_direction_10', 'wind_direction_11', 'wind_direction_12', 'wind_direction_13', 'wind_direction_14', 'wind_direction_15', 'wind_direction_16', 'wind_direction_17', 'wind_direction_18', 'wind_direction_19', 'wind_direction_20', 'wind_direction_21', 'wind_direction_22', 'wind_direction_23', 'wind_speed_0', 'wind_speed_1', 'wind_speed_2', 'wind_speed_3', 'wind_speed_4', 'wind_speed_5', 'wind_speed_6', 'wind_speed_7', 'wind_speed_8', 'wind_speed_9', 'wind_speed_10', 'wind_speed_11', 'wind_speed_12', 'wind_speed_13', 'wind_speed_14', 'wind_speed_15', 'wind_speed_16', 'wind_speed_17', 'wind_speed_18', 'wind_speed_19', 'wind_speed_20', 'wind_speed_21', 'wind_speed_22', 'wind_speed_23', 'month', 'day', 'month_sin', 'month_cos', 'day_sin', 'day_cos', 'cloud_cover_0_lag1', 'cloud_cover_0_lag2', 'cloud_cover_0_roll3', 'cloud_cover_1_lag1', 'cloud_cover_1_lag2', 'cloud_cover_1_roll3', 'cloud_cover_2_lag1', 'cloud_cover_2_lag2', 'cloud_cover_2_roll3', 'cloud_cover_3_lag1', 'cloud_cover_3_lag2', 'cloud_cover_3_roll3', 'cloud_cover_4_lag1', 'cloud_cover_4_lag2', 'cloud_cover_4_roll3', 'cloud_cover_5_lag1', 'cloud_cover_5_lag2', 'cloud_cover_5_roll3', 'cloud_cover_6_lag1', 'cloud_cover_6_lag2', 'cloud_cover_6_roll3', 'cloud_cover_7_lag1', 'cloud_cover_7_lag2', 'cloud_cover_7_roll3', 'cloud_cover_8_lag1', 'cloud_cover_8_lag2', 'cloud_cover_8_roll3', 'cloud_cover_9_lag1', 'cloud_cover_9_lag2', 'cloud_cover_9_roll3', 'cloud_cover_10_lag1', 'cloud_cover_10_lag2', 'cloud_cover_10_roll3', 'cloud_cover_11_lag1', 'cloud_cover_11_lag2', 'cloud_cover_11_roll3', 'cloud_cover_12_lag1', 'cloud_cover_12_lag2', 'cloud_cover_12_roll3', 'cloud_cover_13_lag1', 'cloud_cover_13_lag2', 'cloud_cover_13_roll3', 'cloud_cover_14_lag1', 'cloud_cover_14_lag2', 'cloud_cover_14_roll3', 'cloud_cover_15_lag1', 'cloud_cover_15_lag2', 'cloud_cover_15_roll3', 'cloud_cover_16_lag1', 'cloud_cover_16_lag2', 'cloud_cover_16_roll3', 'cloud_cover_17_lag1', 'cloud_cover_17_lag2', 'cloud_cover_17_roll3', 'cloud_cover_18_lag1', 'cloud_cover_18_lag2', 'cloud_cover_18_roll3', 'cloud_cover_19_lag1', 'cloud_cover_19_lag2', 'cloud_cover_19_roll3', 'cloud_cover_20_lag1', 'cloud_cover_20_lag2', 'cloud_cover_20_roll3', 'cloud_cover_21_lag1', 'cloud_cover_21_lag2', 'cloud_cover_21_roll3', 'cloud_cover_22_lag1', 'cloud_cover_22_lag2', 'cloud_cover_22_roll3', 'cloud_cover_23_lag1', 'cloud_cover_23_lag2', 'cloud_cover_23_roll3', 'wind_sin_0', 'wind_cos_0', 'wind_sin_1', 'wind_cos_1', 'wind_sin_2', 'wind_cos_2', 'wind_sin_3', 'wind_cos_3', 'wind_sin_4', 'wind_cos_4', 'wind_sin_5', 'wind_cos_5', 'wind_sin_6', 'wind_cos_6', 'wind_sin_7', 'wind_cos_7', 'wind_sin_8', 'wind_cos_8', 'wind_sin_9', 'wind_cos_9', 'wind_sin_10', 'wind_cos_10', 'wind_sin_11', 'wind_cos_11', 'wind_sin_12', 'wind_cos_12', 'wind_sin_13', 'wind_cos_13', 'wind_sin_14', 'wind_cos_14', 'wind_sin_15', 'wind_cos_15', 'wind_sin_16', 'wind_cos_16', 'wind_sin_17', 'wind_cos_17', 'wind_sin_18', 'wind_cos_18', 'wind_sin_19', 'wind_cos_19', 'wind_sin_20', 'wind_cos_20', 'wind_sin_21', 'wind_cos_21', 'wind_sin_22', 'wind_cos_22', 'wind_sin_23', 'wind_cos_23', '위도', '경도', '고도', 'rainy_day_0', 'rainy_day_1', 'rainy_day_2', 'rainy_day_3', 'rainy_day_4', 'rainy_day_5', 'rainy_day_6', 'rainy_day_7', 'rainy_day_8', 'rainy_day_9', 'rainy_day_10', 'rainy_day_11', 'rainy_day_12', 'rainy_day_13', 'rainy_day_14', 'rainy_day_15', 'rainy_day_16', 'rainy_day_17', 'rainy_day_18', 'rainy_day_19', 'rainy_day_20', 'rainy_day_21', 'rainy_day_22', 'rainy_day_23', 'vapor_pressure_imputed', 'local_pressure_imputed', 'sea_level_pressure_imputed']\n"
          ]
        }
      ]
    },
    {
      "cell_type": "code",
      "source": [
        "exclude_features = [\n",
        "    'id', 'station_name', 'target', 'month', 'day',\n",
        "    'vapor_pressure_imputed', 'local_pressure_imputed', 'sea_level_pressure_imputed'\n",
        "]\n",
        "\n",
        "# cloud_cover lag/roll\n",
        "for i in range(24):\n",
        "    exclude_features.append(f'cloud_cover_{i}_lag1')\n",
        "    exclude_features.append(f'cloud_cover_{i}_lag2')\n",
        "    exclude_features.append(f'cloud_cover_{i}_roll3')\n",
        "\n",
        "# visibility\n",
        "for i in range(24):\n",
        "    exclude_features.append(f'visibility_{i}')\n",
        "    exclude_features.append(f'wind_direction_{i}')\n",
        "\n",
        "X_train = df.drop(columns=exclude_features, errors='ignore')\n",
        "y_train = df['target'].copy()\n",
        "X_test = testD.drop(columns=exclude_features, errors='ignore')\n"
      ],
      "metadata": {
        "id": "0PGB-0F4Nl_P"
      },
      "execution_count": 477,
      "outputs": []
    },
    {
      "cell_type": "code",
      "source": [
        "print(\"\\nTest Features:\")\n",
        "print(X_train.columns.tolist())"
      ],
      "metadata": {
        "colab": {
          "base_uri": "https://localhost:8080/"
        },
        "id": "Rkw7bKpLnc7q",
        "outputId": "b7ddc878-e00f-4172-ff65-6ad5fd2fdf45"
      },
      "execution_count": 478,
      "outputs": [
        {
          "output_type": "stream",
          "name": "stdout",
          "text": [
            "\n",
            "Test Features:\n",
            "['climatology_temp', 'cloud_cover_0', 'cloud_cover_1', 'cloud_cover_2', 'cloud_cover_3', 'cloud_cover_4', 'cloud_cover_5', 'cloud_cover_6', 'cloud_cover_7', 'cloud_cover_8', 'cloud_cover_9', 'cloud_cover_10', 'cloud_cover_11', 'cloud_cover_12', 'cloud_cover_13', 'cloud_cover_14', 'cloud_cover_15', 'cloud_cover_16', 'cloud_cover_17', 'cloud_cover_18', 'cloud_cover_19', 'cloud_cover_20', 'cloud_cover_21', 'cloud_cover_22', 'cloud_cover_23', 'dew_point_0', 'dew_point_1', 'dew_point_2', 'dew_point_3', 'dew_point_4', 'dew_point_5', 'dew_point_6', 'dew_point_7', 'dew_point_8', 'dew_point_9', 'dew_point_10', 'dew_point_11', 'dew_point_12', 'dew_point_13', 'dew_point_14', 'dew_point_15', 'dew_point_16', 'dew_point_17', 'dew_point_18', 'dew_point_19', 'dew_point_20', 'dew_point_21', 'dew_point_22', 'dew_point_23', 'humidity_0', 'humidity_1', 'humidity_2', 'humidity_3', 'humidity_4', 'humidity_5', 'humidity_6', 'humidity_7', 'humidity_8', 'humidity_9', 'humidity_10', 'humidity_11', 'humidity_12', 'humidity_13', 'humidity_14', 'humidity_15', 'humidity_16', 'humidity_17', 'humidity_18', 'humidity_19', 'humidity_20', 'humidity_21', 'humidity_22', 'humidity_23', 'local_pressure_0', 'local_pressure_1', 'local_pressure_2', 'local_pressure_3', 'local_pressure_4', 'local_pressure_5', 'local_pressure_6', 'local_pressure_7', 'local_pressure_8', 'local_pressure_9', 'local_pressure_10', 'local_pressure_11', 'local_pressure_12', 'local_pressure_13', 'local_pressure_14', 'local_pressure_15', 'local_pressure_16', 'local_pressure_17', 'local_pressure_18', 'local_pressure_19', 'local_pressure_20', 'local_pressure_21', 'local_pressure_22', 'local_pressure_23', 'precipitation_0', 'precipitation_1', 'precipitation_2', 'precipitation_3', 'precipitation_4', 'precipitation_5', 'precipitation_6', 'precipitation_7', 'precipitation_8', 'precipitation_9', 'precipitation_10', 'precipitation_11', 'precipitation_12', 'precipitation_13', 'precipitation_14', 'precipitation_15', 'precipitation_16', 'precipitation_17', 'precipitation_18', 'precipitation_19', 'precipitation_20', 'precipitation_21', 'precipitation_22', 'precipitation_23', 'sea_level_pressure_0', 'sea_level_pressure_1', 'sea_level_pressure_2', 'sea_level_pressure_3', 'sea_level_pressure_4', 'sea_level_pressure_5', 'sea_level_pressure_6', 'sea_level_pressure_7', 'sea_level_pressure_8', 'sea_level_pressure_9', 'sea_level_pressure_10', 'sea_level_pressure_11', 'sea_level_pressure_12', 'sea_level_pressure_13', 'sea_level_pressure_14', 'sea_level_pressure_15', 'sea_level_pressure_16', 'sea_level_pressure_17', 'sea_level_pressure_18', 'sea_level_pressure_19', 'sea_level_pressure_20', 'sea_level_pressure_21', 'sea_level_pressure_22', 'sea_level_pressure_23', 'snow_depth_0', 'snow_depth_1', 'snow_depth_2', 'snow_depth_3', 'snow_depth_4', 'snow_depth_5', 'snow_depth_6', 'snow_depth_7', 'snow_depth_8', 'snow_depth_9', 'snow_depth_10', 'snow_depth_11', 'snow_depth_12', 'snow_depth_13', 'snow_depth_14', 'snow_depth_15', 'snow_depth_16', 'snow_depth_17', 'snow_depth_18', 'snow_depth_19', 'snow_depth_20', 'snow_depth_21', 'snow_depth_22', 'snow_depth_23', 'sunshine_duration_0', 'sunshine_duration_1', 'sunshine_duration_2', 'sunshine_duration_3', 'sunshine_duration_4', 'sunshine_duration_5', 'sunshine_duration_6', 'sunshine_duration_7', 'sunshine_duration_8', 'sunshine_duration_9', 'sunshine_duration_10', 'sunshine_duration_11', 'sunshine_duration_12', 'sunshine_duration_13', 'sunshine_duration_14', 'sunshine_duration_15', 'sunshine_duration_16', 'sunshine_duration_17', 'sunshine_duration_18', 'sunshine_duration_19', 'sunshine_duration_20', 'sunshine_duration_21', 'sunshine_duration_22', 'sunshine_duration_23', 'surface_temp_0', 'surface_temp_1', 'surface_temp_2', 'surface_temp_3', 'surface_temp_4', 'surface_temp_5', 'surface_temp_6', 'surface_temp_7', 'surface_temp_8', 'surface_temp_9', 'surface_temp_10', 'surface_temp_11', 'surface_temp_12', 'surface_temp_13', 'surface_temp_14', 'surface_temp_15', 'surface_temp_16', 'surface_temp_17', 'surface_temp_18', 'surface_temp_19', 'surface_temp_20', 'surface_temp_21', 'surface_temp_22', 'surface_temp_23', 'vapor_pressure_0', 'vapor_pressure_1', 'vapor_pressure_2', 'vapor_pressure_3', 'vapor_pressure_4', 'vapor_pressure_5', 'vapor_pressure_6', 'vapor_pressure_7', 'vapor_pressure_8', 'vapor_pressure_9', 'vapor_pressure_10', 'vapor_pressure_11', 'vapor_pressure_12', 'vapor_pressure_13', 'vapor_pressure_14', 'vapor_pressure_15', 'vapor_pressure_16', 'vapor_pressure_17', 'vapor_pressure_18', 'vapor_pressure_19', 'vapor_pressure_20', 'vapor_pressure_21', 'vapor_pressure_22', 'vapor_pressure_23', 'wind_speed_0', 'wind_speed_1', 'wind_speed_2', 'wind_speed_3', 'wind_speed_4', 'wind_speed_5', 'wind_speed_6', 'wind_speed_7', 'wind_speed_8', 'wind_speed_9', 'wind_speed_10', 'wind_speed_11', 'wind_speed_12', 'wind_speed_13', 'wind_speed_14', 'wind_speed_15', 'wind_speed_16', 'wind_speed_17', 'wind_speed_18', 'wind_speed_19', 'wind_speed_20', 'wind_speed_21', 'wind_speed_22', 'wind_speed_23', 'month_sin', 'month_cos', 'day_sin', 'day_cos', 'wind_sin_0', 'wind_cos_0', 'wind_sin_1', 'wind_cos_1', 'wind_sin_2', 'wind_cos_2', 'wind_sin_3', 'wind_cos_3', 'wind_sin_4', 'wind_cos_4', 'wind_sin_5', 'wind_cos_5', 'wind_sin_6', 'wind_cos_6', 'wind_sin_7', 'wind_cos_7', 'wind_sin_8', 'wind_cos_8', 'wind_sin_9', 'wind_cos_9', 'wind_sin_10', 'wind_cos_10', 'wind_sin_11', 'wind_cos_11', 'wind_sin_12', 'wind_cos_12', 'wind_sin_13', 'wind_cos_13', 'wind_sin_14', 'wind_cos_14', 'wind_sin_15', 'wind_cos_15', 'wind_sin_16', 'wind_cos_16', 'wind_sin_17', 'wind_cos_17', 'wind_sin_18', 'wind_cos_18', 'wind_sin_19', 'wind_cos_19', 'wind_sin_20', 'wind_cos_20', 'wind_sin_21', 'wind_cos_21', 'wind_sin_22', 'wind_cos_22', 'wind_sin_23', 'wind_cos_23', '위도', '경도', '고도', 'rainy_day_0', 'rainy_day_1', 'rainy_day_2', 'rainy_day_3', 'rainy_day_4', 'rainy_day_5', 'rainy_day_6', 'rainy_day_7', 'rainy_day_8', 'rainy_day_9', 'rainy_day_10', 'rainy_day_11', 'rainy_day_12', 'rainy_day_13', 'rainy_day_14', 'rainy_day_15', 'rainy_day_16', 'rainy_day_17', 'rainy_day_18', 'rainy_day_19', 'rainy_day_20', 'rainy_day_21', 'rainy_day_22', 'rainy_day_23']\n"
          ]
        }
      ]
    },
    {
      "cell_type": "code",
      "source": [
        "print(np.isnan(X_test).sum())"
      ],
      "metadata": {
        "colab": {
          "base_uri": "https://localhost:8080/"
        },
        "id": "LNa68HQntJfX",
        "outputId": "c8bc9e69-b125-4aed-85c8-96def0e7e9fe"
      },
      "execution_count": 479,
      "outputs": [
        {
          "output_type": "stream",
          "name": "stdout",
          "text": [
            "climatology_temp         0\n",
            "cloud_cover_0            0\n",
            "cloud_cover_1            0\n",
            "cloud_cover_2            0\n",
            "cloud_cover_3            0\n",
            "cloud_cover_4            0\n",
            "cloud_cover_5            0\n",
            "cloud_cover_6            0\n",
            "cloud_cover_7            0\n",
            "cloud_cover_8            0\n",
            "cloud_cover_9            0\n",
            "cloud_cover_10           0\n",
            "cloud_cover_11           0\n",
            "cloud_cover_12           0\n",
            "cloud_cover_13           0\n",
            "cloud_cover_14           0\n",
            "cloud_cover_15           0\n",
            "cloud_cover_16           0\n",
            "cloud_cover_17           0\n",
            "cloud_cover_18           0\n",
            "cloud_cover_19           0\n",
            "cloud_cover_20           0\n",
            "cloud_cover_21           0\n",
            "cloud_cover_22           0\n",
            "cloud_cover_23           0\n",
            "dew_point_0              0\n",
            "dew_point_1              0\n",
            "dew_point_2              0\n",
            "dew_point_3              0\n",
            "dew_point_4              0\n",
            "dew_point_5              0\n",
            "dew_point_6              0\n",
            "dew_point_7              0\n",
            "dew_point_8              0\n",
            "dew_point_9              0\n",
            "dew_point_10             0\n",
            "dew_point_11             0\n",
            "dew_point_12             0\n",
            "dew_point_13             0\n",
            "dew_point_14             0\n",
            "dew_point_15             0\n",
            "dew_point_16             0\n",
            "dew_point_17             0\n",
            "dew_point_18             0\n",
            "dew_point_19             0\n",
            "dew_point_20             0\n",
            "dew_point_21             0\n",
            "dew_point_22             0\n",
            "dew_point_23             0\n",
            "humidity_0               0\n",
            "humidity_1               0\n",
            "humidity_2               0\n",
            "humidity_3               0\n",
            "humidity_4               0\n",
            "humidity_5               0\n",
            "humidity_6               0\n",
            "humidity_7               0\n",
            "humidity_8               0\n",
            "humidity_9               0\n",
            "humidity_10              0\n",
            "humidity_11              0\n",
            "humidity_12              0\n",
            "humidity_13              0\n",
            "humidity_14              0\n",
            "humidity_15              0\n",
            "humidity_16              0\n",
            "humidity_17              0\n",
            "humidity_18              0\n",
            "humidity_19              0\n",
            "humidity_20              0\n",
            "humidity_21              0\n",
            "humidity_22              0\n",
            "humidity_23              0\n",
            "local_pressure_0         0\n",
            "local_pressure_1         0\n",
            "local_pressure_2         0\n",
            "local_pressure_3         0\n",
            "local_pressure_4         0\n",
            "local_pressure_5         0\n",
            "local_pressure_6         0\n",
            "local_pressure_7         0\n",
            "local_pressure_8         0\n",
            "local_pressure_9         0\n",
            "local_pressure_10        0\n",
            "local_pressure_11        0\n",
            "local_pressure_12        0\n",
            "local_pressure_13        0\n",
            "local_pressure_14        0\n",
            "local_pressure_15        0\n",
            "local_pressure_16        0\n",
            "local_pressure_17        0\n",
            "local_pressure_18        0\n",
            "local_pressure_19        0\n",
            "local_pressure_20        0\n",
            "local_pressure_21        0\n",
            "local_pressure_22        0\n",
            "local_pressure_23        0\n",
            "precipitation_0          0\n",
            "precipitation_1          0\n",
            "precipitation_2          0\n",
            "precipitation_3          0\n",
            "precipitation_4          0\n",
            "precipitation_5          0\n",
            "precipitation_6          0\n",
            "precipitation_7          0\n",
            "precipitation_8          0\n",
            "precipitation_9          0\n",
            "precipitation_10         0\n",
            "precipitation_11         0\n",
            "precipitation_12         0\n",
            "precipitation_13         0\n",
            "precipitation_14         0\n",
            "precipitation_15         0\n",
            "precipitation_16         0\n",
            "precipitation_17         0\n",
            "precipitation_18         0\n",
            "precipitation_19         0\n",
            "precipitation_20         0\n",
            "precipitation_21         0\n",
            "precipitation_22         0\n",
            "precipitation_23         0\n",
            "sea_level_pressure_0     0\n",
            "sea_level_pressure_1     0\n",
            "sea_level_pressure_2     0\n",
            "sea_level_pressure_3     0\n",
            "sea_level_pressure_4     0\n",
            "sea_level_pressure_5     0\n",
            "sea_level_pressure_6     0\n",
            "sea_level_pressure_7     0\n",
            "sea_level_pressure_8     0\n",
            "sea_level_pressure_9     0\n",
            "sea_level_pressure_10    0\n",
            "sea_level_pressure_11    0\n",
            "sea_level_pressure_12    0\n",
            "sea_level_pressure_13    0\n",
            "sea_level_pressure_14    0\n",
            "sea_level_pressure_15    0\n",
            "sea_level_pressure_16    0\n",
            "sea_level_pressure_17    0\n",
            "sea_level_pressure_18    0\n",
            "sea_level_pressure_19    0\n",
            "sea_level_pressure_20    0\n",
            "sea_level_pressure_21    0\n",
            "sea_level_pressure_22    0\n",
            "sea_level_pressure_23    0\n",
            "snow_depth_0             0\n",
            "snow_depth_1             0\n",
            "snow_depth_2             0\n",
            "snow_depth_3             0\n",
            "snow_depth_4             0\n",
            "snow_depth_5             0\n",
            "snow_depth_6             0\n",
            "snow_depth_7             0\n",
            "snow_depth_8             0\n",
            "snow_depth_9             0\n",
            "snow_depth_10            0\n",
            "snow_depth_11            0\n",
            "snow_depth_12            0\n",
            "snow_depth_13            0\n",
            "snow_depth_14            0\n",
            "snow_depth_15            0\n",
            "snow_depth_16            0\n",
            "snow_depth_17            0\n",
            "snow_depth_18            0\n",
            "snow_depth_19            0\n",
            "snow_depth_20            0\n",
            "snow_depth_21            0\n",
            "snow_depth_22            0\n",
            "snow_depth_23            0\n",
            "sunshine_duration_0      0\n",
            "sunshine_duration_1      0\n",
            "sunshine_duration_2      0\n",
            "sunshine_duration_3      0\n",
            "sunshine_duration_4      0\n",
            "sunshine_duration_5      0\n",
            "sunshine_duration_6      0\n",
            "sunshine_duration_7      0\n",
            "sunshine_duration_8      0\n",
            "sunshine_duration_9      0\n",
            "sunshine_duration_10     0\n",
            "sunshine_duration_11     0\n",
            "sunshine_duration_12     0\n",
            "sunshine_duration_13     0\n",
            "sunshine_duration_14     0\n",
            "sunshine_duration_15     0\n",
            "sunshine_duration_16     0\n",
            "sunshine_duration_17     0\n",
            "sunshine_duration_18     0\n",
            "sunshine_duration_19     0\n",
            "sunshine_duration_20     0\n",
            "sunshine_duration_21     0\n",
            "sunshine_duration_22     0\n",
            "sunshine_duration_23     0\n",
            "surface_temp_0           0\n",
            "surface_temp_1           0\n",
            "surface_temp_2           0\n",
            "surface_temp_3           0\n",
            "surface_temp_4           0\n",
            "surface_temp_5           0\n",
            "surface_temp_6           0\n",
            "surface_temp_7           0\n",
            "surface_temp_8           0\n",
            "surface_temp_9           0\n",
            "surface_temp_10          0\n",
            "surface_temp_11          0\n",
            "surface_temp_12          0\n",
            "surface_temp_13          0\n",
            "surface_temp_14          0\n",
            "surface_temp_15          0\n",
            "surface_temp_16          0\n",
            "surface_temp_17          0\n",
            "surface_temp_18          0\n",
            "surface_temp_19          0\n",
            "surface_temp_20          0\n",
            "surface_temp_21          0\n",
            "surface_temp_22          0\n",
            "surface_temp_23          0\n",
            "vapor_pressure_0         0\n",
            "vapor_pressure_1         0\n",
            "vapor_pressure_2         0\n",
            "vapor_pressure_3         0\n",
            "vapor_pressure_4         0\n",
            "vapor_pressure_5         0\n",
            "vapor_pressure_6         0\n",
            "vapor_pressure_7         0\n",
            "vapor_pressure_8         0\n",
            "vapor_pressure_9         0\n",
            "vapor_pressure_10        0\n",
            "vapor_pressure_11        0\n",
            "vapor_pressure_12        0\n",
            "vapor_pressure_13        0\n",
            "vapor_pressure_14        0\n",
            "vapor_pressure_15        0\n",
            "vapor_pressure_16        0\n",
            "vapor_pressure_17        0\n",
            "vapor_pressure_18        0\n",
            "vapor_pressure_19        0\n",
            "vapor_pressure_20        0\n",
            "vapor_pressure_21        0\n",
            "vapor_pressure_22        0\n",
            "vapor_pressure_23        0\n",
            "wind_speed_0             0\n",
            "wind_speed_1             0\n",
            "wind_speed_2             0\n",
            "wind_speed_3             0\n",
            "wind_speed_4             0\n",
            "wind_speed_5             0\n",
            "wind_speed_6             0\n",
            "wind_speed_7             0\n",
            "wind_speed_8             0\n",
            "wind_speed_9             0\n",
            "wind_speed_10            0\n",
            "wind_speed_11            0\n",
            "wind_speed_12            0\n",
            "wind_speed_13            0\n",
            "wind_speed_14            0\n",
            "wind_speed_15            0\n",
            "wind_speed_16            0\n",
            "wind_speed_17            0\n",
            "wind_speed_18            0\n",
            "wind_speed_19            0\n",
            "wind_speed_20            0\n",
            "wind_speed_21            0\n",
            "wind_speed_22            0\n",
            "wind_speed_23            0\n",
            "month_sin                0\n",
            "month_cos                0\n",
            "day_sin                  0\n",
            "day_cos                  0\n",
            "wind_sin_0               0\n",
            "wind_cos_0               0\n",
            "wind_sin_1               0\n",
            "wind_cos_1               0\n",
            "wind_sin_2               0\n",
            "wind_cos_2               0\n",
            "wind_sin_3               0\n",
            "wind_cos_3               0\n",
            "wind_sin_4               0\n",
            "wind_cos_4               0\n",
            "wind_sin_5               0\n",
            "wind_cos_5               0\n",
            "wind_sin_6               0\n",
            "wind_cos_6               0\n",
            "wind_sin_7               0\n",
            "wind_cos_7               0\n",
            "wind_sin_8               0\n",
            "wind_cos_8               0\n",
            "wind_sin_9               0\n",
            "wind_cos_9               0\n",
            "wind_sin_10              0\n",
            "wind_cos_10              0\n",
            "wind_sin_11              0\n",
            "wind_cos_11              0\n",
            "wind_sin_12              0\n",
            "wind_cos_12              0\n",
            "wind_sin_13              0\n",
            "wind_cos_13              0\n",
            "wind_sin_14              0\n",
            "wind_cos_14              0\n",
            "wind_sin_15              0\n",
            "wind_cos_15              0\n",
            "wind_sin_16              0\n",
            "wind_cos_16              0\n",
            "wind_sin_17              0\n",
            "wind_cos_17              0\n",
            "wind_sin_18              0\n",
            "wind_cos_18              0\n",
            "wind_sin_19              0\n",
            "wind_cos_19              0\n",
            "wind_sin_20              0\n",
            "wind_cos_20              0\n",
            "wind_sin_21              0\n",
            "wind_cos_21              0\n",
            "wind_sin_22              0\n",
            "wind_cos_22              0\n",
            "wind_sin_23              0\n",
            "wind_cos_23              0\n",
            "위도                       0\n",
            "경도                       0\n",
            "고도                       0\n",
            "rainy_day_0              0\n",
            "rainy_day_1              0\n",
            "rainy_day_2              0\n",
            "rainy_day_3              0\n",
            "rainy_day_4              0\n",
            "rainy_day_5              0\n",
            "rainy_day_6              0\n",
            "rainy_day_7              0\n",
            "rainy_day_8              0\n",
            "rainy_day_9              0\n",
            "rainy_day_10             0\n",
            "rainy_day_11             0\n",
            "rainy_day_12             0\n",
            "rainy_day_13             0\n",
            "rainy_day_14             0\n",
            "rainy_day_15             0\n",
            "rainy_day_16             0\n",
            "rainy_day_17             0\n",
            "rainy_day_18             0\n",
            "rainy_day_19             0\n",
            "rainy_day_20             0\n",
            "rainy_day_21             0\n",
            "rainy_day_22             0\n",
            "rainy_day_23             0\n",
            "dtype: int64\n"
          ]
        }
      ]
    },
    {
      "cell_type": "code",
      "source": [
        "import pandas as pd\n",
        "from sklearn.ensemble import RandomForestRegressor, StackingRegressor\n",
        "from sklearn.linear_model import Ridge\n",
        "from xgboost import XGBRegressor\n",
        "from sklearn.model_selection import train_test_split\n",
        "\n",
        "# 1. 사용하지 않을 피처 제거\n",
        "\n",
        "\n",
        "# 2. base 모델 정의\n",
        "base_models = [\n",
        "    ('xgb', XGBRegressor(\n",
        "        n_estimators=300,\n",
        "        learning_rate=0.05,\n",
        "        max_depth=6,\n",
        "        subsample=0.8,\n",
        "        colsample_bytree=0.8,\n",
        "        random_state=42,\n",
        "        n_jobs =-1\n",
        "    )),\n",
        "    ('rf', RandomForestRegressor(\n",
        "        n_estimators=200,\n",
        "        max_depth=10,\n",
        "        random_state=42,\n",
        "        n_jobs =-1\n",
        "    )),\n",
        "    ('ridge', Ridge(alpha=1.0))\n",
        "]\n",
        "\n",
        "# 3. meta 모델 (최종 예측자)\n",
        "meta_model = Ridge(alpha=1.0)\n",
        "\n",
        "# 4. 스태킹 모델 정의\n",
        "stacking_model = StackingRegressor(\n",
        "    estimators=base_models,\n",
        "    final_estimator=meta_model,\n",
        "    passthrough=True,  # base 모델의 input도 meta에 함께 전달\n",
        "    cv=5,\n",
        "    n_jobs=-1\n",
        ")\n",
        "\n",
        "# 5. 학습\n",
        "stacking_model.fit(X_train, y_train)\n",
        "\n",
        "# 6. 예측\n",
        "y_pred = stacking_model.predict(X_test)\n",
        "\n",
        "# 7. 결과 저장\n",
        "submission = testD.copy().reset_index(drop=True)\n",
        "submission['prediction'] = y_pred\n",
        "submission[['id', 'prediction']].to_csv(\"submission_stacking.csv\", index=False)"
      ],
      "metadata": {
        "id": "FMogz0x9Bkbi"
      },
      "execution_count": null,
      "outputs": []
    },
    {
      "cell_type": "code",
      "source": [
        "from google.colab import files\n",
        "files.download(\"submission_stacking.csv\")"
      ],
      "metadata": {
        "id": "Q42w6nL5Bnvl"
      },
      "execution_count": null,
      "outputs": []
    }
  ]
}